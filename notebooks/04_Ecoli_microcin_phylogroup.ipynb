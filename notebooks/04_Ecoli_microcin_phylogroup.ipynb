{
 "cells": [
  {
   "cell_type": "markdown",
   "metadata": {},
   "source": [
    "I'm pretty limited for this figure, because I drew most of it by hand in inkscape, which isn't always the best idea. Nevertheless, I can atleast go through the process of generating the data for that figure."
   ]
  },
  {
   "cell_type": "markdown",
   "metadata": {},
   "source": [
    "# Libraries"
   ]
  },
  {
   "cell_type": "code",
   "execution_count": 1,
   "metadata": {},
   "outputs": [],
   "source": [
    "%load_ext rpy2.ipython"
   ]
  },
  {
   "cell_type": "code",
   "execution_count": 2,
   "metadata": {},
   "outputs": [
    {
     "name": "stderr",
     "output_type": "stream",
     "text": [
      "R[write to console]: ── Attaching packages ─────────────────────────────────────── tidyverse 1.3.1 ──\n",
      "\n",
      "R[write to console]: ✔ ggplot2 3.3.6     ✔ purrr   0.3.4\n",
      "✔ tibble  3.1.7     ✔ dplyr   1.0.9\n",
      "✔ tidyr   1.2.0     ✔ stringr 1.4.0\n",
      "✔ readr   2.1.2     ✔ forcats 0.5.1\n",
      "\n",
      "R[write to console]: ── Conflicts ────────────────────────────────────────── tidyverse_conflicts() ──\n",
      "✖ dplyr::filter() masks stats::filter()\n",
      "✖ dplyr::lag()    masks stats::lag()\n",
      "\n"
     ]
    }
   ],
   "source": [
    "%%R \n",
    "library(tidyverse)\n",
    "library(readxl)"
   ]
  },
  {
   "cell_type": "markdown",
   "metadata": {},
   "source": [
    "# Data"
   ]
  },
  {
   "cell_type": "code",
   "execution_count": 3,
   "metadata": {},
   "outputs": [
    {
     "name": "stdout",
     "output_type": "stream",
     "text": [
      "Rows: 7262 Columns: 25\n",
      "── Column specification ────────────────────────────────────────────────────────\n",
      "Delimiter: \",\"\n",
      "chr  (8): qseqid, sseqid, component, cinful_id, pephash, sample, contig, seq\n",
      "dbl (13): pident, length, mismatch, gapopen, qstart, qend, sstart, send, eva...\n",
      "lgl  (4): hmmerHit, verified, allStandardAA, signalMatch\n",
      "\n",
      "ℹ Use `spec()` to retrieve the full column specification for this data.\n",
      "ℹ Specify the column types or set `show_col_types = FALSE` to quiet this message.\n"
     ]
    }
   ],
   "source": [
    "%%R\n",
    "best_hits <- read_csv(\"data/Ecoli_pangenome_best_hits.csv\")"
   ]
  },
  {
   "cell_type": "code",
   "execution_count": 4,
   "metadata": {},
   "outputs": [],
   "source": [
    "%%R\n",
    "assemblySummary_ENAInformation <- read_excel(\"data/Ecoli_assemblySummary.xlsx\", sheet=\"ENA-Information\")"
   ]
  },
  {
   "cell_type": "code",
   "execution_count": 5,
   "metadata": {},
   "outputs": [
    {
     "name": "stdout",
     "output_type": "stream",
     "text": [
      "New names:\n",
      "• `` -> `...8`\n",
      "• `` -> `...20`\n",
      "• `` -> `...28`\n",
      "• `` -> `...35`\n"
     ]
    }
   ],
   "source": [
    "%%R -o assemblySummary_SequencedGenomes\n",
    "assemblySummary_SequencedGenomes <- read_excel(\"data/Ecoli_assemblySummary.xlsx\", sheet=\"Sequenced-Genomes\", skip=5) %>%\n",
    "\tseparate(\"Sequence_Name\",c(\"phylogroup\")) %>%\n",
    "\tselect(c(\"Genome_ID\",\"phylogroup\",\"Isolation source\",\"Strain Category\")) %>%\n",
    "\trename(\"GEMBASE_NAME\"=\"Genome_ID\") %>%\n",
    "\tdrop_na()\n"
   ]
  },
  {
   "cell_type": "code",
   "execution_count": 6,
   "metadata": {},
   "outputs": [
    {
     "name": "stdout",
     "output_type": "stream",
     "text": [
      "Joining, by = \"GEMBASE_NAME\"\n"
     ]
    }
   ],
   "source": [
    "%%R -o assemblySummary_ENAInformation_phylogroup\n",
    "assemblySummary_ENAInformation_phylogroup <- assemblySummary_ENAInformation %>% \n",
    "\tfull_join(assemblySummary_SequencedGenomes) %>%\n",
    "\tdrop_na()\n"
   ]
  },
  {
   "cell_type": "code",
   "execution_count": 7,
   "metadata": {},
   "outputs": [],
   "source": [
    "%%R -o best_hits_assemblyID\n",
    "best_hits_assemblyID <- best_hits %>%\n",
    "\tseparate(cinful_id,c(NA, \"ASSEMBLY_ACC_ID\"), sep=\"/\") %>%\n",
    "\tseparate(ASSEMBLY_ACC_ID, c(\"ASSEMBLY_ACC\"), sep = \"[.]\")"
   ]
  },
  {
   "cell_type": "code",
   "execution_count": 8,
   "metadata": {},
   "outputs": [
    {
     "name": "stdout",
     "output_type": "stream",
     "text": [
      "Joining, by = \"ASSEMBLY_ACC\"\n"
     ]
    }
   ],
   "source": [
    "%%R -o best_hits_phylogroup\n",
    "best_hits_phylogroup <- best_hits_assemblyID %>%\n",
    "\tfull_join(assemblySummary_ENAInformation_phylogroup) "
   ]
  },
  {
   "cell_type": "code",
   "execution_count": 9,
   "metadata": {},
   "outputs": [
    {
     "name": "stdout",
     "output_type": "stream",
     "text": [
      "`summarise()` has grouped output by 'sseqid'. You can override using the\n",
      "`.groups` argument.\n"
     ]
    }
   ],
   "source": [
    "%%R -o microcin_hits_perPhylogroup\n",
    "microcin_hits_perPhylogroup <- best_hits_phylogroup %>%\n",
    "\tfilter(component == \"microcins.verified\") %>%\n",
    "\tgroup_by(sseqid, phylogroup) %>%\n",
    "\tsummarise(n = n())\n"
   ]
  },
  {
   "cell_type": "code",
   "execution_count": 15,
   "metadata": {},
   "outputs": [
    {
     "name": "stdout",
     "output_type": "stream",
     "text": [
      "# A tibble: 9 × 9\n",
      "# Groups:   sseqid [9]\n",
      "  sseqid                        B2     F     A    B1     C     D  H299     E\n",
      "  <chr>                      <int> <int> <int> <int> <int> <int> <int> <int>\n",
      "1 E492_sp_Q9Z4N4_MCEA_KLEPN      2     1    NA    NA    NA    NA    NA    NA\n",
      "2 H47_sp_P62530_MCHB_ECOLX      24     1     1     5     1     6     3    NA\n",
      "3 I47_tr_Q712Q0_Q712Q0_ECOLX     5     1     3     5     1     6     3    NA\n",
      "4 L_tr_Q841V4_Q841V4_ECOLX       4    NA     3     2    NA     3    NA     2\n",
      "5 M_tr_Q83TS1_Q83TS1_ECOLX      39     2     7     6    NA     9     3     3\n",
      "6 N_tr_C3VUZ5_C3VUZ5_ECOLX       1    NA    NA     1    NA    NA    NA    NA\n",
      "7 PDI_tr_I6ZU90_I6ZU90_ECOLX     5     2     6     7     3     6    NA     1\n",
      "8 S_tr_H9ZMG7_H9ZMG7_ECOLX       1    NA    NA     4    NA     1     1     1\n",
      "9 V_sp_P22522_CEAV_ECOLX        87    12    37    37    10    10    17     5\n"
     ]
    }
   ],
   "source": [
    "%%R -o microcin_hits_perPhylogroup_countMatrix\n",
    "microcin_hits_perPhylogroup_countMatrix <- microcin_hits_perPhylogroup %>%\n",
    "\tpivot_wider(values_from=n, names_from=phylogroup)\n",
    "microcin_hits_perPhylogroup_countMatrix"
   ]
  },
  {
   "cell_type": "markdown",
   "metadata": {},
   "source": [
    "So that's where the data comes from. I just took the known phylogenetic relationships of the verified micrcoins, as well as the known relationships between the phylogroups and hand drew dendrograms such that each axis is phylogenetically sorted. Then the boxes were colored by the number, and left blank f NA\n",
    "\n",
    "Now we can do a little statistical assesment of how the phylogroups aren't equally represented in this analysis"
   ]
  },
  {
   "cell_type": "code",
   "execution_count": 11,
   "metadata": {},
   "outputs": [
    {
     "name": "stdout",
     "output_type": "stream",
     "text": [
      "# A tibble: 8 × 3\n",
      "  phylogroup n_assemblies freq_assemblies\n",
      "  <chr>             <int>           <dbl>\n",
      "1 A                   292          0.239 \n",
      "2 B1                  276          0.225 \n",
      "3 B2                  305          0.249 \n",
      "4 C                    16          0.0131\n",
      "5 D                   174          0.142 \n",
      "6 E                    59          0.0482\n",
      "7 F                    70          0.0572\n",
      "8 H299                 32          0.0261\n"
     ]
    }
   ],
   "source": [
    "%%R\n",
    "n_assembliesPhylogroup <- assemblySummary_ENAInformation_phylogroup %>%\n",
    "\tcount(phylogroup, name=\"n_assemblies\") %>%\n",
    "\tmutate(freq_assemblies = n_assemblies / sum(n_assemblies))\n",
    "n_assembliesPhylogroup"
   ]
  },
  {
   "cell_type": "code",
   "execution_count": 12,
   "metadata": {},
   "outputs": [
    {
     "name": "stdout",
     "output_type": "stream",
     "text": [
      "Joining, by = \"phylogroup\"\n",
      "# A tibble: 8 × 5\n",
      "  phylogroup n_microcins n_assemblies freq_assemblies expected_microcins\n",
      "  <chr>            <int>        <int>           <dbl>              <dbl>\n",
      "1 A                   57          292          0.239               96.9 \n",
      "2 B1                  67          276          0.225               91.5 \n",
      "3 B2                 168          305          0.249              101.  \n",
      "4 C                   15           16          0.0131               5.31\n",
      "5 D                   41          174          0.142               57.7 \n",
      "6 E                   12           59          0.0482              19.6 \n",
      "7 F                   19           70          0.0572              23.2 \n",
      "8 H299                27           32          0.0261              10.6 \n"
     ]
    }
   ],
   "source": [
    "%%R\n",
    "best_hits_phylogroup_expected <- best_hits_phylogroup %>%\n",
    "\tfilter(component == \"microcins.verified\") %>%\n",
    "\tgroup_by(phylogroup) %>%\n",
    "\tsummarise(n_microcins = n()) %>%\n",
    "\tfull_join(n_assembliesPhylogroup) %>%\n",
    "\tmutate(expected_microcins = sum(n_microcins) * freq_assemblies)\n",
    "best_hits_phylogroup_expected"
   ]
  },
  {
   "cell_type": "code",
   "execution_count": 13,
   "metadata": {},
   "outputs": [
    {
     "name": "stdout",
     "output_type": "stream",
     "text": [
      "\n",
      "\tChi-squared test for given probabilities\n",
      "\n",
      "data:  best_hits_phylogroup_expected$n_assemblies\n",
      "X-squared = 700.2, df = 7, p-value < 2.2e-16\n",
      "\n"
     ]
    }
   ],
   "source": [
    "%%R\n",
    "chisq.test(x = best_hits_phylogroup_expected$n_assemblies)"
   ]
  },
  {
   "cell_type": "code",
   "execution_count": 14,
   "metadata": {},
   "outputs": [
    {
     "name": "stdout",
     "output_type": "stream",
     "text": [
      "\n",
      "\tChi-squared test for given probabilities\n",
      "\n",
      "data:  best_hits_phylogroup_expected$n_microcins\n",
      "X-squared = 118.67, df = 7, p-value < 2.2e-16\n",
      "\n"
     ]
    }
   ],
   "source": [
    "%%R\n",
    "chisq.test(x = best_hits_phylogroup_expected$n_microcins, p=best_hits_phylogroup_expected$freq_assemblies)"
   ]
  },
  {
   "cell_type": "markdown",
   "metadata": {},
   "source": [
    "Now, a big question is in regards to the count matrix. Let's take a look at that"
   ]
  },
  {
   "cell_type": "code",
   "execution_count": 73,
   "metadata": {},
   "outputs": [
    {
     "name": "stdout",
     "output_type": "stream",
     "text": [
      "     C B1  A E  D  G B2  F\n",
      "I47  1  5  3 0  6  3  5  1\n",
      "M    0  6  7 3  9  3 39  2\n",
      "L    0  2  3 2  3  0  4  0\n",
      "V   10 37 37 5 10 17 87 12\n",
      "H47  1  5  1 0  6  3 24  1\n",
      "S    0  4  0 1  1  1  1  0\n",
      "PDI  3  7  6 1  6  0  5  2\n",
      "N    0  1  0 0  0  0  1  0\n"
     ]
    }
   ],
   "source": [
    "%%R\n",
    "microcin_hits_perPhylogroup_countMatrix_zero <- microcin_hits_perPhylogroup_countMatrix %>% \n",
    "    ungroup() %>%\n",
    "    rename(G = H299) %>% \n",
    "    select(sseqid,C,B1,A,E,D,G,B2,F) %>% \n",
    "    separate(sseqid, c(\"microcin\")) %>%\n",
    "    pivot_longer(C:F, names_to = \"phylogroup\") %>% \n",
    "    pivot_wider(names_from =microcin, values_from = value) %>%\n",
    "    select(phylogroup, I47,M,L,V,H47,S,PDI,N) %>% \n",
    "    pivot_longer(I47:N, names_to = \"microcin\") %>% \n",
    "    pivot_wider(names_from = phylogroup, values_from = value) %>%\n",
    "    replace(is.na(.), 0) %>% \n",
    "    remove_rownames %>%\n",
    "    column_to_rownames(var=\"microcin\")\n",
    "microcin_hits_perPhylogroup_countMatrix_zero"
   ]
  },
  {
   "cell_type": "markdown",
   "metadata": {},
   "source": [
    "So what is the expectation here? Primarily, how many Vs were expected to be in B2?\n",
    "\n",
    "We know that B2 had 305 assemblies and 168 microcins, how many of those were expected to be V?"
   ]
  },
  {
   "cell_type": "code",
   "execution_count": 74,
   "metadata": {},
   "outputs": [],
   "source": [
    "%%R \n",
    "microcin_hits_perPhylogroup_countMatrix_chisq <- chisq.test(microcin_hits_perPhylogroup_countMatrix_zero)"
   ]
  },
  {
   "cell_type": "code",
   "execution_count": 32,
   "metadata": {},
   "outputs": [
    {
     "name": "stderr",
     "output_type": "stream",
     "text": [
      "R[write to console]: corrplot 0.92 loaded\n",
      "\n"
     ]
    }
   ],
   "source": [
    "%%R\n",
    "library(corrplot)"
   ]
  },
  {
   "cell_type": "code",
   "execution_count": 76,
   "metadata": {},
   "outputs": [
    {
     "name": "stdout",
     "output_type": "stream",
     "text": [
      "quartz_off_screen \n",
      "                2 \n"
     ]
    }
   ],
   "source": [
    "%%R \n",
    "svg(\"plots/04_microcins_per_phylogroup_chisq_resids.svg\")\n",
    "corrplot(microcin_hits_perPhylogroup_countMatrix_chisq$residuals, is.cor = FALSE, \n",
    "    # col = COL2('PiYG'), \n",
    "    method = \"color\")\n",
    "dev.off()"
   ]
  },
  {
   "cell_type": "markdown",
   "metadata": {},
   "source": [
    "Honestly, this is pretty close to what I am wanting.\n",
    "\n",
    "I still would really like the matrix to be re ordered a bit.."
   ]
  },
  {
   "cell_type": "code",
   "execution_count": 64,
   "metadata": {},
   "outputs": [
    {
     "name": "stdout",
     "output_type": "stream",
     "text": [
      "# A tibble: 8 × 9\n",
      "  name      C    B1     A     E     D     G    B2     F\n",
      "  <chr> <int> <int> <int> <int> <int> <int> <int> <int>\n",
      "1 I47       1     5     3    NA     6     3     5     1\n",
      "2 M        NA     6     7     3     9     3    39     2\n",
      "3 L        NA     2     3     2     3    NA     4    NA\n",
      "4 V        10    37    37     5    10    17    87    12\n",
      "5 H47       1     5     1    NA     6     3    24     1\n",
      "6 S        NA     4    NA     1     1     1     1    NA\n",
      "7 PDI       3     7     6     1     6    NA     5     2\n",
      "8 N        NA     1    NA    NA    NA    NA     1    NA\n"
     ]
    }
   ],
   "source": []
  },
  {
   "cell_type": "code",
   "execution_count": null,
   "metadata": {},
   "outputs": [],
   "source": []
  }
 ],
 "metadata": {
  "interpreter": {
   "hash": "184da163bdcbc68ba00985bd6e7412525ff7507797be2878afd169be169c48f1"
  },
  "kernelspec": {
   "display_name": "Python 3.10.0 64-bit ('r_4.0.3': conda)",
   "language": "python",
   "name": "python3"
  },
  "language_info": {
   "codemirror_mode": {
    "name": "ipython",
    "version": 3
   },
   "file_extension": ".py",
   "mimetype": "text/x-python",
   "name": "python",
   "nbconvert_exporter": "python",
   "pygments_lexer": "ipython3",
   "version": "3.10.4"
  },
  "orig_nbformat": 4
 },
 "nbformat": 4,
 "nbformat_minor": 2
}
