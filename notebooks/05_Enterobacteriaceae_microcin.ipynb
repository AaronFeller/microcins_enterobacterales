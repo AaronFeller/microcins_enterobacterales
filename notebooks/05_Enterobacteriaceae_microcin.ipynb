{
 "cells": [
  {
   "cell_type": "markdown",
   "metadata": {
    "pycharm": {
     "name": "#%% md\n"
    }
   },
   "source": [
    "Alright, so this may be a bit more annoying than the _E. coli_ analysis, mostly for the fact that both Enterobacteriacea and Enterobacterales were lumped together in the analysis, and that I need to know how many species there were from each assembly.\n",
    "\n",
    "I'll go ahead and get the best_hits file, and try to get the species assembly information."
   ]
  },
  {
   "cell_type": "markdown",
   "metadata": {
    "pycharm": {
     "name": "#%% md\n"
    }
   },
   "source": [
    "# Libraries"
   ]
  },
  {
   "cell_type": "code",
   "execution_count": 1,
   "metadata": {
    "pycharm": {
     "name": "#%%\n"
    }
   },
   "outputs": [],
   "source": [
    "%load_ext rpy2.ipython"
   ]
  },
  {
   "cell_type": "code",
   "execution_count": 2,
   "metadata": {
    "pycharm": {
     "name": "#%%\n"
    }
   },
   "outputs": [
    {
     "name": "stderr",
     "output_type": "stream",
     "text": [
      "R[write to console]: ── Attaching packages ─────────────────────────────────────── tidyverse 1.3.1 ──\n",
      "\n",
      "R[write to console]: ✔ ggplot2 3.3.6     ✔ purrr   0.3.4\n",
      "✔ tibble  3.1.7     ✔ dplyr   1.0.9\n",
      "✔ tidyr   1.2.0     ✔ stringr 1.4.0\n",
      "✔ readr   2.1.2     ✔ forcats 0.5.1\n",
      "\n",
      "R[write to console]: ── Conflicts ────────────────────────────────────────── tidyverse_conflicts() ──\n",
      "✖ dplyr::filter() masks stats::filter()\n",
      "✖ dplyr::lag()    masks stats::lag()\n",
      "\n",
      "R[write to console]: ggtree v3.4.0 For help: https://yulab-smu.top/treedata-book/\n",
      "\n",
      "If you use the ggtree package suite in published research, please cite\n",
      "the appropriate paper(s):\n",
      "\n",
      "Guangchuang Yu, David Smith, Huachen Zhu, Yi Guan, Tommy Tsan-Yuk Lam.\n",
      "ggtree: an R package for visualization and annotation of phylogenetic\n",
      "trees with their covariates and other associated data. Methods in\n",
      "Ecology and Evolution. 2017, 8(1):28-36. doi:10.1111/2041-210X.12628\n",
      "\n",
      "Guangchuang Yu. Using ggtree to visualize data on tree-like structures.\n",
      "Current Protocols in Bioinformatics. 2020, 69:e96. doi:10.1002/cpbi.96\n",
      "\n",
      "LG Wang, TTY Lam, S Xu, Z Dai, L Zhou, T Feng, P Guo, CW Dunn, BR\n",
      "Jones, T Bradley, H Zhu, Y Guan, Y Jiang, G Yu. treeio: an R package\n",
      "for phylogenetic tree input and output with richly annotated and\n",
      "associated data. Molecular Biology and Evolution. 2020, 37(2):599-603.\n",
      "doi: 10.1093/molbev/msz240\n",
      "\n",
      "R[write to console]: \n",
      "Attaching package: ‘ggtree’\n",
      "\n",
      "\n",
      "R[write to console]: The following object is masked from ‘package:tidyr’:\n",
      "\n",
      "    expand\n",
      "\n",
      "\n",
      "R[write to console]: \n",
      "Attaching package: ‘ggstance’\n",
      "\n",
      "\n",
      "R[write to console]: The following objects are masked from ‘package:ggplot2’:\n",
      "\n",
      "    geom_errorbarh, GeomErrorbarh\n",
      "\n",
      "\n"
     ]
    }
   ],
   "source": [
    "%%R\n",
    "library(tidyverse)\n",
    "library(ggtree)\n",
    "library(ggstance)"
   ]
  },
  {
   "cell_type": "code",
   "execution_count": 3,
   "metadata": {
    "pycharm": {
     "name": "#%%\n"
    }
   },
   "outputs": [
    {
     "name": "stdout",
     "output_type": "stream",
     "text": [
      "Rows: 16524 Columns: 25\n",
      "── Column specification ────────────────────────────────────────────────────────\n",
      "Delimiter: \",\"\n",
      "chr  (8): qseqid, sseqid, component, cinful_id, pephash, sample, contig, seq\n",
      "dbl (13): pident, length, mismatch, gapopen, qstart, qend, sstart, send, eva...\n",
      "lgl  (4): hmmerHit, verified, allStandardAA, signalMatch\n",
      "\n",
      "ℹ Use `spec()` to retrieve the full column specification for this data.\n",
      "ℹ Specify the column types or set `show_col_types = FALSE` to quiet this message.\n",
      "# A tibble: 16,524 × 25\n",
      "   qseqid        sseqid pident length mismatch gapopen qstart  qend sstart  send\n",
      "   <chr>         <chr>   <dbl>  <dbl>    <dbl>   <dbl>  <dbl> <dbl>  <dbl> <dbl>\n",
      " 1 v1_PLS_27c29… L_tr_…   55.3     47       21       0      1    47      1    47\n",
      " 2 v1_PLS_6758c… V_sp_…   40.6     32       19       0      1    32      1    32\n",
      " 3 v1_PLS_e0e0c… PDI_t…   35.2     88       48       3      1    81      4    89\n",
      " 4 v1_PLS_7e97d… N_tr_…   46.4     28       13       1      1    28      1    26\n",
      " 5 v1_PLS_18198… S_tr_…   27.8     97       59       5      1    95      4    91\n",
      " 6 v1_PLS_4147c… PDI_t…   61.1     18        7       0      3    20      4    21\n",
      " 7 v1_PLS_ce310… S_tr_…   40.9     44       22       1     18    61     49    88\n",
      " 8 v1_PLS_c3700… N_tr_…   35.7     42       27       0     27    68      2    43\n",
      " 9 v1_PLS_ddb67… S_tr_…   34.5    116       66       4      1   106      4   119\n",
      "10 v1_PLS_37fda… PDI_t…   69.6     23        7       0      2    24      4    26\n",
      "# … with 16,514 more rows, and 15 more variables: evalue <dbl>, bitscore <dbl>,\n",
      "#   component <chr>, hmmerHit <lgl>, verified <lgl>, cinful_id <chr>,\n",
      "#   pephash <chr>, sample <chr>, contig <chr>, start <dbl>, stop <dbl>,\n",
      "#   strand <dbl>, allStandardAA <lgl>, seq <chr>, signalMatch <lgl>\n"
     ]
    }
   ],
   "source": [
    "%%R\n",
    "all_best_hits <- read_csv(\"data/Enterobacteriales_all_best_hits.csv\")\n",
    "\n",
    "all_best_hits"
   ]
  },
  {
   "cell_type": "code",
   "execution_count": 4,
   "metadata": {
    "pycharm": {
     "name": "#%%\n"
    }
   },
   "outputs": [
    {
     "name": "stdout",
     "output_type": "stream",
     "text": [
      "# A tibble: 5,030 × 2\n",
      "   sample                                                                      n\n",
      "   <chr>                                                                   <int>\n",
      " 1 Enterobacteriaceae_gtdb/Cronobacter/Atlantibacter_hermannii/refseq/bac…     1\n",
      " 2 Enterobacteriaceae_gtdb/Cronobacter/Cronobacter_dublinensis/refseq/bac…     1\n",
      " 3 Enterobacteriaceae_gtdb/Cronobacter/Cronobacter_dublinensis/refseq/bac…     3\n",
      " 4 Enterobacteriaceae_gtdb/Cronobacter/Cronobacter_dublinensis/refseq/bac…     1\n",
      " 5 Enterobacteriaceae_gtdb/Cronobacter/Cronobacter_dublinensis/refseq/bac…     2\n",
      " 6 Enterobacteriaceae_gtdb/Cronobacter/Cronobacter_dublinensis/refseq/bac…     1\n",
      " 7 Enterobacteriaceae_gtdb/Cronobacter/Cronobacter_dublinensis/refseq/bac…     1\n",
      " 8 Enterobacteriaceae_gtdb/Cronobacter/Cronobacter_dublinensis/refseq/bac…     1\n",
      " 9 Enterobacteriaceae_gtdb/Cronobacter/Cronobacter_dublinensis/refseq/bac…     1\n",
      "10 Enterobacteriaceae_gtdb/Cronobacter/Cronobacter_dublinensis/refseq/bac…     1\n",
      "# … with 5,020 more rows\n"
     ]
    }
   ],
   "source": [
    "%%R\n",
    "all_best_hits %>%\n",
    "\tcount(sample)"
   ]
  },
  {
   "cell_type": "code",
   "execution_count": 5,
   "metadata": {
    "pycharm": {
     "name": "#%%\n"
    }
   },
   "outputs": [],
   "source": [
    "%%R \n",
    "Enterobacteriaciae_species_tree <- read.tree(\"data/Enterobacteriaciae_species.tree\")"
   ]
  },
  {
   "cell_type": "code",
   "execution_count": 6,
   "metadata": {
    "pycharm": {
     "name": "#%%\n"
    }
   },
   "outputs": [
    {
     "name": "stdout",
     "output_type": "stream",
     "text": [
      "# A tibble: 5,142 × 1\n",
      "   path                                                                         \n",
      "   <chr>                                                                        \n",
      " 1 genomes/Enterobacterales/alnajar2017phylogenomics/Enterobacteriaceae_gtdb/ot…\n",
      " 2 genomes/Enterobacterales/alnajar2017phylogenomics/Enterobacteriaceae_gtdb/ot…\n",
      " 3 genomes/Enterobacterales/alnajar2017phylogenomics/Enterobacteriaceae_gtdb/ot…\n",
      " 4 genomes/Enterobacterales/alnajar2017phylogenomics/Enterobacteriaceae_gtdb/ot…\n",
      " 5 genomes/Enterobacterales/alnajar2017phylogenomics/Enterobacteriaceae_gtdb/ot…\n",
      " 6 genomes/Enterobacterales/alnajar2017phylogenomics/Enterobacteriaceae_gtdb/ot…\n",
      " 7 genomes/Enterobacterales/alnajar2017phylogenomics/Enterobacteriaceae_gtdb/ot…\n",
      " 8 genomes/Enterobacterales/alnajar2017phylogenomics/Enterobacteriaceae_gtdb/ot…\n",
      " 9 genomes/Enterobacterales/alnajar2017phylogenomics/Enterobacteriaceae_gtdb/ot…\n",
      "10 genomes/Enterobacterales/alnajar2017phylogenomics/Enterobacteriaceae_gtdb/ot…\n",
      "# … with 5,132 more rows\n"
     ]
    }
   ],
   "source": [
    "%%R\n",
    "samples <- read.table(\"data/Enterobacteriales_samples.txt\", header = FALSE) %>%\n",
    "\tas.tibble() %>%\n",
    "\trename(path = V1)\n",
    "samples"
   ]
  },
  {
   "cell_type": "markdown",
   "metadata": {
    "pycharm": {
     "name": "#%% md\n"
    }
   },
   "source": [
    "So it'll take a bit of fenagling to get this wrangled and sorted out, but I'm really hoping that this only includes the data I need and not a bunch of random redundant samples since I ran cinful on the entire directory. The first three fields should all be the same, it shouldn't be until the fourth that something starts to happen.\n",
    "\n"
   ]
  },
  {
   "cell_type": "code",
   "execution_count": 7,
   "metadata": {
    "pycharm": {
     "name": "#%%\n"
    }
   },
   "outputs": [
    {
     "name": "stdout",
     "output_type": "stream",
     "text": [
      "# A tibble: 1 × 4\n",
      "  f1      f2               f3                           n\n",
      "  <chr>   <chr>            <chr>                    <int>\n",
      "1 genomes Enterobacterales alnajar2017phylogenomics  5142\n"
     ]
    }
   ],
   "source": [
    "%%R \n",
    "samples %>%\n",
    "separate(path, c(\"f1\",\"f2\",\"f3\"), sep = \"/\") %>%\n",
    "\tcount(f1,f2,f3)"
   ]
  },
  {
   "cell_type": "markdown",
   "metadata": {
    "pycharm": {
     "name": "#%% md\n"
    }
   },
   "source": [
    "Just as I thought"
   ]
  },
  {
   "cell_type": "code",
   "execution_count": 8,
   "metadata": {
    "pycharm": {
     "name": "#%%\n"
    }
   },
   "outputs": [
    {
     "name": "stdout",
     "output_type": "stream",
     "text": [
      "# A tibble: 4 × 2\n",
      "  f4                          n\n",
      "  <chr>                   <int>\n",
      "1 Enterobacteriaceae_gtdb  4859\n",
      "2 Pasteurellaceae_gtdb       68\n",
      "3 refseq                     72\n",
      "4 Vibrionaceae_gtdb         143\n"
     ]
    }
   ],
   "source": [
    "%%R \n",
    "samples %>%\n",
    "separate(path, c(NA,NA,NA,\"f4\"), sep = \"/\") %>%\n",
    "\tcount(f4)"
   ]
  },
  {
   "cell_type": "markdown",
   "metadata": {
    "pycharm": {
     "name": "#%% md\n"
    }
   },
   "source": [
    "Wait, I don't entirely know what just the refseq is..\n",
    "\n",
    "So I defintely know that `Enterobacteriaceae_gtdb` is just Enterobacteriaceae samples, and that `Pasteurellaceae_gtdb` and `Vibrionaceae_gtdb` are from Enterobacteriales, there should be five other families though.. well I think that those samples may have some redundancies, because the other Enterobacteriales familes are found in `Enterobacteriaceae_gtdb` under `other_families`.\n",
    "\n",
    "Good to know! That just means that I need to ignore the ones that start with `genomes/Enterobacterales/alnajar2017phylogenomics/refseq`\n",
    "\n",
    "So the samples that I want for this particular section are under `Enterobacteriaceae_gtdb`, excluding `other_families`\n"
   ]
  },
  {
   "cell_type": "code",
   "execution_count": 9,
   "metadata": {
    "pycharm": {
     "name": "#%%\n"
    }
   },
   "outputs": [
    {
     "name": "stdout",
     "output_type": "stream",
     "text": [
      "# A tibble: 6 × 2\n",
      "  f5                 n\n",
      "  <chr>          <int>\n",
      "1 Cronobacter      458\n",
      "2 Enterobacter    1129\n",
      "3 Escherichia     1285\n",
      "4 Klebsiella      1879\n",
      "5 Kosakonia         23\n",
      "6 other_families    85\n"
     ]
    }
   ],
   "source": [
    "%%R \n",
    "samples %>%\n",
    "separate(path, c(NA,NA,NA,\"f4\",\"f5\"), sep = \"/\") %>%\n",
    "\tfilter(f4 == \"Enterobacteriaceae_gtdb\") %>%\n",
    "\tcount(f5)"
   ]
  },
  {
   "cell_type": "markdown",
   "metadata": {
    "pycharm": {
     "name": "#%% md\n"
    }
   },
   "source": [
    "Yep, alright, so now I'll just filter out the `other_families`"
   ]
  },
  {
   "cell_type": "code",
   "execution_count": 10,
   "metadata": {
    "pycharm": {
     "name": "#%%\n"
    }
   },
   "outputs": [],
   "source": [
    "%%R -o speciesAssemblies\n",
    "speciesAssemblies <- samples %>%\n",
    "separate(path, c(NA,NA,NA,\"f4\",\"f5\",\"f6\"), sep = \"/\") %>%\n",
    "\tfilter(f4 == \"Enterobacteriaceae_gtdb\") %>%\n",
    "\tfilter(f5 != \"other_families\") %>%\n",
    "\tcount(f5,f6) %>%\n",
    "\trename(clade = f5, species = f6, assemblies = n)"
   ]
  },
  {
   "cell_type": "code",
   "execution_count": 11,
   "metadata": {
    "pycharm": {
     "name": "#%%\n"
    }
   },
   "outputs": [
    {
     "data": {
      "text/html": [
       "<div>\n",
       "<style scoped>\n",
       "    .dataframe tbody tr th:only-of-type {\n",
       "        vertical-align: middle;\n",
       "    }\n",
       "\n",
       "    .dataframe tbody tr th {\n",
       "        vertical-align: top;\n",
       "    }\n",
       "\n",
       "    .dataframe thead th {\n",
       "        text-align: right;\n",
       "    }\n",
       "</style>\n",
       "<table border=\"1\" class=\"dataframe\">\n",
       "  <thead>\n",
       "    <tr style=\"text-align: right;\">\n",
       "      <th></th>\n",
       "      <th>clade</th>\n",
       "      <th>species</th>\n",
       "      <th>assemblies</th>\n",
       "    </tr>\n",
       "  </thead>\n",
       "  <tbody>\n",
       "    <tr>\n",
       "      <th>1</th>\n",
       "      <td>Cronobacter</td>\n",
       "      <td>Atlantibacter_hermannii</td>\n",
       "      <td>5</td>\n",
       "    </tr>\n",
       "    <tr>\n",
       "      <th>2</th>\n",
       "      <td>Cronobacter</td>\n",
       "      <td>Cronobacter_dublinensis</td>\n",
       "      <td>38</td>\n",
       "    </tr>\n",
       "    <tr>\n",
       "      <th>3</th>\n",
       "      <td>Cronobacter</td>\n",
       "      <td>Cronobacter_malonaticus</td>\n",
       "      <td>44</td>\n",
       "    </tr>\n",
       "    <tr>\n",
       "      <th>4</th>\n",
       "      <td>Cronobacter</td>\n",
       "      <td>Cronobacter_sakazakii</td>\n",
       "      <td>371</td>\n",
       "    </tr>\n",
       "    <tr>\n",
       "      <th>5</th>\n",
       "      <td>Enterobacter</td>\n",
       "      <td>Enterobacter_asburiae</td>\n",
       "      <td>8</td>\n",
       "    </tr>\n",
       "    <tr>\n",
       "      <th>6</th>\n",
       "      <td>Enterobacter</td>\n",
       "      <td>Enterobacter_cancerogenus</td>\n",
       "      <td>13</td>\n",
       "    </tr>\n",
       "    <tr>\n",
       "      <th>7</th>\n",
       "      <td>Enterobacter</td>\n",
       "      <td>Enterobacter_cloacae</td>\n",
       "      <td>106</td>\n",
       "    </tr>\n",
       "    <tr>\n",
       "      <th>8</th>\n",
       "      <td>Enterobacter</td>\n",
       "      <td>Enterobacter_hormaechei</td>\n",
       "      <td>808</td>\n",
       "    </tr>\n",
       "    <tr>\n",
       "      <th>9</th>\n",
       "      <td>Enterobacter</td>\n",
       "      <td>Enterobacter_kobei</td>\n",
       "      <td>105</td>\n",
       "    </tr>\n",
       "    <tr>\n",
       "      <th>10</th>\n",
       "      <td>Enterobacter</td>\n",
       "      <td>Enterobacter_ludwigii</td>\n",
       "      <td>66</td>\n",
       "    </tr>\n",
       "    <tr>\n",
       "      <th>11</th>\n",
       "      <td>Enterobacter</td>\n",
       "      <td>Leclercia_adecarboxylata</td>\n",
       "      <td>23</td>\n",
       "    </tr>\n",
       "    <tr>\n",
       "      <th>12</th>\n",
       "      <td>Escherichia</td>\n",
       "      <td>Citrobacter_amalonaticus</td>\n",
       "      <td>41</td>\n",
       "    </tr>\n",
       "    <tr>\n",
       "      <th>13</th>\n",
       "      <td>Escherichia</td>\n",
       "      <td>Citrobacter_braakii</td>\n",
       "      <td>91</td>\n",
       "    </tr>\n",
       "    <tr>\n",
       "      <th>14</th>\n",
       "      <td>Escherichia</td>\n",
       "      <td>Citrobacter_koseri</td>\n",
       "      <td>36</td>\n",
       "    </tr>\n",
       "    <tr>\n",
       "      <th>15</th>\n",
       "      <td>Escherichia</td>\n",
       "      <td>Citrobacter_werkmanii</td>\n",
       "      <td>28</td>\n",
       "    </tr>\n",
       "    <tr>\n",
       "      <th>16</th>\n",
       "      <td>Escherichia</td>\n",
       "      <td>Citrobacter_youngae</td>\n",
       "      <td>25</td>\n",
       "    </tr>\n",
       "    <tr>\n",
       "      <th>17</th>\n",
       "      <td>Escherichia</td>\n",
       "      <td>Escherichia_albertii</td>\n",
       "      <td>97</td>\n",
       "    </tr>\n",
       "    <tr>\n",
       "      <th>18</th>\n",
       "      <td>Escherichia</td>\n",
       "      <td>Escherichia_fergusonii</td>\n",
       "      <td>70</td>\n",
       "    </tr>\n",
       "    <tr>\n",
       "      <th>19</th>\n",
       "      <td>Escherichia</td>\n",
       "      <td>Escherichia_marmotae</td>\n",
       "      <td>76</td>\n",
       "    </tr>\n",
       "    <tr>\n",
       "      <th>20</th>\n",
       "      <td>Escherichia</td>\n",
       "      <td>Salmonella_bongori</td>\n",
       "      <td>22</td>\n",
       "    </tr>\n",
       "    <tr>\n",
       "      <th>21</th>\n",
       "      <td>Escherichia</td>\n",
       "      <td>Salmonella_enterica</td>\n",
       "      <td>799</td>\n",
       "    </tr>\n",
       "    <tr>\n",
       "      <th>22</th>\n",
       "      <td>Klebsiella</td>\n",
       "      <td>Klebsiella_aerogenes</td>\n",
       "      <td>251</td>\n",
       "    </tr>\n",
       "    <tr>\n",
       "      <th>23</th>\n",
       "      <td>Klebsiella</td>\n",
       "      <td>Klebsiella_michiganensis</td>\n",
       "      <td>186</td>\n",
       "    </tr>\n",
       "    <tr>\n",
       "      <th>24</th>\n",
       "      <td>Klebsiella</td>\n",
       "      <td>Klebsiella_oxytoca</td>\n",
       "      <td>107</td>\n",
       "    </tr>\n",
       "    <tr>\n",
       "      <th>25</th>\n",
       "      <td>Klebsiella</td>\n",
       "      <td>Klebsiella_pneumoniae</td>\n",
       "      <td>300</td>\n",
       "    </tr>\n",
       "    <tr>\n",
       "      <th>26</th>\n",
       "      <td>Klebsiella</td>\n",
       "      <td>Klebsiella_quasipneumoniae</td>\n",
       "      <td>501</td>\n",
       "    </tr>\n",
       "    <tr>\n",
       "      <th>27</th>\n",
       "      <td>Klebsiella</td>\n",
       "      <td>Klebsiella_variicola</td>\n",
       "      <td>411</td>\n",
       "    </tr>\n",
       "    <tr>\n",
       "      <th>28</th>\n",
       "      <td>Klebsiella</td>\n",
       "      <td>Pluralibacter_gergoviae</td>\n",
       "      <td>20</td>\n",
       "    </tr>\n",
       "    <tr>\n",
       "      <th>29</th>\n",
       "      <td>Klebsiella</td>\n",
       "      <td>Raoultella_ornithinolytica</td>\n",
       "      <td>70</td>\n",
       "    </tr>\n",
       "    <tr>\n",
       "      <th>30</th>\n",
       "      <td>Klebsiella</td>\n",
       "      <td>Raoultella_planticola</td>\n",
       "      <td>33</td>\n",
       "    </tr>\n",
       "    <tr>\n",
       "      <th>31</th>\n",
       "      <td>Kosakonia</td>\n",
       "      <td>Kosakonia_cowanii</td>\n",
       "      <td>9</td>\n",
       "    </tr>\n",
       "    <tr>\n",
       "      <th>32</th>\n",
       "      <td>Kosakonia</td>\n",
       "      <td>Kosakonia_radicincitans</td>\n",
       "      <td>14</td>\n",
       "    </tr>\n",
       "  </tbody>\n",
       "</table>\n",
       "</div>"
      ],
      "text/plain": [
       "           clade                     species  assemblies\n",
       "1    Cronobacter     Atlantibacter_hermannii           5\n",
       "2    Cronobacter     Cronobacter_dublinensis          38\n",
       "3    Cronobacter     Cronobacter_malonaticus          44\n",
       "4    Cronobacter       Cronobacter_sakazakii         371\n",
       "5   Enterobacter       Enterobacter_asburiae           8\n",
       "6   Enterobacter   Enterobacter_cancerogenus          13\n",
       "7   Enterobacter        Enterobacter_cloacae         106\n",
       "8   Enterobacter     Enterobacter_hormaechei         808\n",
       "9   Enterobacter          Enterobacter_kobei         105\n",
       "10  Enterobacter       Enterobacter_ludwigii          66\n",
       "11  Enterobacter    Leclercia_adecarboxylata          23\n",
       "12   Escherichia    Citrobacter_amalonaticus          41\n",
       "13   Escherichia         Citrobacter_braakii          91\n",
       "14   Escherichia          Citrobacter_koseri          36\n",
       "15   Escherichia       Citrobacter_werkmanii          28\n",
       "16   Escherichia         Citrobacter_youngae          25\n",
       "17   Escherichia        Escherichia_albertii          97\n",
       "18   Escherichia      Escherichia_fergusonii          70\n",
       "19   Escherichia        Escherichia_marmotae          76\n",
       "20   Escherichia          Salmonella_bongori          22\n",
       "21   Escherichia         Salmonella_enterica         799\n",
       "22    Klebsiella        Klebsiella_aerogenes         251\n",
       "23    Klebsiella    Klebsiella_michiganensis         186\n",
       "24    Klebsiella          Klebsiella_oxytoca         107\n",
       "25    Klebsiella       Klebsiella_pneumoniae         300\n",
       "26    Klebsiella  Klebsiella_quasipneumoniae         501\n",
       "27    Klebsiella        Klebsiella_variicola         411\n",
       "28    Klebsiella     Pluralibacter_gergoviae          20\n",
       "29    Klebsiella  Raoultella_ornithinolytica          70\n",
       "30    Klebsiella       Raoultella_planticola          33\n",
       "31     Kosakonia           Kosakonia_cowanii           9\n",
       "32     Kosakonia     Kosakonia_radicincitans          14"
      ]
     },
     "execution_count": 11,
     "metadata": {},
     "output_type": "execute_result"
    }
   ],
   "source": [
    "speciesAssemblies"
   ]
  },
  {
   "cell_type": "markdown",
   "metadata": {
    "pycharm": {
     "name": "#%% md\n"
    }
   },
   "source": [
    "Great! So supposedly, I can do a similar thing with the `best_hits` and grab species from the `cinful_id` identifier."
   ]
  },
  {
   "cell_type": "code",
   "execution_count": 12,
   "metadata": {
    "pycharm": {
     "name": "#%%\n"
    }
   },
   "outputs": [
    {
     "name": "stdout",
     "output_type": "stream",
     "text": [
      "# A tibble: 16,303 × 3\n",
      "   cinful_id                                                       clade species\n",
      "   <chr>                                                           <chr> <chr>  \n",
      " 1 Enterobacteriaceae_gtdb/Escherichia/Citrobacter_braakii/refseq… Esch… Citrob…\n",
      " 2 Enterobacteriaceae_gtdb/Escherichia/Citrobacter_braakii/refseq… Esch… Citrob…\n",
      " 3 Enterobacteriaceae_gtdb/Escherichia/Citrobacter_braakii/refseq… Esch… Citrob…\n",
      " 4 Enterobacteriaceae_gtdb/Klebsiella/Klebsiella_pneumoniae/refse… Kleb… Klebsi…\n",
      " 5 Enterobacteriaceae_gtdb/Klebsiella/Klebsiella_pneumoniae/refse… Kleb… Klebsi…\n",
      " 6 Enterobacteriaceae_gtdb/Klebsiella/Klebsiella_pneumoniae/refse… Kleb… Klebsi…\n",
      " 7 Enterobacteriaceae_gtdb/Klebsiella/Klebsiella_pneumoniae/refse… Kleb… Klebsi…\n",
      " 8 Enterobacteriaceae_gtdb/Klebsiella/Klebsiella_pneumoniae/refse… Kleb… Klebsi…\n",
      " 9 Enterobacteriaceae_gtdb/Klebsiella/Klebsiella_pneumoniae/refse… Kleb… Klebsi…\n",
      "10 Enterobacteriaceae_gtdb/Klebsiella/Klebsiella_pneumoniae/refse… Kleb… Klebsi…\n",
      "# … with 16,293 more rows\n"
     ]
    }
   ],
   "source": [
    "%%R\n",
    "all_best_hits %>%\n",
    "\tselect(cinful_id) %>%\n",
    "\tseparate(cinful_id, c(NA,\"clade\",\"species\"), sep = \"/\", remove = FALSE) %>%\n",
    "\tfilter(clade != \"other_families\")"
   ]
  },
  {
   "cell_type": "code",
   "execution_count": 13,
   "metadata": {
    "pycharm": {
     "name": "#%%\n"
    }
   },
   "outputs": [
    {
     "name": "stdout",
     "output_type": "stream",
     "text": [
      "# A tibble: 15,957 × 28\n",
      "   qseqid        sseqid pident length mismatch gapopen qstart  qend sstart  send\n",
      "   <chr>         <chr>   <dbl>  <dbl>    <dbl>   <dbl>  <dbl> <dbl>  <dbl> <dbl>\n",
      " 1 v1_PLS_fa4a6… I47_t…   34.3     35       20       2     25    59     15    46\n",
      " 2 v1_PLS_8af25… I47_t…   50       18        9       0     24    41     17    34\n",
      " 3 v1_PLS_88895… L_tr_…   53.3     15        7       0      1    15      1    15\n",
      " 4 v1_PLS_88895… L_tr_…   53.3     15        7       0      1    15      1    15\n",
      " 5 v1_PLS_88895… L_tr_…   53.3     15        7       0      1    15      1    15\n",
      " 6 v1_PLS_88895… L_tr_…   53.3     15        7       0      1    15      1    15\n",
      " 7 v1_PLS_88895… L_tr_…   53.3     15        7       0      1    15      1    15\n",
      " 8 v1_PLS_88895… L_tr_…   53.3     15        7       0      1    15      1    15\n",
      " 9 v1_PLS_88895… L_tr_…   53.3     15        7       0      1    15      1    15\n",
      "10 v1_PLS_88895… L_tr_…   53.3     15        7       0      1    15      1    15\n",
      "# … with 15,947 more rows, and 18 more variables: evalue <dbl>, bitscore <dbl>,\n",
      "#   component <chr>, hmmerHit <lgl>, verified <lgl>, cinful_id <chr>, f1 <chr>,\n",
      "#   clade <chr>, species <chr>, pephash <chr>, sample <chr>, contig <chr>,\n",
      "#   start <dbl>, stop <dbl>, strand <dbl>, allStandardAA <lgl>, seq <chr>,\n",
      "#   signalMatch <lgl>\n"
     ]
    }
   ],
   "source": [
    "%%R\n",
    "Enterobacteriaceae_best_hits <- all_best_hits %>%\n",
    "\t# select(cinful_id) %>%\n",
    "\tseparate(cinful_id, c(\"f1\",\"clade\",\"species\"), sep = \"/\", remove = FALSE) %>%\n",
    "\tfilter(f1 == \"Enterobacteriaceae_gtdb\") %>%\n",
    "\tfilter(clade != \"other_families\")\n",
    "\n",
    "Enterobacteriaceae_best_hits"
   ]
  },
  {
   "cell_type": "code",
   "execution_count": 14,
   "metadata": {},
   "outputs": [
    {
     "name": "stdout",
     "output_type": "stream",
     "text": [
      "# A tibble: 32 × 2\n",
      "   species                  n_microcins\n",
      "   <chr>                          <int>\n",
      " 1 Atlantibacter_hermannii            1\n",
      " 2 Citrobacter_amalonaticus           2\n",
      " 3 Citrobacter_braakii               13\n",
      " 4 Citrobacter_koseri                 2\n",
      " 5 Citrobacter_werkmanii              2\n",
      " 6 Citrobacter_youngae                1\n",
      " 7 Cronobacter_dublinensis            9\n",
      " 8 Cronobacter_malonaticus            3\n",
      " 9 Cronobacter_sakazakii             48\n",
      "10 Enterobacter_asburiae              2\n",
      "# … with 22 more rows\n"
     ]
    }
   ],
   "source": [
    "%%R\n",
    "Enterobacteriaceae_best_hits %>%\n",
    "    filter(component == \"microcins.verified\") %>%\n",
    "    count(species, name = \"n_microcins\", )\n"
   ]
  },
  {
   "cell_type": "code",
   "execution_count": 15,
   "metadata": {
    "pycharm": {
     "name": "#%%\n"
    }
   },
   "outputs": [
    {
     "name": "stdout",
     "output_type": "stream",
     "text": [
      "Joining, by = \"species\"\n",
      "# A tibble: 32 × 5\n",
      "   species                  n_microcins clade        assemblies percent_microcin\n",
      "   <chr>                          <int> <chr>             <int>            <dbl>\n",
      " 1 Atlantibacter_hermannii            1 Cronobacter           5           0.2   \n",
      " 2 Citrobacter_amalonaticus           2 Escherichia          41           0.0488\n",
      " 3 Citrobacter_braakii               11 Escherichia          91           0.121 \n",
      " 4 Citrobacter_koseri                 2 Escherichia          36           0.0556\n",
      " 5 Citrobacter_werkmanii              2 Escherichia          28           0.0714\n",
      " 6 Citrobacter_youngae                1 Escherichia          25           0.04  \n",
      " 7 Cronobacter_dublinensis            8 Cronobacter          38           0.211 \n",
      " 8 Cronobacter_malonaticus            3 Cronobacter          44           0.0682\n",
      " 9 Cronobacter_sakazakii             46 Cronobacter         371           0.124 \n",
      "10 Enterobacter_asburiae              2 Enterobacter          8           0.25  \n",
      "# … with 22 more rows\n"
     ]
    }
   ],
   "source": [
    "%%R\n",
    "species_microcins <- Enterobacteriaceae_best_hits %>%\n",
    "\tfilter(component == \"microcins.verified\") %>%\n",
    "\tcount(species, sample) %>% \n",
    "\tcount(species, name = \"n_microcins\") %>%\n",
    "\tfull_join(speciesAssemblies) %>%\n",
    "\tmutate(percent_microcin = n_microcins / assemblies)\n",
    "\n",
    "species_microcins"
   ]
  },
  {
   "cell_type": "code",
   "execution_count": 16,
   "metadata": {
    "pycharm": {
     "name": "#%%\n"
    }
   },
   "outputs": [
    {
     "data": {
      "image/png": "[encoded data removed]"
     },
     "metadata": {},
     "output_type": "display_data"
    }
   ],
   "source": [
    "%%R\n",
    "species_microcins %>%\n",
    "\tggplot(aes( x = clade, y = percent_microcin)) + \n",
    "\t\tgeom_boxplot()\n",
    "\t\t"
   ]
  },
  {
   "cell_type": "markdown",
   "metadata": {
    "pycharm": {
     "name": "#%% md\n"
    }
   },
   "source": [
    "So that is basically what it needs to be, I also need to eventually filter this out by hmmer hits, but for now, I will go forward to get the tree plot going."
   ]
  },
  {
   "cell_type": "code",
   "execution_count": 17,
   "metadata": {
    "pycharm": {
     "name": "#%%\n"
    }
   },
   "outputs": [
    {
     "data": {
      "image/png": "[encoded data removed]"
     },
     "metadata": {},
     "output_type": "display_data"
    }
   ],
   "source": [
    "%%R\n",
    "Enterobacteriaciae_species_tree$tip.label<-gsub(\"_\",\" \",Enterobacteriaciae_species_tree$tip.label)\n",
    "species_microcins$species <- gsub(\"_\",\" \",species_microcins$species)\n",
    "plot(Enterobacteriaciae_species_tree)"
   ]
  },
  {
   "cell_type": "code",
   "execution_count": 18,
   "metadata": {
    "pycharm": {
     "name": "#%%\n"
    }
   },
   "outputs": [
    {
     "data": {
      "image/png": "[encoded data removed]"
     },
     "metadata": {},
     "output_type": "display_data"
    }
   ],
   "source": [
    "%%R \n",
    "species_tree_plot <- ggtree(Enterobacteriaciae_species_tree) +\n",
    "\tgeom_tiplab(as_ylab=FALSE, fontface=3)\n",
    "\t#  xlim(0, 20) \n",
    "species_tree_plot"
   ]
  },
  {
   "cell_type": "code",
   "execution_count": 19,
   "metadata": {
    "pycharm": {
     "name": "#%%\n"
    }
   },
   "outputs": [],
   "source": [
    "%%R\n",
    "species_microcins$clade <- factor(species_microcins$clade, levels = c(\"Escherichia\",\"Klebsiella\",\"Enterobacter\",\"Kosakonia\",\"Cronobacter\"))\n"
   ]
  },
  {
   "cell_type": "code",
   "execution_count": 20,
   "metadata": {
    "pycharm": {
     "name": "#%%\n"
    }
   },
   "outputs": [
    {
     "data": {
      "image/png": "[encoded data removed]"
     },
     "metadata": {},
     "output_type": "display_data"
    }
   ],
   "source": [
    "%%R -w 500\n",
    "# species_tree_plot + \n",
    "# geom_facet(panel = \"Trait\", data = species_microcins, geom = geom_barh, \n",
    "#                 aes(x = percent_microcin), width = .6)\n",
    "species_tree_microcin_plot <- facet_plot(species_tree_plot + xlim(0, 100), \n",
    "    panel = \"percent microcin\", \n",
    "    data = species_microcins,\n",
    "    geom = geom_barh,\n",
    "    mapping = aes(x = percent_microcin*100, fill = clade),\n",
    "    stat=\"identity\") +\n",
    "    scale_fill_manual(values=c(\n",
    "        \"#ef476f\", \n",
    "        \"#8787C3\", \n",
    "        \"#06d6a0\",\n",
    "        \"#ffd166\",\n",
    "        \"#E79F00\")) +\n",
    "    theme_tree2(strip.background = element_blank(),\n",
    "    strip.text.x = element_blank(), \n",
    "        # text = element_text(size = 20)\n",
    "        ) +\n",
    "    xlab(\"Percent assemblies with microcins\")\n",
    "\n",
    "    # xlim(0, 0.1)\n",
    "species_tree_microcin_plot"
   ]
  },
  {
   "cell_type": "markdown",
   "metadata": {
    "pycharm": {
     "name": "#%% md\n"
    }
   },
   "source": [
    "So there are just a few things that need to be adressed here. The big thing is that the newick tree needs to be updated to have all species, since I did that by hand and may have left out about four species..\n",
    "\n",
    "The next is just to filter based on hmmer hits.\n",
    "\n",
    "I can make my life a little easier by pinpointing exactly which species are missing from the tree"
   ]
  },
  {
   "cell_type": "code",
   "execution_count": 21,
   "metadata": {
    "pycharm": {
     "name": "#%%\n"
    }
   },
   "outputs": [
    {
     "name": "stdout",
     "output_type": "stream",
     "text": [
      "# A tibble: 0 × 5\n",
      "# … with 5 variables: species <chr>, n_microcins <int>, clade <fct>,\n",
      "#   assemblies <int>, percent_microcin <dbl>\n"
     ]
    }
   ],
   "source": [
    "%%R\n",
    "species_microcins %>%\n",
    "\tfilter(!(species %in% Enterobacteriaciae_species_tree$tip.label))\n"
   ]
  },
  {
   "cell_type": "markdown",
   "metadata": {
    "pycharm": {
     "name": "#%% md\n"
    }
   },
   "source": [
    "Alright, so these species have been left out. Just three of them!\n",
    "\n",
    "For my own notes/sanity. \n",
    "1. Enterobacter hormaechei  -> sister to Enterobacter xiangfangensis\n",
    "2. Klebsiella pneumoniae -> sister to Klebsiella quasipneumoniae\n",
    "3. Salmonella enterica -> sister to Salmonella bongori\n"
   ]
  },
  {
   "cell_type": "code",
   "execution_count": 22,
   "metadata": {
    "pycharm": {
     "name": "#%%\n"
    }
   },
   "outputs": [
    {
     "name": "stdout",
     "output_type": "stream",
     "text": [
      "Joining, by = \"species\"\n",
      "# A tibble: 32 × 5\n",
      "   species                   n_microcins clade       assemblies percent_microcin\n",
      "   <chr>                           <int> <chr>            <int>            <dbl>\n",
      " 1 Citrobacter_amalonaticus            2 Escherichia         41           0.0488\n",
      " 2 Citrobacter_braakii                 6 Escherichia         91           0.0659\n",
      " 3 Citrobacter_koseri                  1 Escherichia         36           0.0278\n",
      " 4 Citrobacter_werkmanii               1 Escherichia         28           0.0357\n",
      " 5 Citrobacter_youngae                 1 Escherichia         25           0.04  \n",
      " 6 Cronobacter_dublinensis             3 Cronobacter         38           0.0789\n",
      " 7 Cronobacter_malonaticus             3 Cronobacter         44           0.0682\n",
      " 8 Enterobacter_cancerogenus          12 Enterobact…         13           0.923 \n",
      " 9 Enterobacter_cloacae                6 Enterobact…        106           0.0566\n",
      "10 Enterobacter_hormaechei           411 Enterobact…        808           0.509 \n",
      "# … with 22 more rows\n"
     ]
    }
   ],
   "source": [
    "%%R\n",
    "species_microcins_hmmer <- Enterobacteriaceae_best_hits %>%\n",
    "\tfilter(component == \"microcins.verified\") %>%\n",
    "\tfilter(hmmerHit == TRUE) %>%\n",
    "\tcount(species, sample) %>% \n",
    "\tcount(species, name = \"n_microcins\") %>%\n",
    "\tfull_join(speciesAssemblies) %>%\n",
    "\tmutate(percent_microcin = n_microcins / assemblies)\n",
    "\n",
    "species_microcins_hmmer"
   ]
  },
  {
   "cell_type": "code",
   "execution_count": 23,
   "metadata": {
    "pycharm": {
     "name": "#%%\n"
    }
   },
   "outputs": [],
   "source": [
    "%%R\n",
    "species_microcins_hmmer$species <- gsub(\"_\",\" \",species_microcins_hmmer$species)\n",
    "species_microcins_hmmer$clade <- factor(species_microcins_hmmer$clade, levels = c(\"Escherichia\",\"Klebsiella\",\"Enterobacter\",\"Kosakonia\",\"Cronobacter\"))"
   ]
  },
  {
   "cell_type": "code",
   "execution_count": 24,
   "metadata": {
    "pycharm": {
     "name": "#%%\n"
    }
   },
   "outputs": [
    {
     "data": {
      "image/png": "[encoded data removed]"
     },
     "metadata": {},
     "output_type": "display_data"
    }
   ],
   "source": [
    "%%R -w 500\n",
    "# species_tree_plot + \n",
    "# geom_facet(panel = \"Trait\", data = species_microcins, geom = geom_barh, \n",
    "#                 aes(x = percent_microcin), width = .6)\n",
    "species_tree_microcin_plot <- facet_plot(species_tree_plot + xlim(0, 100), \n",
    "    panel = \"percent microcin\", \n",
    "    data = species_microcins_hmmer,\n",
    "    geom = geom_barh,\n",
    "    mapping = aes(x = percent_microcin*100, fill = clade),\n",
    "    stat=\"identity\") +\n",
    "    scale_fill_manual(values=c(\n",
    "        \"#ef476f\", \n",
    "        \"#8787C3\", \n",
    "        \"#06d6a0\",\n",
    "        \"#ffd166\",\n",
    "        \"#E79F00\")) +\n",
    "    theme_tree2(strip.background = element_blank(),\n",
    "    strip.text.x = element_blank(), \n",
    "        # text = element_text(size = 20)\n",
    "        ) +\n",
    "    xlab(\"Percent assemblies with microcins\")\n",
    "\n",
    "    # xlim(0, 0.1)\n",
    "species_tree_microcin_plot"
   ]
  },
  {
   "cell_type": "code",
   "execution_count": 25,
   "metadata": {
    "pycharm": {
     "name": "#%%\n"
    }
   },
   "outputs": [
    {
     "name": "stderr",
     "output_type": "stream",
     "text": [
      "R[write to console]: Saving 6.67 x 6.67 in image\n",
      "\n"
     ]
    }
   ],
   "source": [
    "%%R \n",
    "species_tree_microcin_plot\n",
    "ggsave(\"plots/05_Enterobacteriaceae_microcin_phylogeny.svg\")"
   ]
  },
  {
   "cell_type": "markdown",
   "metadata": {
    "pycharm": {
     "name": "#%% md\n"
    }
   },
   "source": [
    "Alright, so I'm going to go ahead and say this is probably the most complete picture in terms of how many species are present, and how believable the hits are, since they are all hmmer hits."
   ]
  },
  {
   "cell_type": "code",
   "execution_count": null,
   "metadata": {
    "pycharm": {
     "name": "#%%\n"
    }
   },
   "outputs": [],
   "source": []
  }
 ],
 "metadata": {
  "interpreter": {
   "hash": "184da163bdcbc68ba00985bd6e7412525ff7507797be2878afd169be169c48f1"
  },
  "kernelspec": {
   "display_name": "Python 3 (ipykernel)",
   "language": "python",
   "name": "python3"
  },
  "language_info": {
   "codemirror_mode": {
    "name": "ipython",
    "version": 3
   },
   "file_extension": ".py",
   "mimetype": "text/x-python",
   "name": "python",
   "nbconvert_exporter": "python",
   "pygments_lexer": "ipython3",
   "version": "3.8.10"
  }
 },
 "nbformat": 4,
 "nbformat_minor": 2
}
