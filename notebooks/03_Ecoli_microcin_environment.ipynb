{
 "cells": [
  {
   "cell_type": "code",
   "execution_count": 1,
   "metadata": {
    "pycharm": {
     "name": "#%%\n"
    }
   },
   "outputs": [],
   "source": [
    "%load_ext rpy2.ipython"
   ]
  },
  {
   "cell_type": "code",
   "execution_count": 2,
   "metadata": {
    "pycharm": {
     "name": "#%%\n"
    }
   },
   "outputs": [
    {
     "name": "stderr",
     "output_type": "stream",
     "text": [
      "R[write to console]: ── Attaching packages ─────────────────────────────────────── tidyverse 1.3.1 ──\n",
      "\n",
      "R[write to console]: ✔ ggplot2 3.3.6     ✔ purrr   0.3.4\n",
      "✔ tibble  3.1.7     ✔ dplyr   1.0.9\n",
      "✔ tidyr   1.2.0     ✔ stringr 1.4.0\n",
      "✔ readr   2.1.2     ✔ forcats 0.5.1\n",
      "\n",
      "R[write to console]: ── Conflicts ────────────────────────────────────────── tidyverse_conflicts() ──\n",
      "✖ dplyr::filter() masks stats::filter()\n",
      "✖ dplyr::lag()    masks stats::lag()\n",
      "\n"
     ]
    }
   ],
   "source": [
    "%%R \n",
    "library(tidyverse)\n",
    "library(readxl)"
   ]
  },
  {
   "cell_type": "markdown",
   "metadata": {
    "pycharm": {
     "name": "#%% md\n"
    }
   },
   "source": [
    "# Load data\n",
    "\n",
    "The goal here is to determine the if certain environments are enriched for microcins. To do that,we need information about the assemblies so that we can figure out which environments they came from.\n"
   ]
  },
  {
   "cell_type": "code",
   "execution_count": 3,
   "metadata": {
    "pycharm": {
     "name": "#%%\n"
    }
   },
   "outputs": [
    {
     "name": "stdout",
     "output_type": "stream",
     "text": [
      "New names:\n",
      "• `` -> `...8`\n",
      "• `` -> `...20`\n",
      "• `` -> `...28`\n",
      "• `` -> `...35`\n",
      "Rows: 7262 Columns: 25\n",
      "── Column specification ────────────────────────────────────────────────────────\n",
      "Delimiter: \",\"\n",
      "chr  (8): qseqid, sseqid, component, cinful_id, pephash, sample, contig, seq\n",
      "dbl (13): pident, length, mismatch, gapopen, qstart, qend, sstart, send, eva...\n",
      "lgl  (4): hmmerHit, verified, allStandardAA, signalMatch\n",
      "\n",
      "ℹ Use `spec()` to retrieve the full column specification for this data.\n",
      "ℹ Specify the column types or set `show_col_types = FALSE` to quiet this message.\n"
     ]
    }
   ],
   "source": [
    "%%R\n",
    "assemblySummary_SequencedGenomes <- read_excel(\"data/Ecoli_assemblySummary.xlsx\", sheet=\"Sequenced-Genomes\", skip=5) %>%\n",
    "\tseparate(\"Sequence_Name\",c(\"phylogroup\")) %>%\n",
    "\tselect(c(\"Genome_ID\",\"phylogroup\",\"Isolation source\",\"Strain Category\")) %>%\n",
    "\trename(\"GEMBASE_NAME\"=\"Genome_ID\") %>%\n",
    "\tdrop_na()\n",
    "assemblySummary_ENAInformation <- read_excel(\"data/Ecoli_assemblySummary.xlsx\", sheet=\"ENA-Information\")\n",
    "best_hits <- read_csv(\"data/Ecoli_pangenome_best_hits.csv\")\n"
   ]
  },
  {
   "cell_type": "code",
   "execution_count": 4,
   "metadata": {
    "pycharm": {
     "name": "#%%\n"
    }
   },
   "outputs": [],
   "source": [
    "%%R\n",
    "best_hits_assemblyID <- best_hits %>%\n",
    "\tseparate(cinful_id,c(NA, \"ASSEMBLY_ACC_ID\"), sep=\"/\") %>%\n",
    "\tseparate(ASSEMBLY_ACC_ID, c(\"ASSEMBLY_ACC\"), sep = \"[.]\")"
   ]
  },
  {
   "cell_type": "code",
   "execution_count": 5,
   "metadata": {
    "pycharm": {
     "name": "#%%\n"
    }
   },
   "outputs": [
    {
     "name": "stdout",
     "output_type": "stream",
     "text": [
      "Joining, by = \"GEMBASE_NAME\"\n"
     ]
    }
   ],
   "source": [
    "%%R \n",
    "assemblySummary_Annotated <- assemblySummary_ENAInformation %>%\n",
    "\tfull_join(assemblySummary_SequencedGenomes) %>%\n",
    "\tdrop_na()"
   ]
  },
  {
   "cell_type": "code",
   "execution_count": 6,
   "metadata": {
    "pycharm": {
     "name": "#%%\n"
    }
   },
   "outputs": [
    {
     "name": "stdout",
     "output_type": "stream",
     "text": [
      "Joining, by = \"ASSEMBLY_ACC\"\n"
     ]
    }
   ],
   "source": [
    "%%R\n",
    "best_hits_assemblyID_Annotated <- best_hits_assemblyID %>%\n",
    "\tfull_join(assemblySummary_Annotated) %>%\n",
    "\tfilter(component == \"microcins.verified\") %>%\n",
    "\tselect(ASSEMBLY_ACC,phylogroup,sseqid,verified, `Strain Category`)\n"
   ]
  },
  {
   "cell_type": "code",
   "execution_count": 7,
   "metadata": {
    "pycharm": {
     "name": "#%%\n"
    }
   },
   "outputs": [
    {
     "name": "stdout",
     "output_type": "stream",
     "text": [
      "[1] 0.3316993\n"
     ]
    }
   ],
   "source": [
    "%%R\n",
    "\n",
    "microcinAssemblyProportion <- length(best_hits_assemblyID_Annotated$ASSEMBLY_ACC) /length(assemblySummary_Annotated$ASSEMBLY_ACC)\n",
    "microcinAssemblyProportion"
   ]
  },
  {
   "cell_type": "code",
   "execution_count": 8,
   "metadata": {
    "pycharm": {
     "name": "#%%\n"
    }
   },
   "outputs": [
    {
     "name": "stdout",
     "output_type": "stream",
     "text": [
      "# A tibble: 9 × 2\n",
      "  `Strain Category`      total_assemblies\n",
      "  <chr>                             <int>\n",
      "1 Alone                                 5\n",
      "2 Bird_Faecal                         185\n",
      "3 Human_Extra-intestinal              104\n",
      "4 Human_Faecal                         75\n",
      "5 Human_Intestinal                    172\n",
      "6 Mammal_Faecal                       117\n",
      "7 Poultry_Meat                        283\n",
      "8 Soil                                  3\n",
      "9 Water                               280\n"
     ]
    }
   ],
   "source": [
    "%%R\n",
    "strain_category_assemblies <- assemblySummary_Annotated %>%\n",
    "\tcount(`Strain Category`, name=\"total_assemblies\")\n",
    "strain_category_assemblies"
   ]
  },
  {
   "cell_type": "code",
   "execution_count": 9,
   "metadata": {
    "pycharm": {
     "name": "#%%\n"
    }
   },
   "outputs": [
    {
     "name": "stdout",
     "output_type": "stream",
     "text": [
      "Joining, by = \"Strain Category\"\n",
      "# A tibble: 9 × 6\n",
      "  `Strain Category`   microcin total_assemblies relative_microc…  odds       LOE\n",
      "  <chr>                  <dbl>            <int>            <dbl> <dbl>     <dbl>\n",
      "1 Alone                      1                5            0.2   0.603   -0.220 \n",
      "2 Bird_Faecal               50              185            0.270 0.815   -0.0889\n",
      "3 Human_Extra-intest…       52              104            0.5   1.51     0.178 \n",
      "4 Human_Faecal              22               75            0.293 0.884   -0.0534\n",
      "5 Human_Intestinal          64              172            0.372 1.12     0.0499\n",
      "6 Mammal_Faecal             47              117            0.402 1.21     0.0832\n",
      "7 Poultry_Meat             122              283            0.431 1.30     0.114 \n",
      "8 Water                     48              280            0.171 0.517   -0.287 \n",
      "9 Soil                       0                3            0     0     -Inf     \n"
     ]
    }
   ],
   "source": [
    "%%R -w 1500\n",
    "microcin_strain_category <- best_hits_assemblyID_Annotated %>%\n",
    "\tcount(`Strain Category`, name = \"microcin\") %>%\n",
    "\tadd_row(`Strain Category`= \"Soil\", microcin = 0) %>%\n",
    "\tfull_join(strain_category_assemblies) %>%\n",
    "\tmutate( relative_microcin = microcin / total_assemblies) %>%\n",
    "\tmutate(odds = relative_microcin/(microcinAssemblyProportion))%>%\n",
    "\tmutate(LOE = log10(odds))\n",
    "microcin_strain_category"
   ]
  },
  {
   "cell_type": "code",
   "execution_count": 16,
   "metadata": {
    "pycharm": {
     "name": "#%%\n"
    }
   },
   "outputs": [
    {
     "data": {
      "image/png": "[encoded data removed]"
     },
     "metadata": {},
     "output_type": "display_data"
    }
   ],
   "source": [
    "%%R -w 400 -h 300\n",
    "\n",
    "microcin_strain_category %>%\n",
    "\tmutate(`Strain Category` = str_replace(`Strain Category`, \"([_])\", \" \")) %>%\n",
    "\tfilter(`Strain Category` != \"Soil\") %>%\n",
    "#New line removes the Alone category\n",
    "\tfilter(`Strain Category` != \"Alone\") %>%\n",
    "\tggplot(aes(y = reorder(`Strain Category`,LOE), x = LOE)) +\n",
    "\t\tgeom_bar(stat = \"identity\", \n",
    "\t\tfill = \"#aabbcaff\"#\"#427281\"\n",
    "\t\t) +\n",
    "\t\tylab(NULL) + \n",
    "\t\txlab(\"Log of the odds of assembly with microcin\") +\n",
    "\t\ttheme_bw() +\n",
    "\t\ttheme(text = element_text(size = 14))\n",
    "# ggsave(\"microcin_strain_category.svg\")"
   ]
  },
  {
   "cell_type": "code",
   "execution_count": 31,
   "metadata": {
    "pycharm": {
     "name": "#%%\n"
    }
   },
   "outputs": [
    {
     "data": {
      "image/png": "[encoded data removed]"
     },
     "metadata": {},
     "output_type": "display_data"
    }
   ],
   "source": [
    "%%R -w 400 -h 300\n",
    "\n",
    "microcin_strain_category %>%\n",
    "\tmutate(`Strain Category` = str_replace(`Strain Category`, \"([_])\", \" \")) %>%\n",
    "\tfilter(`Strain Category` != \"Soil\") %>%\n",
    "# Remove Next Line for old graph\n",
    "#\tfilter(`Strain Category` != \"Alone\") %>%\n",
    "\tggplot(aes(y = reorder(`Strain Category`,LOE), x = LOE)) +\n",
    "\t\tgeom_bar(stat = \"identity\", \n",
    "\t\tfill = \"#aabbcaff\"#\"#427281\"\n",
    "\t\t) +\n",
    "\t\tylab(NULL) + \n",
    "\t\txlab(\"Log of the odds of assembly with microcin\") +\n",
    "\t\ttheme_bw() +\n",
    "\t\ttheme(text = element_text(size = 14))\n",
    "#ggsave(\"plots/03_microcin_strain_category.svg\")"
   ]
  },
  {
   "cell_type": "code",
   "execution_count": 29,
   "metadata": {
    "pycharm": {
     "name": "#%%\n"
    }
   },
   "outputs": [
    {
     "data": {
      "image/png": "[encoded data removed]"
     },
     "metadata": {},
     "output_type": "display_data"
    }
   ],
   "source": [
    "%%R -w 400 -h 300\n",
    "\n",
    "microcin_strain_category %>%\n",
    "\tmutate(`Strain Category` = str_replace(`Strain Category`, \"([_])\", \" \")) %>%\n",
    "\tfilter(`Strain Category` != \"Soil\") %>%\n",
    "\tfilter(`Strain Category` != \"Alone\") %>%\n",
    "\tggplot(aes(y = reorder(`Strain Category`,odds), x = odds)) +\n",
    "\t\tgeom_bar(stat = \"identity\", \n",
    "\t\tfill = \"#aabbcaff\"#\"#427281\"\n",
    "\t\t) +\n",
    "\t\tylab(NULL) + \n",
    "\t\txlab(\"% of assembly per category with microcin\") +\n",
    "\t\ttheme_bw() +\n",
    "\t\ttheme(text = element_text(size = 14))\n",
    "# ggsave(\"microcin_strain_category.svg\")"
   ]
  }
 ],
 "metadata": {
  "interpreter": {
   "hash": "184da163bdcbc68ba00985bd6e7412525ff7507797be2878afd169be169c48f1"
  },
  "kernelspec": {
   "display_name": "Python 3 (ipykernel)",
   "language": "python",
   "name": "python3"
  },
  "language_info": {
   "codemirror_mode": {
    "name": "ipython",
    "version": 3
   },
   "file_extension": ".py",
   "mimetype": "text/x-python",
   "name": "python",
   "nbconvert_exporter": "python",
   "pygments_lexer": "ipython3",
   "version": "3.8.10"
  }
 },
 "nbformat": 4,
 "nbformat_minor": 2
}
