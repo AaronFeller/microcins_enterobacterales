{
 "cells": [
  {
   "cell_type": "markdown",
   "metadata": {
    "pycharm": {
     "name": "#%% md\n"
    }
   },
   "source": [
    "# Load libraries"
   ]
  },
  {
   "cell_type": "code",
   "execution_count": 1,
   "metadata": {
    "pycharm": {
     "name": "#%%\n"
    }
   },
   "outputs": [],
   "source": [
    "import pandas as pd\n",
    "#pd.set_option('display.max_rows', None)\n",
    "#pd.set_option('display.max_columns', None)\n",
    "\n",
    "%load_ext rpy2.ipython"
   ]
  },
  {
   "cell_type": "code",
   "execution_count": 2,
   "metadata": {
    "pycharm": {
     "name": "#%%\n"
    }
   },
   "outputs": [
    {
     "name": "stderr",
     "output_type": "stream",
     "text": [
      "R[write to console]: ── Attaching packages ─────────────────────────────────────── tidyverse 1.3.1 ──\n",
      "\n",
      "R[write to console]: ✔ ggplot2 3.3.6     ✔ purrr   0.3.4\n",
      "✔ tibble  3.1.7     ✔ dplyr   1.0.9\n",
      "✔ tidyr   1.2.0     ✔ stringr 1.4.0\n",
      "✔ readr   2.1.2     ✔ forcats 0.5.1\n",
      "\n",
      "R[write to console]: ── Conflicts ────────────────────────────────────────── tidyverse_conflicts() ──\n",
      "✖ dplyr::filter() masks stats::filter()\n",
      "✖ dplyr::lag()    masks stats::lag()\n",
      "\n"
     ]
    }
   ],
   "source": [
    "%%R \n",
    "library(tidyverse)\n",
    "library(cowplot)\n",
    "library(ggforce)"
   ]
  },
  {
   "cell_type": "markdown",
   "metadata": {
    "pycharm": {
     "name": "#%% md\n"
    }
   },
   "source": [
    "# Load data"
   ]
  },
  {
   "cell_type": "code",
   "execution_count": 3,
   "metadata": {
    "pycharm": {
     "name": "#%%\n"
    }
   },
   "outputs": [
    {
     "name": "stdout",
     "output_type": "stream",
     "text": [
      "Rows: 7537 Columns: 25\n",
      "── Column specification ────────────────────────────────────────────────────────\n",
      "Delimiter: \",\"\n",
      "chr  (8): qseqid, sseqid, component, cinful_id, pephash, sample, contig, seq\n",
      "dbl (13): pident, length, mismatch, gapopen, qstart, qend, sstart, send, eva...\n",
      "lgl  (4): hmmerHit, verified, allStandardAA, signalMatch\n",
      "\n",
      "ℹ Use `spec()` to retrieve the full column specification for this data.\n",
      "ℹ Specify the column types or set `show_col_types = FALSE` to quiet this message.\n"
     ]
    }
   ],
   "source": [
    "%%R -o best_hits\n",
    "\n",
    "#reads best_hits file from cinful output\n",
    "best_hits <- read_csv(\"data/best_hits_10genomes_working_final.csv\")"
   ]
  },
  {
   "cell_type": "code",
   "execution_count": 4,
   "metadata": {
    "pycharm": {
     "name": "#%%\n"
    }
   },
   "outputs": [
    {
     "name": "stdout",
     "output_type": "stream",
     "text": [
      "Rows: 136 Columns: 10\n",
      "── Column specification ────────────────────────────────────────────────────────\n",
      "Delimiter: \",\"\n",
      "chr (6): cinful_id, pephash, sample, contig, seq, cvab_hit\n",
      "dbl (3): start, stop, strand\n",
      "lgl (1): allStandardAA\n",
      "\n",
      "ℹ Use `spec()` to retrieve the full column specification for this data.\n",
      "ℹ Specify the column types or set `show_col_types = FALSE` to quiet this message.\n"
     ]
    }
   ],
   "source": [
    "%%R -o best_MFP_hits\n",
    "\n",
    "#reads best_MFP_candidates from cinful output\n",
    "best_MFP_hits <- read_csv(\"data/new_best_MFP_candidates.csv\")"
   ]
  },
  {
   "cell_type": "markdown",
   "metadata": {
    "pycharm": {
     "name": "#%% md\n"
    }
   },
   "source": [
    "The goal here is to breakdown the assemblies with microcins into the following categories\n",
    "1. novel\n",
    "2. pcat\n",
    "3. mfp\n",
    "4. immunity\n",
    "\n",
    "novel is already taken care of from the default cinful output.\n",
    "\n",
    "For pcat we just look at best hits for CvaB and see if those headers match up with the other hits. For MFP, we will need the separate output file. Then take those headers and determine which PCAT hits also had a MFP hit."
   ]
  },
  {
   "cell_type": "code",
   "execution_count": 5,
   "metadata": {
    "pycharm": {
     "name": "#%%\n"
    }
   },
   "outputs": [
    {
     "data": {
      "text/plain": [
       "264"
      ]
     },
     "execution_count": 5,
     "metadata": {},
     "output_type": "execute_result"
    }
   ],
   "source": [
    "#Creates pcat_hits (subset of best_hits selecting for CvaB.verified)\n",
    "pcat_hits = best_hits[best_hits[\"component\"] == \"CvaB.verified\"]\n",
    "\n",
    "#Display results\n",
    "pcat_hits.shape[0]"
   ]
  },
  {
   "cell_type": "code",
   "execution_count": 6,
   "metadata": {},
   "outputs": [
    {
     "data": {
      "text/plain": [
       "289"
      ]
     },
     "execution_count": 6,
     "metadata": {},
     "output_type": "execute_result"
    }
   ],
   "source": [
    "#Matches the contig of the PCAT hit to the MFP hit and creates file pcat \n",
    "#pcat_hits_MFP = pcat_hits[pcat_hits[\"contig\"].isin(best_MFP_hits[\"contig\"])]\n",
    "\n",
    "#checks MFP file against microcin (best hits) file \n",
    "#mfp_hits = best_hits[best_hits[\"sample\"].isin(best_MFP_hits[\"sample\"])]\n",
    "\n",
    "mfp_hits = best_hits[best_hits[\"component\"] == \"MFP.verified\"]\n",
    "\n",
    "#Display results\n",
    "mfp_hits.shape[0]"
   ]
  },
  {
   "cell_type": "code",
   "execution_count": 7,
   "metadata": {},
   "outputs": [],
   "source": [
    "#Creates a subset of best_hits only containing the immunity proteins\n",
    "best_hits_immunity_protein = best_hits[best_hits[\"component\"] == \"immunity_proteins.verified\"]\n",
    "\n",
    "#Creates a subset of best_hits only containing the microcins\n",
    "microcin_hits_all = best_hits[best_hits[\"component\"] == \"microcins.verified\"]"
   ]
  },
  {
   "cell_type": "code",
   "execution_count": 8,
   "metadata": {
    "pycharm": {
     "name": "#%%\n"
    }
   },
   "outputs": [
    {
     "name": "stderr",
     "output_type": "stream",
     "text": [
      "/tmp/ipykernel_64032/280522086.py:2: SettingWithCopyWarning: \n",
      "A value is trying to be set on a copy of a slice from a DataFrame.\n",
      "Try using .loc[row_indexer,col_indexer] = value instead\n",
      "\n",
      "See the caveats in the documentation: https://pandas.pydata.org/pandas-docs/stable/user_guide/indexing.html#returning-a-view-versus-a-copy\n",
      "  microcin_hits_all[\"pcat_hits_assembly\"] = microcin_hits_all[\"sample\"].isin(pcat_hits[\"sample\"])\n",
      "/tmp/ipykernel_64032/280522086.py:8: SettingWithCopyWarning: \n",
      "A value is trying to be set on a copy of a slice from a DataFrame.\n",
      "Try using .loc[row_indexer,col_indexer] = value instead\n",
      "\n",
      "See the caveats in the documentation: https://pandas.pydata.org/pandas-docs/stable/user_guide/indexing.html#returning-a-view-versus-a-copy\n",
      "  microcin_hits_all[\"mfp_hits_assembly\"] = microcin_hits_all[\"sample\"].isin(mfp_hits[\"sample\"])\n",
      "/tmp/ipykernel_64032/280522086.py:11: SettingWithCopyWarning: \n",
      "A value is trying to be set on a copy of a slice from a DataFrame.\n",
      "Try using .loc[row_indexer,col_indexer] = value instead\n",
      "\n",
      "See the caveats in the documentation: https://pandas.pydata.org/pandas-docs/stable/user_guide/indexing.html#returning-a-view-versus-a-copy\n",
      "  microcin_hits_all[\"immunity_contig\"] = microcin_hits_all[\"contig\"].isin(best_hits_immunity_protein[\"contig\"])\n",
      "/tmp/ipykernel_64032/280522086.py:14: SettingWithCopyWarning: \n",
      "A value is trying to be set on a copy of a slice from a DataFrame.\n",
      "Try using .loc[row_indexer,col_indexer] = value instead\n",
      "\n",
      "See the caveats in the documentation: https://pandas.pydata.org/pandas-docs/stable/user_guide/indexing.html#returning-a-view-versus-a-copy\n",
      "  microcin_hits_all[\"immunity_genome\"] = microcin_hits_all[\"sample\"].isin(best_hits_immunity_protein[\"sample\"])\n"
     ]
    },
    {
     "data": {
      "text/html": [
       "<div>\n",
       "<style scoped>\n",
       "    .dataframe tbody tr th:only-of-type {\n",
       "        vertical-align: middle;\n",
       "    }\n",
       "\n",
       "    .dataframe tbody tr th {\n",
       "        vertical-align: top;\n",
       "    }\n",
       "\n",
       "    .dataframe thead th {\n",
       "        text-align: right;\n",
       "    }\n",
       "</style>\n",
       "<table border=\"1\" class=\"dataframe\">\n",
       "  <thead>\n",
       "    <tr style=\"text-align: right;\">\n",
       "      <th></th>\n",
       "      <th>qseqid</th>\n",
       "      <th>sseqid</th>\n",
       "      <th>pident</th>\n",
       "      <th>length</th>\n",
       "      <th>mismatch</th>\n",
       "      <th>gapopen</th>\n",
       "      <th>qstart</th>\n",
       "      <th>qend</th>\n",
       "      <th>sstart</th>\n",
       "      <th>send</th>\n",
       "      <th>...</th>\n",
       "      <th>start</th>\n",
       "      <th>stop</th>\n",
       "      <th>strand</th>\n",
       "      <th>allStandardAA</th>\n",
       "      <th>seq</th>\n",
       "      <th>signalMatch</th>\n",
       "      <th>pcat_hits_assembly</th>\n",
       "      <th>mfp_hits_assembly</th>\n",
       "      <th>immunity_contig</th>\n",
       "      <th>immunity_genome</th>\n",
       "    </tr>\n",
       "  </thead>\n",
       "  <tbody>\n",
       "    <tr>\n",
       "      <th>1</th>\n",
       "      <td>v1_PLS_db490abaa1226bcadb3363823b8bfc07164af25...</td>\n",
       "      <td>H47_sp_P62530_MCHB_ECOLX</td>\n",
       "      <td>100.000</td>\n",
       "      <td>75.0</td>\n",
       "      <td>0.0</td>\n",
       "      <td>0.0</td>\n",
       "      <td>23.0</td>\n",
       "      <td>97.0</td>\n",
       "      <td>1.0</td>\n",
       "      <td>75.0</td>\n",
       "      <td>...</td>\n",
       "      <td>5978.0</td>\n",
       "      <td>6271.0</td>\n",
       "      <td>-1.0</td>\n",
       "      <td>1</td>\n",
       "      <td>MGFERFWSGQAGKTEVKYDGVYMREITESQLRYISGAGGAPATSAN...</td>\n",
       "      <td>1</td>\n",
       "      <td>True</td>\n",
       "      <td>True</td>\n",
       "      <td>True</td>\n",
       "      <td>True</td>\n",
       "    </tr>\n",
       "    <tr>\n",
       "      <th>2</th>\n",
       "      <td>v1_PLS_db490abaa1226bcadb3363823b8bfc07164af25...</td>\n",
       "      <td>H47_sp_P62530_MCHB_ECOLX</td>\n",
       "      <td>100.000</td>\n",
       "      <td>75.0</td>\n",
       "      <td>0.0</td>\n",
       "      <td>0.0</td>\n",
       "      <td>23.0</td>\n",
       "      <td>97.0</td>\n",
       "      <td>1.0</td>\n",
       "      <td>75.0</td>\n",
       "      <td>...</td>\n",
       "      <td>37.0</td>\n",
       "      <td>330.0</td>\n",
       "      <td>-1.0</td>\n",
       "      <td>1</td>\n",
       "      <td>MGFERFWSGQAGKTEVKYDGVYMREITESQLRYISGAGGAPATSAN...</td>\n",
       "      <td>1</td>\n",
       "      <td>True</td>\n",
       "      <td>True</td>\n",
       "      <td>False</td>\n",
       "      <td>True</td>\n",
       "    </tr>\n",
       "    <tr>\n",
       "      <th>3</th>\n",
       "      <td>v1_PLS_db490abaa1226bcadb3363823b8bfc07164af25...</td>\n",
       "      <td>H47_sp_P62530_MCHB_ECOLX</td>\n",
       "      <td>100.000</td>\n",
       "      <td>75.0</td>\n",
       "      <td>0.0</td>\n",
       "      <td>0.0</td>\n",
       "      <td>23.0</td>\n",
       "      <td>97.0</td>\n",
       "      <td>1.0</td>\n",
       "      <td>75.0</td>\n",
       "      <td>...</td>\n",
       "      <td>253.0</td>\n",
       "      <td>546.0</td>\n",
       "      <td>-1.0</td>\n",
       "      <td>1</td>\n",
       "      <td>MGFERFWSGQAGKTEVKYDGVYMREITESQLRYISGAGGAPATSAN...</td>\n",
       "      <td>1</td>\n",
       "      <td>True</td>\n",
       "      <td>True</td>\n",
       "      <td>False</td>\n",
       "      <td>True</td>\n",
       "    </tr>\n",
       "    <tr>\n",
       "      <th>4</th>\n",
       "      <td>v1_PLS_db490abaa1226bcadb3363823b8bfc07164af25...</td>\n",
       "      <td>H47_sp_P62530_MCHB_ECOLX</td>\n",
       "      <td>100.000</td>\n",
       "      <td>75.0</td>\n",
       "      <td>0.0</td>\n",
       "      <td>0.0</td>\n",
       "      <td>23.0</td>\n",
       "      <td>97.0</td>\n",
       "      <td>1.0</td>\n",
       "      <td>75.0</td>\n",
       "      <td>...</td>\n",
       "      <td>1302.0</td>\n",
       "      <td>1595.0</td>\n",
       "      <td>1.0</td>\n",
       "      <td>1</td>\n",
       "      <td>MGFERFWSGQAGKTEVKYDGVYMREITESQLRYISGAGGAPATSAN...</td>\n",
       "      <td>1</td>\n",
       "      <td>True</td>\n",
       "      <td>True</td>\n",
       "      <td>True</td>\n",
       "      <td>True</td>\n",
       "    </tr>\n",
       "    <tr>\n",
       "      <th>5</th>\n",
       "      <td>v1_PLS_db490abaa1226bcadb3363823b8bfc07164af25...</td>\n",
       "      <td>H47_sp_P62530_MCHB_ECOLX</td>\n",
       "      <td>100.000</td>\n",
       "      <td>75.0</td>\n",
       "      <td>0.0</td>\n",
       "      <td>0.0</td>\n",
       "      <td>23.0</td>\n",
       "      <td>97.0</td>\n",
       "      <td>1.0</td>\n",
       "      <td>75.0</td>\n",
       "      <td>...</td>\n",
       "      <td>1170.0</td>\n",
       "      <td>1463.0</td>\n",
       "      <td>1.0</td>\n",
       "      <td>1</td>\n",
       "      <td>MGFERFWSGQAGKTEVKYDGVYMREITESQLRYISGAGGAPATSAN...</td>\n",
       "      <td>1</td>\n",
       "      <td>False</td>\n",
       "      <td>True</td>\n",
       "      <td>True</td>\n",
       "      <td>True</td>\n",
       "    </tr>\n",
       "    <tr>\n",
       "      <th>...</th>\n",
       "      <td>...</td>\n",
       "      <td>...</td>\n",
       "      <td>...</td>\n",
       "      <td>...</td>\n",
       "      <td>...</td>\n",
       "      <td>...</td>\n",
       "      <td>...</td>\n",
       "      <td>...</td>\n",
       "      <td>...</td>\n",
       "      <td>...</td>\n",
       "      <td>...</td>\n",
       "      <td>...</td>\n",
       "      <td>...</td>\n",
       "      <td>...</td>\n",
       "      <td>...</td>\n",
       "      <td>...</td>\n",
       "      <td>...</td>\n",
       "      <td>...</td>\n",
       "      <td>...</td>\n",
       "      <td>...</td>\n",
       "      <td>...</td>\n",
       "    </tr>\n",
       "    <tr>\n",
       "      <th>400</th>\n",
       "      <td>v1_PLS_f5f4b229944b80fdc79a5870d6bb61db5c15b92...</td>\n",
       "      <td>I47_tr_Q712Q0_Q712Q0_ECOLX</td>\n",
       "      <td>93.750</td>\n",
       "      <td>48.0</td>\n",
       "      <td>3.0</td>\n",
       "      <td>0.0</td>\n",
       "      <td>1.0</td>\n",
       "      <td>48.0</td>\n",
       "      <td>1.0</td>\n",
       "      <td>48.0</td>\n",
       "      <td>...</td>\n",
       "      <td>172.0</td>\n",
       "      <td>330.0</td>\n",
       "      <td>1.0</td>\n",
       "      <td>1</td>\n",
       "      <td>MREISDHMLDFVKGGMNLNGLPSSTNVIDLRGKDMGTYIDANGACW...</td>\n",
       "      <td>0</td>\n",
       "      <td>True</td>\n",
       "      <td>True</td>\n",
       "      <td>True</td>\n",
       "      <td>True</td>\n",
       "    </tr>\n",
       "    <tr>\n",
       "      <th>401</th>\n",
       "      <td>v1_PLS_4ab3e15a6dc44de84c9f3fd57f8afd9b6a7f7af...</td>\n",
       "      <td>I47_tr_Q712Q0_Q712Q0_ECOLX</td>\n",
       "      <td>91.228</td>\n",
       "      <td>57.0</td>\n",
       "      <td>5.0</td>\n",
       "      <td>0.0</td>\n",
       "      <td>1.0</td>\n",
       "      <td>57.0</td>\n",
       "      <td>1.0</td>\n",
       "      <td>57.0</td>\n",
       "      <td>...</td>\n",
       "      <td>3012.0</td>\n",
       "      <td>3245.0</td>\n",
       "      <td>-1.0</td>\n",
       "      <td>1</td>\n",
       "      <td>MREISDHMLDFVKRGMNLNGLPSSTNVIDLRGKDMGTYIDANGACW...</td>\n",
       "      <td>0</td>\n",
       "      <td>True</td>\n",
       "      <td>True</td>\n",
       "      <td>False</td>\n",
       "      <td>True</td>\n",
       "    </tr>\n",
       "    <tr>\n",
       "      <th>403</th>\n",
       "      <td>v1_PLS_162b4d1d19ac7e08ea0998616fd4a878ff9bbec...</td>\n",
       "      <td>V_sp_P22522_CEAV_ECOLX</td>\n",
       "      <td>100.000</td>\n",
       "      <td>93.0</td>\n",
       "      <td>0.0</td>\n",
       "      <td>0.0</td>\n",
       "      <td>1.0</td>\n",
       "      <td>93.0</td>\n",
       "      <td>1.0</td>\n",
       "      <td>93.0</td>\n",
       "      <td>...</td>\n",
       "      <td>8234.0</td>\n",
       "      <td>8512.0</td>\n",
       "      <td>1.0</td>\n",
       "      <td>1</td>\n",
       "      <td>MRTLTLNELDSVSGGASGRDIAMAIGTLSGQFVAGGIGAAAGGVAG...</td>\n",
       "      <td>1</td>\n",
       "      <td>True</td>\n",
       "      <td>True</td>\n",
       "      <td>False</td>\n",
       "      <td>True</td>\n",
       "    </tr>\n",
       "    <tr>\n",
       "      <th>404</th>\n",
       "      <td>v1_PLS_796a75914de7bf03f46239f1d355a033c9e7e1d...</td>\n",
       "      <td>M_tr_Q83TS1_Q83TS1_ECOLX</td>\n",
       "      <td>96.739</td>\n",
       "      <td>92.0</td>\n",
       "      <td>3.0</td>\n",
       "      <td>0.0</td>\n",
       "      <td>1.0</td>\n",
       "      <td>92.0</td>\n",
       "      <td>1.0</td>\n",
       "      <td>92.0</td>\n",
       "      <td>...</td>\n",
       "      <td>7652.0</td>\n",
       "      <td>7930.0</td>\n",
       "      <td>-1.0</td>\n",
       "      <td>1</td>\n",
       "      <td>MRKPSENEIKQISGGDGNDGQAELIAIGLLAGTFISPGFGSIAGAY...</td>\n",
       "      <td>1</td>\n",
       "      <td>True</td>\n",
       "      <td>True</td>\n",
       "      <td>True</td>\n",
       "      <td>True</td>\n",
       "    </tr>\n",
       "    <tr>\n",
       "      <th>405</th>\n",
       "      <td>v1_PLS_88426749978fd21b16ada39d2950092412976d0...</td>\n",
       "      <td>H47_sp_P62530_MCHB_ECOLX</td>\n",
       "      <td>98.667</td>\n",
       "      <td>75.0</td>\n",
       "      <td>1.0</td>\n",
       "      <td>0.0</td>\n",
       "      <td>23.0</td>\n",
       "      <td>97.0</td>\n",
       "      <td>1.0</td>\n",
       "      <td>75.0</td>\n",
       "      <td>...</td>\n",
       "      <td>1.0</td>\n",
       "      <td>411.0</td>\n",
       "      <td>-1.0</td>\n",
       "      <td>1</td>\n",
       "      <td>MGFEGFWSGQAGKTEVKYDGVYMREITESQLRYISGAGGAPATSAN...</td>\n",
       "      <td>1</td>\n",
       "      <td>True</td>\n",
       "      <td>True</td>\n",
       "      <td>False</td>\n",
       "      <td>True</td>\n",
       "    </tr>\n",
       "  </tbody>\n",
       "</table>\n",
       "<p>365 rows × 29 columns</p>\n",
       "</div>"
      ],
      "text/plain": [
       "                                                qseqid  \\\n",
       "1    v1_PLS_db490abaa1226bcadb3363823b8bfc07164af25...   \n",
       "2    v1_PLS_db490abaa1226bcadb3363823b8bfc07164af25...   \n",
       "3    v1_PLS_db490abaa1226bcadb3363823b8bfc07164af25...   \n",
       "4    v1_PLS_db490abaa1226bcadb3363823b8bfc07164af25...   \n",
       "5    v1_PLS_db490abaa1226bcadb3363823b8bfc07164af25...   \n",
       "..                                                 ...   \n",
       "400  v1_PLS_f5f4b229944b80fdc79a5870d6bb61db5c15b92...   \n",
       "401  v1_PLS_4ab3e15a6dc44de84c9f3fd57f8afd9b6a7f7af...   \n",
       "403  v1_PLS_162b4d1d19ac7e08ea0998616fd4a878ff9bbec...   \n",
       "404  v1_PLS_796a75914de7bf03f46239f1d355a033c9e7e1d...   \n",
       "405  v1_PLS_88426749978fd21b16ada39d2950092412976d0...   \n",
       "\n",
       "                         sseqid   pident  length  mismatch  gapopen  qstart  \\\n",
       "1      H47_sp_P62530_MCHB_ECOLX  100.000    75.0       0.0      0.0    23.0   \n",
       "2      H47_sp_P62530_MCHB_ECOLX  100.000    75.0       0.0      0.0    23.0   \n",
       "3      H47_sp_P62530_MCHB_ECOLX  100.000    75.0       0.0      0.0    23.0   \n",
       "4      H47_sp_P62530_MCHB_ECOLX  100.000    75.0       0.0      0.0    23.0   \n",
       "5      H47_sp_P62530_MCHB_ECOLX  100.000    75.0       0.0      0.0    23.0   \n",
       "..                          ...      ...     ...       ...      ...     ...   \n",
       "400  I47_tr_Q712Q0_Q712Q0_ECOLX   93.750    48.0       3.0      0.0     1.0   \n",
       "401  I47_tr_Q712Q0_Q712Q0_ECOLX   91.228    57.0       5.0      0.0     1.0   \n",
       "403      V_sp_P22522_CEAV_ECOLX  100.000    93.0       0.0      0.0     1.0   \n",
       "404    M_tr_Q83TS1_Q83TS1_ECOLX   96.739    92.0       3.0      0.0     1.0   \n",
       "405    H47_sp_P62530_MCHB_ECOLX   98.667    75.0       1.0      0.0    23.0   \n",
       "\n",
       "     qend  sstart  send  ...   start    stop strand  allStandardAA  \\\n",
       "1    97.0     1.0  75.0  ...  5978.0  6271.0   -1.0              1   \n",
       "2    97.0     1.0  75.0  ...    37.0   330.0   -1.0              1   \n",
       "3    97.0     1.0  75.0  ...   253.0   546.0   -1.0              1   \n",
       "4    97.0     1.0  75.0  ...  1302.0  1595.0    1.0              1   \n",
       "5    97.0     1.0  75.0  ...  1170.0  1463.0    1.0              1   \n",
       "..    ...     ...   ...  ...     ...     ...    ...            ...   \n",
       "400  48.0     1.0  48.0  ...   172.0   330.0    1.0              1   \n",
       "401  57.0     1.0  57.0  ...  3012.0  3245.0   -1.0              1   \n",
       "403  93.0     1.0  93.0  ...  8234.0  8512.0    1.0              1   \n",
       "404  92.0     1.0  92.0  ...  7652.0  7930.0   -1.0              1   \n",
       "405  97.0     1.0  75.0  ...     1.0   411.0   -1.0              1   \n",
       "\n",
       "                                                   seq signalMatch  \\\n",
       "1    MGFERFWSGQAGKTEVKYDGVYMREITESQLRYISGAGGAPATSAN...           1   \n",
       "2    MGFERFWSGQAGKTEVKYDGVYMREITESQLRYISGAGGAPATSAN...           1   \n",
       "3    MGFERFWSGQAGKTEVKYDGVYMREITESQLRYISGAGGAPATSAN...           1   \n",
       "4    MGFERFWSGQAGKTEVKYDGVYMREITESQLRYISGAGGAPATSAN...           1   \n",
       "5    MGFERFWSGQAGKTEVKYDGVYMREITESQLRYISGAGGAPATSAN...           1   \n",
       "..                                                 ...         ...   \n",
       "400  MREISDHMLDFVKGGMNLNGLPSSTNVIDLRGKDMGTYIDANGACW...           0   \n",
       "401  MREISDHMLDFVKRGMNLNGLPSSTNVIDLRGKDMGTYIDANGACW...           0   \n",
       "403  MRTLTLNELDSVSGGASGRDIAMAIGTLSGQFVAGGIGAAAGGVAG...           1   \n",
       "404  MRKPSENEIKQISGGDGNDGQAELIAIGLLAGTFISPGFGSIAGAY...           1   \n",
       "405  MGFEGFWSGQAGKTEVKYDGVYMREITESQLRYISGAGGAPATSAN...           1   \n",
       "\n",
       "    pcat_hits_assembly mfp_hits_assembly immunity_contig  immunity_genome  \n",
       "1                 True              True            True             True  \n",
       "2                 True              True           False             True  \n",
       "3                 True              True           False             True  \n",
       "4                 True              True            True             True  \n",
       "5                False              True            True             True  \n",
       "..                 ...               ...             ...              ...  \n",
       "400               True              True            True             True  \n",
       "401               True              True           False             True  \n",
       "403               True              True           False             True  \n",
       "404               True              True            True             True  \n",
       "405               True              True           False             True  \n",
       "\n",
       "[365 rows x 29 columns]"
      ]
     },
     "execution_count": 8,
     "metadata": {},
     "output_type": "execute_result"
    }
   ],
   "source": [
    "#Creates column \"pcat_hits_assembly\" and marks T/F if sample names match between microcin and pcat_hits\n",
    "microcin_hits_all[\"pcat_hits_assembly\"] = microcin_hits_all[\"sample\"].isin(pcat_hits[\"sample\"])\n",
    "\n",
    "#Creates column \"mfp_hits_assembly\" and marks T/F if  samples names match between microcin and pcat_hits_MFP\n",
    "#microcin_hits_all[\"mfp_hits_assembly\"] = microcin_hits_all[\"sample\"].isin(pcat_hits_MFP[\"sample\"])\n",
    "\n",
    "#Creates column \"mfp_hits_assembly\" and marks T/F if  samples names match between microcin and pcat_hits_MFP\n",
    "microcin_hits_all[\"mfp_hits_assembly\"] = microcin_hits_all[\"sample\"].isin(mfp_hits[\"sample\"])\n",
    "\n",
    "#Creates column \"immunity_contig\" and marks T/F if samples names match between microcin and immunity proteins\n",
    "microcin_hits_all[\"immunity_contig\"] = microcin_hits_all[\"contig\"].isin(best_hits_immunity_protein[\"contig\"])\n",
    "\n",
    "#Creates column \"immunity_genome\" and marks T/F if samples names match between microcin and immunity proteins\n",
    "microcin_hits_all[\"immunity_genome\"] = microcin_hits_all[\"sample\"].isin(best_hits_immunity_protein[\"sample\"])\n",
    "\n",
    "#Creates a verified subset of microcin_hits using HMMer hits (recorded from cinful) \n",
    "microcin_hits_verified = microcin_hits_all[microcin_hits_all[\"hmmerHit\"] == True]\n",
    "\n",
    "#Display output\n",
    "microcin_hits_verified\n",
    "\n"
   ]
  },
  {
   "cell_type": "code",
   "execution_count": 9,
   "metadata": {},
   "outputs": [
    {
     "name": "stderr",
     "output_type": "stream",
     "text": [
      "/tmp/ipykernel_64032/1932087489.py:18: SettingWithCopyWarning: \n",
      "A value is trying to be set on a copy of a slice from a DataFrame.\n",
      "Try using .loc[row_indexer,col_indexer] = value instead\n",
      "\n",
      "See the caveats in the documentation: https://pandas.pydata.org/pandas-docs/stable/user_guide/indexing.html#returning-a-view-versus-a-copy\n",
      "  microcin_hits_verified[\"genome_provides_immunity\"] = microcin_hits_verified[\"sample\"].isin(genome_and_pep_match[\"sample\"])\n",
      "/tmp/ipykernel_64032/1932087489.py:21: SettingWithCopyWarning: \n",
      "A value is trying to be set on a copy of a slice from a DataFrame.\n",
      "Try using .loc[row_indexer,col_indexer] = value instead\n",
      "\n",
      "See the caveats in the documentation: https://pandas.pydata.org/pandas-docs/stable/user_guide/indexing.html#returning-a-view-versus-a-copy\n",
      "  microcin_hits_verified[\"final_immunity\"] = (microcin_hits_verified[\"contig\"].isin(best_hits_immunity_protein[\"contig\"]) | microcin_hits_verified[\"genome_provides_immunity\"])\n"
     ]
    }
   ],
   "source": [
    "#Create subset of microcin hits with only sample, contig, and pephash(for microcin)\n",
    "mc = microcin_hits_verified.loc[:, ('sample', 'contig','pephash')]\n",
    "\n",
    "#Create subset of immunity protein hits with sample and contig\n",
    "ip = best_hits_immunity_protein.loc[:, ('sample', 'contig')]\n",
    "\n",
    "#Merge microcin and immunity protein, ensuring sample and contig hits. pephash(mc) will carry over for matches\n",
    "#This DF contains samples where the pephash meets immunity standard, therefore if sample and pephash match,\n",
    "#we know there is an immunity protein ON THIS GENOME for this specific microcin\n",
    "mc_to_ip_pephash = mc.merge(ip, how = 'inner', on = ['sample', 'contig'])\n",
    "\n",
    "#Merging the sample and pephash of the verified microcins to the contig match from above\n",
    "#This results in a df that has sample and pephash verification, matching to a known immunity protein\n",
    "genome_and_pep_match = microcin_hits_verified.merge(mc_to_ip_pephash, how = 'inner', on = ['sample', 'pephash'])\n",
    "\n",
    "#Final result creates a new column, genome_provides_immunity, that shows where an immunity protein\n",
    "#is present on the genome, matches the pephash from the microcin, and provides immunity to that specific microcin\n",
    "microcin_hits_verified[\"genome_provides_immunity\"] = microcin_hits_verified[\"sample\"].isin(genome_and_pep_match[\"sample\"])\n",
    "\n",
    "#New column, final_immunity, that includes both genome/pephash matches AND contig matches\n",
    "microcin_hits_verified[\"final_immunity\"] = (microcin_hits_verified[\"contig\"].isin(best_hits_immunity_protein[\"contig\"]) | microcin_hits_verified[\"genome_provides_immunity\"])"
   ]
  },
  {
   "cell_type": "code",
   "execution_count": 10,
   "metadata": {
    "pycharm": {
     "name": "#%%\n"
    }
   },
   "outputs": [
    {
     "name": "stdout",
     "output_type": "stream",
     "text": [
      "`summarise()` has grouped output by 'a_component', 'b_verified',\n",
      "'c_pcat_hits_assembly', 'd_mfp_hits_assembly'. You can override using the\n",
      "`.groups` argument.\n"
     ]
    },
    {
     "name": "stderr",
     "output_type": "stream",
     "text": [
      "R[write to console]: Using a_component, b_verified, c_pcat_hits_assembly, d_mfp_hits_assembly, e_immunity_contig as id variables\n",
      "\n"
     ]
    },
    {
     "name": "stdout",
     "output_type": "stream",
     "text": [
      "# A tibble: 80 × 10\n",
      "   a_component   b_verified   c_pcat_hits_ass… d_mfp_hits_asse… e_immunity_cont…\n",
      "   <chr>         <chr>        <chr>            <chr>            <chr>           \n",
      " 1 Microcin Hits Novel Micro… Contains PCAT    Contains MFP     Contains IP     \n",
      " 2 Microcin Hits Novel Micro… Contains PCAT    Contains MFP     IP Absent       \n",
      " 3 Microcin Hits Novel Micro… Contains PCAT    MFP Absent       Contains IP     \n",
      " 4 Microcin Hits Novel Micro… Contains PCAT    MFP Absent       IP Absent       \n",
      " 5 Microcin Hits Novel Micro… PCAT Absent      Contains MFP     Contains IP     \n",
      " 6 Microcin Hits Novel Micro… PCAT Absent      Contains MFP     IP Absent       \n",
      " 7 Microcin Hits Novel Micro… PCAT Absent      MFP Absent       Contains IP     \n",
      " 8 Microcin Hits Novel Micro… PCAT Absent      MFP Absent       IP Absent       \n",
      " 9 Microcin Hits Verified Mi… Contains PCAT    Contains MFP     Contains IP     \n",
      "10 Microcin Hits Verified Mi… Contains PCAT    Contains MFP     IP Absent       \n",
      "# … with 70 more rows, and 5 more variables: variable <fct>, value <int>,\n",
      "#   id <int>, x <chr>, y <chr>\n"
     ]
    }
   ],
   "source": [
    "%%R -i microcin_hits_verified\n",
    "microcin_hits_verified_melt <- \n",
    "microcin_hits_verified %>%\n",
    "\tas.tibble() %>%\n",
    "\tmutate(a_component = case_when(\n",
    "\t\tcomponent == \"microcins.verified\" ~ \"Microcin Hits\"\n",
    "\t)) %>%\n",
    "\tmutate(b_verified = case_when(\n",
    "\t\tpident < 100 ~ \"Novel Microcin\",\n",
    "\t\tpident == 100 ~ \"Verified Microcin\"\n",
    "\t)) %>%\n",
    "\tmutate(c_pcat_hits_assembly = case_when(\n",
    "\t\tpcat_hits_assembly == TRUE ~ \"Contains PCAT\",\n",
    "\t\tpcat_hits_assembly == FALSE ~ \"PCAT Absent\"\n",
    "\t)) %>%\n",
    "\tmutate(d_mfp_hits_assembly = case_when(\n",
    "\t\tmfp_hits_assembly == TRUE ~ \"Contains MFP\",\n",
    "\t\tmfp_hits_assembly == FALSE ~ \"MFP Absent\"\n",
    "\t)) %>%\n",
    "\tmutate(e_immunity_contig = case_when(\n",
    "\t\timmunity_contig == TRUE ~ \"Contains IP\",\n",
    "\t\timmunity_contig == FALSE ~ \"IP Absent\"\n",
    "    )) %>%\n",
    "\tgroup_by(a_component,b_verified, \n",
    "\tc_pcat_hits_assembly, d_mfp_hits_assembly,\n",
    "\te_immunity_contig) %>%\n",
    "\tsummarise(n = n()) %>%\n",
    "\treshape2::melt() %>%\n",
    "\tgather_set_data(1:5) %>%\n",
    "\tas.tibble() #%>%\n",
    "\n",
    "microcin_hits_verified_melt"
   ]
  },
  {
   "cell_type": "code",
   "execution_count": 11,
   "metadata": {
    "pycharm": {
     "name": "#%%\n"
    }
   },
   "outputs": [],
   "source": [
    "%%R\n",
    "\n",
    "#Save output in supplemental data\n",
    "microcin_hits_verified_melt %>%\n",
    "\twrite_csv(\"data/supplemental/Ecoli_microcin_sankey_data.csv\")"
   ]
  },
  {
   "cell_type": "code",
   "execution_count": 13,
   "metadata": {
    "pycharm": {
     "name": "#%%\n"
    },
    "scrolled": true
   },
   "outputs": [
    {
     "name": "stdout",
     "output_type": "stream",
     "text": [
      "Joining, by = \"y\"\n"
     ]
    }
   ],
   "source": [
    "%%R -w 4500 -h 1200\n",
    "microcin_hits_verified_melt %>%\n",
    "\tgroup_by(y) %>%\n",
    "\tsummarise(sum_value = sum(value)) %>%\n",
    "\tunite(\"category\", c(y,sum_value), sep = \": \",remove = FALSE) %>%\n",
    "\tfull_join(microcin_hits_verified_melt) %>%\n",
    "\tggplot(aes(x, id = id, split = category, value = value)) +\n",
    "# Next line \"fill = *\" determines the color split for the sankey plot\n",
    "\t\tgeom_parallel_sets(aes(fill = b_verified, axis.width = 0.1,\n",
    "\t\t\talpha=0.25\n",
    "\t\t\t)) +\n",
    "\t\tgeom_parallel_sets_axes(axis.width = 0.05, \n",
    "                                color = \"black\", \n",
    "                                fill = \"#BBBBBB\") +\n",
    "\n",
    "\t\tgeom_parallel_sets_labels(colour = \"black\", \n",
    "                                  angle = 0, \n",
    "                                  size = 28,\n",
    "                                  position = position_nudge(x = 0.08),  \n",
    "                                  hjust = 0) +\n",
    "\n",
    "\t\tscale_fill_manual(values=c(\"#b6d9e8\",\"#ffd1d1\")) +\n",
    "\t\ttheme_nothing()\n",
    "\n",
    "#Uncomment below to save\n",
    "ggsave(\"plots/AF/04_Sankey_AF_rerun.svg\", width = 4500, height = 1200, units = \"px\")\n"
   ]
  }
 ],
 "metadata": {
  "interpreter": {
   "hash": "184da163bdcbc68ba00985bd6e7412525ff7507797be2878afd169be169c48f1"
  },
  "kernelspec": {
   "display_name": "Python 3 (ipykernel)",
   "language": "python",
   "name": "python3"
  },
  "language_info": {
   "codemirror_mode": {
    "name": "ipython",
    "version": 3
   },
   "file_extension": ".py",
   "mimetype": "text/x-python",
   "name": "python",
   "nbconvert_exporter": "python",
   "pygments_lexer": "ipython3",
   "version": "3.8.10"
  }
 },
 "nbformat": 4,
 "nbformat_minor": 2
}
