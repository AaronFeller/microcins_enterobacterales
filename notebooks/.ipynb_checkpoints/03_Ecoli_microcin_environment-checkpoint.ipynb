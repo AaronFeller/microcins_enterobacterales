{
 "cells": [
  {
   "cell_type": "code",
   "execution_count": 1,
   "metadata": {
    "pycharm": {
     "name": "#%%\n"
    }
   },
   "outputs": [],
   "source": [
    "%load_ext rpy2.ipython"
   ]
  },
  {
   "cell_type": "code",
   "execution_count": 2,
   "metadata": {
    "pycharm": {
     "name": "#%%\n"
    }
   },
   "outputs": [
    {
     "name": "stderr",
     "output_type": "stream",
     "text": [
      "R[write to console]: ── Attaching packages ─────────────────────────────────────── tidyverse 1.3.1 ──\n",
      "\n",
      "R[write to console]: ✔ ggplot2 3.3.6     ✔ purrr   0.3.4\n",
      "✔ tibble  3.1.7     ✔ dplyr   1.0.9\n",
      "✔ tidyr   1.2.0     ✔ stringr 1.4.0\n",
      "✔ readr   2.1.2     ✔ forcats 0.5.1\n",
      "\n",
      "R[write to console]: ── Conflicts ────────────────────────────────────────── tidyverse_conflicts() ──\n",
      "✖ dplyr::filter() masks stats::filter()\n",
      "✖ dplyr::lag()    masks stats::lag()\n",
      "\n"
     ]
    }
   ],
   "source": [
    "%%R \n",
    "library(tidyverse)\n",
    "library(readxl)"
   ]
  },
  {
   "cell_type": "markdown",
   "metadata": {
    "pycharm": {
     "name": "#%% md\n"
    }
   },
   "source": [
    "# Load data\n",
    "\n",
    "The goal here is to determine the if certain environments are enriched for microcins. To do that,we need information about the assemblies so that we can figure out which environments they came from.\n"
   ]
  },
  {
   "cell_type": "code",
   "execution_count": 3,
   "metadata": {
    "pycharm": {
     "name": "#%%\n"
    }
   },
   "outputs": [
    {
     "name": "stdout",
     "output_type": "stream",
     "text": [
      "New names:\n",
      "• `` -> `...8`\n",
      "• `` -> `...20`\n",
      "• `` -> `...28`\n",
      "• `` -> `...35`\n",
      "Rows: 7262 Columns: 25\n",
      "── Column specification ────────────────────────────────────────────────────────\n",
      "Delimiter: \",\"\n",
      "chr  (8): qseqid, sseqid, component, cinful_id, pephash, sample, contig, seq\n",
      "dbl (13): pident, length, mismatch, gapopen, qstart, qend, sstart, send, eva...\n",
      "lgl  (4): hmmerHit, verified, allStandardAA, signalMatch\n",
      "\n",
      "ℹ Use `spec()` to retrieve the full column specification for this data.\n",
      "ℹ Specify the column types or set `show_col_types = FALSE` to quiet this message.\n",
      "# A tibble: 1,283 × 4\n",
      "   GEMBASE_NAME    phylogroup `Isolation source` `Strain Category`     \n",
      "   <chr>           <chr>      <chr>              <chr>                 \n",
      " 1 ESCO.0216.00064 A          Host-associated    Mammal_Faecal         \n",
      " 2 ESCO.0216.00065 B2         Environmental      Water                 \n",
      " 3 ESCO.0216.00066 B2         Host-associated    Human_Extra-intestinal\n",
      " 4 ESCO.0216.00067 B2         Host-associated    Human_Extra-intestinal\n",
      " 5 ESCO.0216.00068 B2         Host-associated    Mammal_Faecal         \n",
      " 6 ESCO.0216.00069 B2         Host-associated    Human_Extra-intestinal\n",
      " 7 ESCO.0216.00070 B2         Environmental      Water                 \n",
      " 8 ESCO.0216.00071 B1         Environmental      Water                 \n",
      " 9 ESCO.0216.00072 B2         Host-associated    Human_Intestinal      \n",
      "10 ESCO.0216.00073 D          Host-associated    Human_Intestinal      \n",
      "# … with 1,273 more rows\n"
     ]
    }
   ],
   "source": [
    "%%R\n",
    "assemblySummary_SequencedGenomes <- read_excel(\"data/Ecoli_assemblySummary.xlsx\", sheet=\"Sequenced-Genomes\", skip=5) %>%\n",
    "\tseparate(\"Sequence_Name\",c(\"phylogroup\")) %>%\n",
    "\tselect(c(\"Genome_ID\",\"phylogroup\",\"Isolation source\",\"Strain Category\")) %>%\n",
    "\trename(\"GEMBASE_NAME\"=\"Genome_ID\") %>%\n",
    "#Remove 'Alone' and 'Soil' samples\n",
    "\tfilter(`Strain Category` != \"Alone\") %>%\n",
    "\tfilter(`Strain Category` != \"Soil\") %>%\n",
    "#Removing three further samples that were categorized by Touchon as Alone\n",
    "    filter(GEMBASE_NAME != \"ESCO.0216.00100\") %>%\n",
    "    filter(GEMBASE_NAME != \"ESCO.0216.00262\") %>%\n",
    "    filter(GEMBASE_NAME != \"ESCO.0216.00275\") %>%\n",
    "\tdrop_na()\n",
    "\n",
    "\n",
    "\n",
    "assemblySummary_ENAInformation <- read_excel(\"data/Ecoli_assemblySummary.xlsx\", sheet=\"ENA-Information\")\n",
    "#metadata_aus_dataset <- read_excel(\"data/Ecoli_assemblySummary.xlsx\", sheet=\"Metadata-Australian-Dataset\")\n",
    "best_hits <- read_csv(\"data/Ecoli_pangenome_best_hits.csv\")\n",
    "\n",
    "\n",
    "assemblySummary_SequencedGenomes %>%\n",
    "\twrite_csv(\"data/supplemental/assemblySummary_SequencedGenomes.csv\")\n",
    "\n",
    "assemblySummary_SequencedGenomes"
   ]
  },
  {
   "cell_type": "code",
   "execution_count": 4,
   "metadata": {
    "pycharm": {
     "name": "#%%\n"
    }
   },
   "outputs": [],
   "source": [
    "%%R\n",
    "best_hits_assemblyID <- best_hits %>%\n",
    "\tseparate(cinful_id,c(NA, \"ASSEMBLY_ACC_ID\"), sep=\"/\") %>%\n",
    "\tseparate(ASSEMBLY_ACC_ID, c(\"ASSEMBLY_ACC\"), sep = \"[.]\")"
   ]
  },
  {
   "cell_type": "code",
   "execution_count": 5,
   "metadata": {
    "pycharm": {
     "name": "#%%\n"
    }
   },
   "outputs": [
    {
     "name": "stdout",
     "output_type": "stream",
     "text": [
      "Joining, by = \"GEMBASE_NAME\"\n",
      "# A tibble: 1,213 × 9\n",
      "   GEMBASE_NAME    ASSEMBLY_NAME ASSEMBLY_ACC  STUDY_ID   SAMPLE_ID  CONTIG_ACC \n",
      "   <chr>           <chr>         <chr>         <chr>      <chr>      <chr>      \n",
      " 1 ESCO.0216.00064 M919          GCA_902837545 PRJEB34791 ERS3882805 CADFUW0100…\n",
      " 2 ESCO.0216.00065 E5795         GCA_902837575 PRJEB34791 ERS3882806 CADFUZ0100…\n",
      " 3 ESCO.0216.00066 H219          GCA_902837605 PRJEB34791 ERS3882807 CADFVP0100…\n",
      " 4 ESCO.0216.00069 H144          GCA_902837675 PRJEB34791 ERS3882808 CADFVR0100…\n",
      " 5 ESCO.0216.00070 E7727         GCA_902837715 PRJEB34791 ERS3882809 CADFVL0100…\n",
      " 6 ESCO.0216.00071 E2508         GCA_902837615 PRJEB34791 ERS3882810 CADFVH0100…\n",
      " 7 ESCO.0216.00072 54_1_Ti6      GCA_902837705 PRJEB34791 ERS3882811 CADFVD0100…\n",
      " 8 ESCO.0216.00073 47_4_R1       GCA_902837625 PRJEB34791 ERS3882812 CADFVE0100…\n",
      " 9 ESCO.0216.00074 M714          GCA_902837745 PRJEB34791 ERS3882813 CADFVF0100…\n",
      "10 ESCO.0216.00075 E7615         GCA_902837655 PRJEB34791 ERS3882814 CADFVG0100…\n",
      "# … with 1,203 more rows, and 3 more variables: phylogroup <chr>,\n",
      "#   `Isolation source` <chr>, `Strain Category` <chr>\n"
     ]
    }
   ],
   "source": [
    "%%R \n",
    "assemblySummary_Annotated <- assemblySummary_ENAInformation %>%\n",
    "\tfull_join(assemblySummary_SequencedGenomes) %>%\n",
    "\tdrop_na()\n",
    "\n",
    "assemblySummary_Annotated #%>%\n",
    "#    \twrite_csv(\"data/supplemental/assemblySummary_Annotated.csv\")"
   ]
  },
  {
   "cell_type": "code",
   "execution_count": 6,
   "metadata": {
    "pycharm": {
     "name": "#%%\n"
    }
   },
   "outputs": [
    {
     "name": "stdout",
     "output_type": "stream",
     "text": [
      "Joining, by = \"ASSEMBLY_ACC\"\n",
      "# A tibble: 406 × 5\n",
      "   ASSEMBLY_ACC  phylogroup sseqid                    verified `Strain Category`\n",
      "   <chr>         <chr>      <chr>                     <lgl>    <chr>            \n",
      " 1 GCA_902849325 F          E492_sp_Q9Z4N4_MCEA_KLEPN FALSE    Human_Extra-inte…\n",
      " 2 GCA_902845405 D          L_tr_Q841V4_Q841V4_ECOLX  FALSE    Water            \n",
      " 3 GCA_902845405 D          V_sp_P22522_CEAV_ECOLX    FALSE    Water            \n",
      " 4 GCA_902842805 E          V_sp_P22522_CEAV_ECOLX    TRUE     Poultry_Meat     \n",
      " 5 GCA_902843155 B1         V_sp_P22522_CEAV_ECOLX    TRUE     Bird_Faecal      \n",
      " 6 GCA_902842285 B1         V_sp_P22522_CEAV_ECOLX    TRUE     Bird_Faecal      \n",
      " 7 GCA_902841095 C          V_sp_P22522_CEAV_ECOLX    TRUE     Human_Faecal     \n",
      " 8 GCA_902848205 A          V_sp_P22522_CEAV_ECOLX    TRUE     Bird_Faecal      \n",
      " 9 GCA_902846965 B2         V_sp_P22522_CEAV_ECOLX    TRUE     Poultry_Meat     \n",
      "10 GCA_902845305 B1         V_sp_P22522_CEAV_ECOLX    TRUE     Poultry_Meat     \n",
      "# … with 396 more rows\n"
     ]
    }
   ],
   "source": [
    "%%R\n",
    "best_hits_assemblyID_Annotated <- best_hits_assemblyID %>%\n",
    "\tfull_join(assemblySummary_Annotated) %>%\n",
    "\tfilter(component == \"microcins.verified\") %>%\n",
    "\tselect(ASSEMBLY_ACC, phylogroup, sseqid, verified, `Strain Category`)\n",
    "\n",
    "best_hits_assemblyID_Annotated #%>%\n",
    "#\twrite_csv(\"data/supplemental/best_hits_assemblyID_Annotated.csv\")"
   ]
  },
  {
   "cell_type": "code",
   "execution_count": 7,
   "metadata": {},
   "outputs": [
    {
     "name": "stdout",
     "output_type": "stream",
     "text": [
      "[1] 404\n"
     ]
    }
   ],
   "source": [
    "%%R\n",
    "\n",
    "hits_phylogroup_by_category <- table(best_hits_assemblyID_Annotated$phylogroup, best_hits_assemblyID_Annotated$`Strain Category`)\n",
    "\n",
    "table(best_hits_assemblyID_Annotated$phylogroup, best_hits_assemblyID_Annotated$`Strain Category`)\n",
    "\n",
    "sum(table(best_hits_assemblyID_Annotated$phylogroup, best_hits_assemblyID_Annotated$`Strain Category`))"
   ]
  },
  {
   "cell_type": "code",
   "execution_count": 8,
   "metadata": {},
   "outputs": [
    {
     "name": "stdout",
     "output_type": "stream",
     "text": [
      "\n",
      "\tPearson's Chi-squared test\n",
      "\n",
      "data:  hits_phylogroup_by_category\n",
      "X-squared = 184.97, df = 42, p-value < 2.2e-16\n",
      "\n"
     ]
    }
   ],
   "source": [
    "%%R\n",
    "\n",
    "chisq.test(hits_phylogroup_by_category)"
   ]
  },
  {
   "cell_type": "code",
   "execution_count": 9,
   "metadata": {},
   "outputs": [
    {
     "name": "stdout",
     "output_type": "stream",
     "text": [
      "      \n",
      "       Bird_Faecal Human_Extra-intestinal Human_Faecal Human_Intestinal\n",
      "  A             51                     19           35               20\n",
      "  B1            46                      1            0               28\n",
      "  B2            31                     65           22               73\n",
      "  C              1                      5            4                1\n",
      "  D             29                      0            0               44\n",
      "  E              8                      0            0                1\n",
      "  F             17                     12            7                5\n",
      "  H299           2                      2            4                0\n",
      "      \n",
      "       Mammal_Faecal Poultry_Meat Water\n",
      "  A               21           89    56\n",
      "  B1              27           48   121\n",
      "  B2              35           37    38\n",
      "  C                0            4     1\n",
      "  D               27           43    31\n",
      "  E                4           28    17\n",
      "  F                3           17     9\n",
      "  H299             0           17     7\n"
     ]
    }
   ],
   "source": [
    "%%R\n",
    "\n",
    "all_phylogroup_by_category <- table(assemblySummary_Annotated$phylogroup, assemblySummary_Annotated$`Strain Category`)\n",
    "\n",
    "table(assemblySummary_Annotated$phylogroup, assemblySummary_Annotated$`Strain Category`)"
   ]
  },
  {
   "cell_type": "code",
   "execution_count": 10,
   "metadata": {},
   "outputs": [
    {
     "name": "stdout",
     "output_type": "stream",
     "text": [
      "\n",
      "\tPearson's Chi-squared test\n",
      "\n",
      "data:  all_phylogroup_by_category\n",
      "X-squared = 407.59, df = 42, p-value < 2.2e-16\n",
      "\n"
     ]
    }
   ],
   "source": [
    "%%R\n",
    "\n",
    "chisq.test(all_phylogroup_by_category)"
   ]
  },
  {
   "cell_type": "code",
   "execution_count": 11,
   "metadata": {},
   "outputs": [
    {
     "name": "stdout",
     "output_type": "stream",
     "text": [
      "\n",
      "\tPearson's Chi-squared test\n",
      "\n",
      "data:  hits_phylogroup_by_category\n",
      "X-squared = 184.97, df = 42, p-value < 2.2e-16\n",
      "\n"
     ]
    }
   ],
   "source": [
    "%%R\n",
    "\n",
    "chisq.test(x=hits_phylogroup_by_category, y=all_phylogroup_by_category)"
   ]
  },
  {
   "cell_type": "code",
   "execution_count": 12,
   "metadata": {
    "pycharm": {
     "name": "#%%\n"
    }
   },
   "outputs": [
    {
     "name": "stdout",
     "output_type": "stream",
     "text": [
      "[1] 0.3347073\n"
     ]
    }
   ],
   "source": [
    "%%R\n",
    "\n",
    "#Frequency of microcin per assembly\n",
    "microcinAssemblyProportion <- length(best_hits_assemblyID_Annotated$ASSEMBLY_ACC)/length(assemblySummary_Annotated$ASSEMBLY_ACC)\n",
    "microcinAssemblyProportion\n",
    "\n",
    "#length(best_hits_assemblyID_Annotated$ASSEMBLY_ACC)\n",
    "#length(assemblySummary_Annotated$ASSEMBLY_ACC)"
   ]
  },
  {
   "cell_type": "code",
   "execution_count": 13,
   "metadata": {
    "pycharm": {
     "name": "#%%\n"
    }
   },
   "outputs": [
    {
     "name": "stdout",
     "output_type": "stream",
     "text": [
      "# A tibble: 7 × 2\n",
      "  `Strain Category`      total_assemblies\n",
      "  <chr>                             <int>\n",
      "1 Bird_Faecal                         185\n",
      "2 Human_Extra-intestinal              104\n",
      "3 Human_Faecal                         72\n",
      "4 Human_Intestinal                    172\n",
      "5 Mammal_Faecal                       117\n",
      "6 Poultry_Meat                        283\n",
      "7 Water                               280\n"
     ]
    }
   ],
   "source": [
    "%%R\n",
    "strain_category_assemblies <- assemblySummary_Annotated %>%\n",
    "\tcount(`Strain Category`, name=\"total_assemblies\")\n",
    "strain_category_assemblies"
   ]
  },
  {
   "cell_type": "code",
   "execution_count": 26,
   "metadata": {
    "pycharm": {
     "name": "#%%\n"
    }
   },
   "outputs": [
    {
     "name": "stdout",
     "output_type": "stream",
     "text": [
      "Joining, by = \"Strain Category\"\n",
      "# A tibble: 7 × 6\n",
      "  `Strain Category`     microcin total_assemblies relative_microc…  odds     LOE\n",
      "  <chr>                    <int>            <int>            <dbl> <dbl>   <dbl>\n",
      "1 Bird_Faecal                 50              185            0.270 0.807 -0.0929\n",
      "2 Human_Extra-intestin…       52              104            0.5   1.49   0.174 \n",
      "3 Human_Faecal                21               72            0.292 0.871 -0.0598\n",
      "4 Human_Intestinal            64              172            0.372 1.11   0.0460\n",
      "5 Mammal_Faecal               47              117            0.402 1.20   0.0792\n",
      "6 Poultry_Meat               122              283            0.431 1.29   0.110 \n",
      "7 Water                       48              280            0.171 0.512 -0.291 \n"
     ]
    }
   ],
   "source": [
    "%%R -w 1500\n",
    "\n",
    "microcin_strain_category <- best_hits_assemblyID_Annotated %>%\n",
    "\tcount(`Strain Category`, name = \"microcin\") %>%\n",
    "\tfull_join(strain_category_assemblies) %>%\n",
    "\tmutate(relative_microcin = microcin / total_assemblies) %>%\n",
    "\tmutate(odds = relative_microcin/(microcinAssemblyProportion)) %>%\n",
    "\tmutate(LOE = log10(odds)) %>%\n",
    "\tdrop_na()\n",
    "\n",
    "#microcin_strain_category <- microcin_strain_category %>%\n",
    "#\tmutate(assembly_freq = total_assemblies#/sum(total_assemblies)\n",
    "\n",
    "microcin_strain_category\n"
   ]
  },
  {
   "cell_type": "code",
   "execution_count": 15,
   "metadata": {},
   "outputs": [
    {
     "name": "stdout",
     "output_type": "stream",
     "text": [
      "\n",
      "\tChi-squared test for given probabilities\n",
      "\n",
      "data:  microcin_strain_category$total_assemblies\n",
      "X-squared = 241.17, df = 6, p-value < 2.2e-16\n",
      "\n"
     ]
    }
   ],
   "source": [
    "%%R\n",
    "#Chi square present in paper before figure 5\n",
    "\n",
    "microcin_strain_category_chisq <- chisq.test(microcin_strain_category$total_assemblies)\n",
    "microcin_strain_category_chisq"
   ]
  },
  {
   "cell_type": "code",
   "execution_count": 16,
   "metadata": {},
   "outputs": [
    {
     "name": "stdout",
     "output_type": "stream",
     "text": [
      "\n",
      "\tChi-squared test for given probabilities\n",
      "\n",
      "data:  microcin_strain_category$microcin\n",
      "X-squared = 43.834, df = 6, p-value = 7.973e-08\n",
      "\n"
     ]
    }
   ],
   "source": [
    "%%R\n",
    "\n",
    "freqs = microcin_strain_category$total_assemblies/sum(microcin_strain_category$total_assemblies)\n",
    "\n",
    "microcin_strain_category_freq_chisq <- chisq.test(x = microcin_strain_category$microcin, p=freqs)\n",
    "\n",
    "microcin_strain_category_freq_chisq\n",
    "\n",
    "\n",
    "#chisq.test(microcin_strain_category$total_assemblies-microcin_strain_category$microcin, microcin_strain_category$microcin)\n",
    "\n",
    "#microcin_strain_category$total_assemblies-microcin_strain_category$microcin"
   ]
  },
  {
   "cell_type": "code",
   "execution_count": 17,
   "metadata": {},
   "outputs": [],
   "source": [
    "%%R\n",
    "microcin_strain_category %>%\n",
    "\twrite_csv(\"data/supplemental/Touchon_categories_microcins.csv\")"
   ]
  },
  {
   "cell_type": "code",
   "execution_count": 18,
   "metadata": {},
   "outputs": [
    {
     "name": "stdout",
     "output_type": "stream",
     "text": [
      "# A tibble: 7 × 10\n",
      "  group   odds_ratio p.value conf.low conf.high method alternative   p.adj label\n",
      "  <fct>        <dbl>   <dbl>    <dbl>     <dbl> <chr>  <chr>         <dbl> <chr>\n",
      "1 Bird_F…      0.812 2.25e-1    0.570     1.14  Fishe… two.sided   3.93e-1 \"\"   \n",
      "2 Human_…      1.50  2.71e-2    1.03      2.16  Fishe… two.sided   8.57e-2 \"\"   \n",
      "3 Human_…      0.876 7.11e-1    0.505     1.46  Fishe… two.sided   7.11e-1 \"\"   \n",
      "4 Human_…      1.12  4.72e-1    0.807     1.53  Fishe… two.sided   5.50e-1 \"\"   \n",
      "5 Mammal…      1.21  3.01e-1    0.825     1.74  Fishe… two.sided   4.21e-1 \"\"   \n",
      "6 Poultr…      1.29  3.67e-2    1.01      1.66  Fishe… two.sided   8.57e-2 \"\"   \n",
      "7 Water        0.515 3.03e-5    0.363     0.717 Fishe… two.sided   2.12e-4 \"*\"  \n",
      "# … with 1 more variable: hjust <dbl>\n"
     ]
    }
   ],
   "source": [
    "%%R\n",
    "\n",
    "library(tidyverse)\n",
    "library(broom)\n",
    "\n",
    "getwd()\n",
    "setwd('/home/aaron/Documents/UT_Austin/wilke_lab/microcins_enterobacterales/notebooks')\n",
    "\n",
    "#touchon <- read.csv(\"Touchon_categories_microcins.csv\", header = TRUE)\n",
    "touchon <- read.csv(\"data/supplemental/Touchon_categories_microcins_edit.csv\", header = TRUE)\n",
    "\n",
    "\n",
    "mydata <- read.csv(\"data/supplemental/Touchon_categories_microcins_edit.csv\", header = TRUE)\n",
    "#mydata <- tibble(\n",
    "#  group = letters[1:5],\n",
    "#  samples = c(10, 20, 50, 100, 5),\n",
    "#  hits = c(9, 5, 2, 3, 4)\n",
    "#)\n",
    "\n",
    "mydata <- mydata[,]\n",
    "\n",
    "samples_tot <- sum(mydata$samples)\n",
    "hits_tot <- sum(mydata$hits)\n",
    "\n",
    "fisher_results <- mydata %>%\n",
    "  mutate(\n",
    "    fit = map2(\n",
    "      samples, hits,\n",
    "      ~fisher.test(cbind(c(samples_tot, .x), c(hits_tot, .y)))\n",
    "    ),\n",
    "    glance_out = map(fit, glance)\n",
    "  ) %>%\n",
    "  select(group, glance_out) %>%\n",
    "  unnest(cols = glance_out) %>%\n",
    "  mutate(\n",
    "    # adjust for multiple testing\n",
    "    p.adj = p.adjust(p.value, method = \"fdr\"),\n",
    "    # sort\n",
    "    group = fct_reorder(group, estimate),\n",
    "    # significance label\n",
    "    label = case_when(\n",
    "      p.adj < 0.001 ~ \"*\",\n",
    "#      p.adj < 0.01 ~ \"**\",\n",
    "#      p.adj < 0.05 ~ \"*\",\n",
    "      TRUE ~ \"\"\n",
    "    ),\n",
    "    # for label justification\n",
    "    hjust = ifelse(estimate < 1, 1.1, -0.1)\n",
    "  ) %>%\n",
    "  rename(\n",
    "    odds_ratio = estimate\n",
    "  )\n",
    "fisher_results\n"
   ]
  },
  {
   "cell_type": "code",
   "execution_count": 19,
   "metadata": {},
   "outputs": [
    {
     "data": {
      "image/png": "[encoded data removed]"
     },
     "metadata": {},
     "output_type": "display_data"
    }
   ],
   "source": [
    "%%R -w 800\n",
    "\n",
    "ggplot(fisher_results, aes(odds_ratio, group)) +\n",
    "    geom_col() +\n",
    "    geom_text(aes(label = label, hjust = hjust), size = 8, vjust = 0.8) +\n",
    "    scale_x_log10(limits = c(0.48, 1.6)) +\n",
    "    ylab(NULL) + \n",
    "    xlab(\"Log odds of assembly containing microcin\")+\n",
    "    geom_bar(stat = \"identity\", fill = \"#aabbcaff\") +\n",
    "\tylab(NULL) + \n",
    "\txlab(\"Log odds ratio of assemblies with microcins across isolation sources\") +\n",
    "\ttheme_bw() +\n",
    "\ttheme(text = element_text(size = 16))\n",
    "\n",
    "#ggsave(\"plots/AF/05_ecoli_microcin_environment_v2.svg\")"
   ]
  }
 ],
 "metadata": {
  "interpreter": {
   "hash": "184da163bdcbc68ba00985bd6e7412525ff7507797be2878afd169be169c48f1"
  },
  "kernelspec": {
   "display_name": "Python 3 (ipykernel)",
   "language": "python",
   "name": "python3"
  },
  "language_info": {
   "codemirror_mode": {
    "name": "ipython",
    "version": 3
   },
   "file_extension": ".py",
   "mimetype": "text/x-python",
   "name": "python",
   "nbconvert_exporter": "python",
   "pygments_lexer": "ipython3",
   "version": "3.8.10"
  }
 },
 "nbformat": 4,
 "nbformat_minor": 2
}
