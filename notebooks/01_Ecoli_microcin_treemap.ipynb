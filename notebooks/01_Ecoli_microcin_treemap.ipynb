{
 "cells": [
  {
   "cell_type": "markdown",
   "metadata": {
    "pycharm": {
     "name": "#%% md\n"
    }
   },
   "source": [
    "# Load libraries"
   ]
  },
  {
   "cell_type": "code",
   "execution_count": 1,
   "metadata": {
    "pycharm": {
     "name": "#%%\n"
    }
   },
   "outputs": [],
   "source": [
    "%load_ext rpy2.ipython"
   ]
  },
  {
   "cell_type": "code",
   "execution_count": 2,
   "metadata": {
    "pycharm": {
     "name": "#%%\n"
    }
   },
   "outputs": [
    {
     "name": "stderr",
     "output_type": "stream",
     "text": [
      "R[write to console]: ── Attaching packages ─────────────────────────────────────── tidyverse 1.3.1 ──\n",
      "\n",
      "R[write to console]: ✔ ggplot2 3.3.6     ✔ purrr   0.3.4\n",
      "✔ tibble  3.1.7     ✔ dplyr   1.0.9\n",
      "✔ tidyr   1.2.0     ✔ stringr 1.4.0\n",
      "✔ readr   2.1.2     ✔ forcats 0.5.1\n",
      "\n",
      "R[write to console]: ── Conflicts ────────────────────────────────────────── tidyverse_conflicts() ──\n",
      "✖ dplyr::filter() masks stats::filter()\n",
      "✖ dplyr::lag()    masks stats::lag()\n",
      "\n"
     ]
    }
   ],
   "source": [
    "%%R\n",
    "library(readxl)\n",
    "library(treemapify)\n",
    "library(treemap)\n",
    "library(tidyverse)\n",
    "library(cowplot)"
   ]
  },
  {
   "cell_type": "markdown",
   "metadata": {
    "pycharm": {
     "name": "#%% md\n"
    }
   },
   "source": [
    "# Load data"
   ]
  },
  {
   "cell_type": "code",
   "execution_count": 3,
   "metadata": {
    "pycharm": {
     "name": "#%%\n"
    }
   },
   "outputs": [
    {
     "name": "stdout",
     "output_type": "stream",
     "text": [
      "Rows: 7262 Columns: 25\n",
      "── Column specification ────────────────────────────────────────────────────────\n",
      "Delimiter: \",\"\n",
      "chr  (8): qseqid, sseqid, component, cinful_id, pephash, sample, contig, seq\n",
      "dbl (13): pident, length, mismatch, gapopen, qstart, qend, sstart, send, eva...\n",
      "lgl  (4): hmmerHit, verified, allStandardAA, signalMatch\n",
      "\n",
      "ℹ Use `spec()` to retrieve the full column specification for this data.\n",
      "ℹ Specify the column types or set `show_col_types = FALSE` to quiet this message.\n"
     ]
    }
   ],
   "source": [
    "%%R -o best_hits\n",
    "best_hits <- read_csv(\"data/Ecoli_pangenome_best_hits.csv\")"
   ]
  },
  {
   "cell_type": "markdown",
   "metadata": {
    "pycharm": {
     "name": "#%% md\n"
    }
   },
   "source": [
    "The primary goal here is to get an idea for how many _E. coli_ genome assemblies have microcins. In this regard, we split assemblies into three classes:\n",
    "\n",
    "1. No microcin\n",
    "   - nothing that remotely resembled a verified class II (to save the amount of times I type this, I will just refer to them as microcins)\n",
    "2. verified \n",
    "   -  these assemblies had a protein with the exact same sequence as the verified microcin sequences we already know about\n",
    "3. novel\n",
    "   - it should be noted that this is pretty loose usage of novel, it really means that the assembly contains something remotely similar to a verified microcin, though it is agnostic of how well the match is or any other components that were identified in the assembly.\n",
    "\n",
    "What we will do is make a treemap to make three rectangles whose areas correspond to the number of assemblies that belong to each of these three groups. For verified and novel, they also consist of different protein sequences, so they will have sub rectangles whose areas correspond the amount of assemblies that had a given protein sequence.\n",
    "\n",
    "## Data to be visualized\n",
    "This contains, the sequence, unique identifier, whether or not it was verified. A somewhat hacky thing I have to do is manually input the amount of assemblies that had no assemblies, because those assemblies don't make it to the final output file.\n",
    "\n",
    "First, it would be very helpful to know how many assemblies there were total in the analysis."
   ]
  },
  {
   "cell_type": "code",
   "execution_count": 4,
   "metadata": {
    "pycharm": {
     "name": "#%%\n"
    }
   },
   "outputs": [
    {
     "name": "stdout",
     "output_type": "stream",
     "text": [
      "1224 data/Ecoli_samples.txt\r\n"
     ]
    }
   ],
   "source": [
    "!wc -l data/Ecoli_samples.txt"
   ]
  },
  {
   "cell_type": "code",
   "execution_count": 5,
   "metadata": {
    "pycharm": {
     "name": "#%%\n"
    }
   },
   "outputs": [
    {
     "name": "stdout",
     "output_type": "stream",
     "text": [
      "[1] 1224\n"
     ]
    }
   ],
   "source": [
    "%%R\n",
    "num_samples <- 1224\n",
    "num_samples"
   ]
  },
  {
   "cell_type": "code",
   "execution_count": 27,
   "metadata": {},
   "outputs": [
    {
     "name": "stdout",
     "output_type": "stream",
     "text": [
      "[1] \"Number of genomes with PUTATIVE microcins identified by Cinful:\"\n",
      "[1] 313\n",
      "[1] \"Number of unique peptides identified as microcins by Cinful:\"\n",
      "[1] 101\n"
     ]
    }
   ],
   "source": [
    "%%R\n",
    "\n",
    "n_genome <- best_hits %>%\n",
    "    filter(component == \"microcins.verified\") %>%\n",
    "    count(sample) %>%\n",
    "    nrow()\n",
    "\n",
    "n_put <- best_hits %>%\n",
    "    filter(component == \"microcins.verified\") %>%\n",
    "    count(pephash) %>%\n",
    "    nrow()\n",
    "\n",
    "print(\"Number of genomes with PUTATIVE microcins identified by Cinful:\")\n",
    "print(n_genome)\n",
    "\n",
    "print(\"Number of unique peptides identified as microcins by Cinful:\")\n",
    "print(n_put)\n",
    "#Number of putative microcins identified (no check for HMMer hits)\n"
   ]
  },
  {
   "cell_type": "code",
   "execution_count": 7,
   "metadata": {
    "scrolled": true
   },
   "outputs": [
    {
     "name": "stdout",
     "output_type": "stream",
     "text": [
      "[1] \"Number of TOTAL sample genomes with HMMer verified microcins:\"\n",
      "[1] 288\n",
      "[1] \"Number of unique microcins verified by HMMer:\"\n",
      "[1] 64\n"
     ]
    }
   ],
   "source": [
    "%%R\n",
    "\n",
    "genomes_w_microcins <- best_hits %>%\n",
    "    filter(component == \"microcins.verified\") %>%\n",
    "    filter(hmmerHit == TRUE) %>%\n",
    "    count(sample) %>%\n",
    "    nrow()\n",
    "\n",
    "\n",
    "tot_uniq_peptides <- best_hits %>%\n",
    "    filter(component == \"microcins.verified\") %>%\n",
    "    filter(hmmerHit == TRUE) %>%\n",
    "    count(pephash) %>%\n",
    "    nrow()\n",
    "\n",
    "print(\"Number of TOTAL sample genomes with HMMer verified microcins:\")\n",
    "print(genomes_w_microcins)\n",
    "\n",
    "print(\"Number of unique microcins verified by HMMer:\")\n",
    "print(tot_uniq_peptides)\n",
    "\n",
    "#Number of genomes with microcins that pass HMMer"
   ]
  },
  {
   "cell_type": "code",
   "execution_count": 111,
   "metadata": {
    "scrolled": true
   },
   "outputs": [
    {
     "name": "stdout",
     "output_type": "stream",
     "text": [
      "[1] \"Number of sample genomes with KNOWN microcins:\"\n",
      "[1] 211\n",
      "[1] \"Number of KNOWN microcins identified:\"\n",
      "[1] 6\n",
      "# A tibble: 6 × 2\n",
      "  pephash                                                                     n\n",
      "  <chr>                                                                   <int>\n",
      "1 v1_PLS_8255457454971611862435efee037184a7324d556c33315d633ba5b49f0b5394     4\n",
      "2 v1_PLS_8e751f217be82f38b463fed36edac3961f564d06d6a0290ed11ac9c46d6a5d69     8\n",
      "3 v1_PLS_9d4d5884be3f55eea558ad570cf5724a7bed8ab3a6bfeffa3601882987f2a72c     6\n",
      "4 v1_PLS_f023a3e09cddc0f31fea8bcbba5cca016d488f4c338a149c9d3ae683bee53330    27\n",
      "5 v1_PLS_f46b02a1bfa1c3d276b482deec9926ec13d8dc5b8b8eceeea84e4fda83be41e6   170\n",
      "6 v1_PLS_ff10c10f7e957c977390dcd2776f9a12a1d1f324700543820a861d0a6aced3fe     5\n"
     ]
    }
   ],
   "source": [
    "%%R \n",
    "\n",
    "n_ver_genomes <- best_hits %>%\n",
    "    filter(component == \"microcins.verified\") %>%\n",
    "    filter(hmmerHit == TRUE) %>%\n",
    "    filter(verified == TRUE) %>%\n",
    "    count(sample) %>%\n",
    "    nrow()\n",
    "\n",
    "print(\"Number of sample genomes with KNOWN microcins:\")\n",
    "print(n_ver_genomes)\n",
    "\n",
    "n_ver_microcins <- best_hits %>%\n",
    "    filter(component == \"microcins.verified\") %>%\n",
    "    filter(hmmerHit == TRUE) %>%\n",
    "    filter(verified == TRUE) %>%\n",
    "    count(pephash) %>%\n",
    "    nrow()\n",
    "\n",
    "print(\"Number of KNOWN microcins identified:\")\n",
    "print(n_ver_microcins)"
   ]
  },
  {
   "cell_type": "code",
   "execution_count": 41,
   "metadata": {},
   "outputs": [
    {
     "name": "stdout",
     "output_type": "stream",
     "text": [
      "[1] \"Number of sample genomes with UNKNOWN microcins:\"\n",
      "[1] 113\n",
      "[1] \"Number of UNKNOWN microcins identified:\"\n",
      "[1] 58\n"
     ]
    }
   ],
   "source": [
    "%%R\n",
    "\n",
    "n_unk_genomes <- best_hits %>%\n",
    "    filter(component == \"microcins.verified\") %>%\n",
    "    filter(hmmerHit == TRUE) %>%\n",
    "    filter(verified == FALSE) %>%\n",
    "    count(sample) %>%\n",
    "    nrow()\n",
    "\n",
    "print(\"Number of sample genomes with UNKNOWN microcins:\")\n",
    "print(n_unk_genomes)\n",
    "\n",
    "n_unk_microcins <- best_hits %>%\n",
    "    filter(component == \"microcins.verified\") %>%\n",
    "    filter(hmmerHit == TRUE) %>%\n",
    "    filter(verified == FALSE) %>%\n",
    "    count(pephash) %>%\n",
    "    nrow()\n",
    "\n",
    "print(\"Number of UNKNOWN microcins identified:\")\n",
    "print(n_unk_microcins)\n"
   ]
  },
  {
   "cell_type": "code",
   "execution_count": 46,
   "metadata": {
    "pycharm": {
     "name": "#%%\n"
    }
   },
   "outputs": [
    {
     "name": "stdout",
     "output_type": "stream",
     "text": [
      "[1] 288\n"
     ]
    }
   ],
   "source": [
    "%%R\n",
    "count_of_hmmer_hits <- best_hits %>%\n",
    "\tfilter(component == \"microcins.verified\") %>%\n",
    "\tfilter(hmmerHit == TRUE) %>%\n",
    "\tcount(sample) %>%\n",
    "    nrow()\n",
    "\n",
    "print(count_of_hmmer_hits)"
   ]
  },
  {
   "cell_type": "code",
   "execution_count": 50,
   "metadata": {
    "pycharm": {
     "name": "#%%\n"
    }
   },
   "outputs": [
    {
     "name": "stdout",
     "output_type": "stream",
     "text": [
      "[1] 211\n"
     ]
    }
   ],
   "source": [
    "%%R\n",
    "verified_microcins <- best_hits %>%\n",
    "\tfilter(component == \"microcins.verified\") %>%\n",
    "\tfilter(hmmerHit == TRUE) %>%\n",
    "\tfilter(verified == TRUE) %>%\n",
    "    count(sample) %>%\n",
    "    nrow()\n",
    "\n",
    "verified_microcins"
   ]
  },
  {
   "cell_type": "code",
   "execution_count": 51,
   "metadata": {
    "pycharm": {
     "name": "#%%\n"
    }
   },
   "outputs": [
    {
     "name": "stdout",
     "output_type": "stream",
     "text": [
      "[1] 6\n"
     ]
    }
   ],
   "source": [
    "%%R\n",
    "\n",
    "verified_microcin_peptides <- best_hits %>%\n",
    "\tfilter(component == \"microcins.verified\") %>%\n",
    "\tfilter(hmmerHit == TRUE) %>%\n",
    "\tfilter(verified == TRUE) %>%\n",
    "\tcount(pephash) %>%\n",
    "    nrow()\n",
    "\n",
    "verified_microcin_peptides"
   ]
  },
  {
   "cell_type": "code",
   "execution_count": 52,
   "metadata": {
    "pycharm": {
     "name": "#%%\n"
    }
   },
   "outputs": [
    {
     "name": "stdout",
     "output_type": "stream",
     "text": [
      "[1] 113\n"
     ]
    }
   ],
   "source": [
    "%%R\n",
    "novel_microcins <- best_hits %>%\n",
    "\tfilter(component == \"microcins.verified\") %>%\n",
    "\tfilter(hmmerHit == TRUE) %>%\n",
    "\tfilter(verified == FALSE) %>%\n",
    "\tcount(sample) %>%\n",
    "    nrow()\n",
    "\n",
    "novel_microcins"
   ]
  },
  {
   "cell_type": "code",
   "execution_count": 53,
   "metadata": {
    "pycharm": {
     "name": "#%%\n"
    }
   },
   "outputs": [
    {
     "name": "stdout",
     "output_type": "stream",
     "text": [
      "[1] 288\n"
     ]
    }
   ],
   "source": [
    "%%R\n",
    "samples_w_microcins <- best_hits %>%\n",
    "\tfilter(component == \"microcins.verified\") %>%\n",
    "\tfilter(hmmerHit == TRUE) %>%\n",
    "\tcount(sample) %>%\n",
    "    nrow()\n",
    "\n",
    "samples_w_microcins"
   ]
  },
  {
   "cell_type": "code",
   "execution_count": 54,
   "metadata": {
    "pycharm": {
     "name": "#%%\n"
    }
   },
   "outputs": [
    {
     "name": "stdout",
     "output_type": "stream",
     "text": [
      "[1] 1224\n",
      "[1] 288\n",
      "[1] 936\n"
     ]
    }
   ],
   "source": [
    "%%R\n",
    "\n",
    "\n",
    "samples_wo_microcins <- num_samples - as.integer(samples_w_microcins)\n",
    "\n",
    "\n",
    "print(num_samples)\n",
    "print(samples_w_microcins)\n",
    "print(samples_wo_microcins)"
   ]
  },
  {
   "cell_type": "code",
   "execution_count": 109,
   "metadata": {},
   "outputs": [
    {
     "name": "stdout",
     "output_type": "stream",
     "text": [
      "Joining, by = \"sample\"\n",
      "# A tibble: 36 × 1\n",
      "   sample                                               \n",
      "   <chr>                                                \n",
      " 1 data/GCA_902837665.1/GCA_902837665.1_POSS_77_genomic \n",
      " 2 data/GCA_902838695.1/GCA_902838695.1_POSS_67_genomic \n",
      " 3 data/GCA_902838985.1/GCA_902838985.1_M710019_genomic \n",
      " 4 data/GCA_902839235.1/GCA_902839235.1_48_5_R19_genomic\n",
      " 5 data/GCA_902839255.1/GCA_902839255.1_H331_genomic    \n",
      " 6 data/GCA_902839405.1/GCA_902839405.1_C2_41_genomic   \n",
      " 7 data/GCA_902839665.1/GCA_902839665.1_TA209_genomic   \n",
      " 8 data/GCA_902839675.1/GCA_902839675.1_POSS_70_genomic \n",
      " 9 data/GCA_902840075.1/GCA_902840075.1_E2038_genomic   \n",
      "10 data/GCA_902840495.1/GCA_902840495.1_TA361_genomic   \n",
      "# … with 26 more rows\n"
     ]
    }
   ],
   "source": [
    "%%R\n",
    "\n",
    "A <- best_hits %>%\n",
    "    filter(component == \"microcins.verified\") %>%\n",
    "    filter(hmmerHit == TRUE) %>%\n",
    "    count(sample)\n",
    "A\n",
    "#288\n",
    "\n",
    "B <- best_hits %>%\n",
    "    filter(component == \"microcins.verified\") %>%\n",
    "    filter(hmmerHit == TRUE) %>%\n",
    "    filter(verified == TRUE) %>%\n",
    "    count(sample)\n",
    "B\n",
    "#211\n",
    "\n",
    "C <- best_hits %>%\n",
    "    filter(component == \"microcins.verified\") %>%\n",
    "    filter(hmmerHit == TRUE) %>%\n",
    "    filter(verified == FALSE) %>%\n",
    "    count(sample)\n",
    "C\n",
    "#113\n",
    "\n",
    "\n",
    "library(dplyr)\n",
    "\n",
    "B[,1]\n",
    "C[,1]\n",
    "\n",
    "inner_join(B[,1], C[,1])\n",
    "\n",
    "\n",
    "#36 genomes have both novel and verified microcins\n"
   ]
  },
  {
   "cell_type": "code",
   "execution_count": 56,
   "metadata": {},
   "outputs": [
    {
     "name": "stdout",
     "output_type": "stream",
     "text": [
      "[1] 58\n"
     ]
    }
   ],
   "source": [
    "%%R\n",
    "\n",
    "novel_microcin_peptides <- best_hits %>%\n",
    "\tfilter(component == \"microcins.verified\") %>%\n",
    "\tfilter(hmmerHit == TRUE) %>%\n",
    "\tfilter(verified == FALSE) %>%\n",
    "\tcount(pephash) %>%\n",
    "\tselect(n) %>%\n",
    "\tsummarise(n_unique_peptides = n()) %>%\n",
    "\tas.integer()\n",
    "\n",
    "novel_microcin_peptides"
   ]
  },
  {
   "cell_type": "code",
   "execution_count": 57,
   "metadata": {
    "pycharm": {
     "name": "#%%\n"
    }
   },
   "outputs": [
    {
     "name": "stdout",
     "output_type": "stream",
     "text": [
      "`summarise()` has grouped output by 'pephash', 'verified', 'sample'. You can\n",
      "override using the `.groups` argument.\n"
     ]
    }
   ],
   "source": [
    "%%R\n",
    "best_hits %>%\n",
    "\tfilter(component == \"microcins.verified\") %>%\n",
    "\tgroup_by(pephash,verified,sample,seq) %>% summarise(n = n()) %>%\n",
    "\tungroup() %>%\n",
    "\tmutate(verified = as.factor(verified)) %>%\n",
    "\tadd_row(pephash=NA, verified=\"no_microcin\",n=samples_wo_microcins) %>%\n",
    "\twrite_csv(\"data/supplemental/Ecoli_microcin_treemap_data.csv\")"
   ]
  },
  {
   "cell_type": "markdown",
   "metadata": {
    "pycharm": {
     "name": "#%% md\n"
    }
   },
   "source": [
    "## initial treemap\n",
    "\n",
    "I set up two treemap figures, one with just the main three classes, and the other with the second subdivision. This isn't something that should be necessary, but it ended up being the only way for me to get the final figure to my liking."
   ]
  },
  {
   "cell_type": "code",
   "execution_count": 58,
   "metadata": {
    "pycharm": {
     "name": "#%%\n"
    }
   },
   "outputs": [
    {
     "name": "stdout",
     "output_type": "stream",
     "text": [
      "`summarise()` has grouped output by 'pephash', 'verified'. You can override\n",
      "using the `.groups` argument.\n",
      "`summarise()` has grouped output by 'pephash', 'verified'. You can override\n",
      "using the `.groups` argument.\n",
      "$tm\n",
      "      verified\n",
      "1        FALSE\n",
      "2        FALSE\n",
      "3        FALSE\n",
      "4        FALSE\n",
      "5        FALSE\n",
      "6        FALSE\n",
      "7        FALSE\n",
      "8        FALSE\n",
      "9        FALSE\n",
      "10       FALSE\n",
      "11       FALSE\n",
      "12       FALSE\n",
      "13       FALSE\n",
      "14       FALSE\n",
      "15       FALSE\n",
      "16       FALSE\n",
      "17       FALSE\n",
      "18       FALSE\n",
      "19       FALSE\n",
      "20       FALSE\n",
      "21       FALSE\n",
      "22       FALSE\n",
      "23       FALSE\n",
      "24       FALSE\n",
      "25       FALSE\n",
      "26       FALSE\n",
      "27       FALSE\n",
      "28       FALSE\n",
      "29       FALSE\n",
      "30       FALSE\n",
      "31       FALSE\n",
      "32       FALSE\n",
      "33       FALSE\n",
      "34       FALSE\n",
      "35       FALSE\n",
      "36       FALSE\n",
      "37       FALSE\n",
      "38       FALSE\n",
      "39       FALSE\n",
      "40       FALSE\n",
      "41       FALSE\n",
      "42       FALSE\n",
      "43       FALSE\n",
      "44       FALSE\n",
      "45       FALSE\n",
      "46       FALSE\n",
      "47       FALSE\n",
      "48       FALSE\n",
      "49       FALSE\n",
      "50       FALSE\n",
      "51       FALSE\n",
      "52       FALSE\n",
      "53       FALSE\n",
      "54       FALSE\n",
      "55       FALSE\n",
      "56       FALSE\n",
      "57       FALSE\n",
      "58       FALSE\n",
      "59       FALSE\n",
      "60 no_microcin\n",
      "61 no_microcin\n",
      "62        TRUE\n",
      "63        TRUE\n",
      "64        TRUE\n",
      "65        TRUE\n",
      "66        TRUE\n",
      "67        TRUE\n",
      "68        TRUE\n",
      "                                                                   pephash\n",
      "1                                                                     <NA>\n",
      "2  v1_PLS_030767dd6c0e5686eef2a8cbf65d305c761e4b8fcc3f3a9473d92de12ef3c1fb\n",
      "3  v1_PLS_0719676e795eaed3af7fb25fcc33805c9c4a2690209de401e30878f794f21800\n",
      "4  v1_PLS_162b4d1d19ac7e08ea0998616fd4a878ff9bbec04b882454fa94ce5e25b3e978\n",
      "5  v1_PLS_17d83a4d72fa714b8588985e84dc7828d8113227ba8bf2f4e1817c137b9bd415\n",
      "6  v1_PLS_1a8057dff938353b9638f6258b4cf9f4f34d47a3b0727c12ccd1d0cddedcf229\n",
      "7  v1_PLS_1cddbead564a238a4068fa38deea45eb3eccc207d8f69b6e486563821c8cebe5\n",
      "8  v1_PLS_2201698b4769e017fab30bcefc9e64ce3bb721713a99af5a01a2ba85a7d9fee5\n",
      "9  v1_PLS_2974f7c116c1ad848281e913c2517baf971777d3106f8a757be9d935e52601b0\n",
      "10 v1_PLS_35f910179d2ac02cf732f6a7727f5add4e06277e3eb1bedca0d7c20baeb36493\n",
      "11 v1_PLS_398a14970eeb93067269052114600787ab2073c30255c649105125e6ad54bfca\n",
      "12 v1_PLS_3e7cfa8538b1dc7b3f7199e7d0636d108dfd2cb887f8930197a3a403f71c31ee\n",
      "13 v1_PLS_41642af69bccfa972a2e2e57d0bede54e5fbab00deaad28bdcf7d6573d709782\n",
      "14 v1_PLS_4a94c5fa46a92c9a7cac707753045db2e9439b0de0b91a432151909f9d53981a\n",
      "15 v1_PLS_4ab3e15a6dc44de84c9f3fd57f8afd9b6a7f7af2b174a8d3e89bd94cd34bc2d2\n",
      "16 v1_PLS_4ca21e9eb29b67a11966734a265a1361e8094698e7478c9f819445a9ce938493\n",
      "17 v1_PLS_4d808b0f1366489a12bae88cbf99cff9b63e9aa2925330487033163886c8e9a7\n",
      "18 v1_PLS_4e877e89ae387cca54403b35a4d35f0d5c26d7b3e5e6fa47455b383ca4c7b020\n",
      "19 v1_PLS_5205109bbc97f5c710d44bea53ced4b6f0ad0ddebc6577473efb02a152b38184\n",
      "20 v1_PLS_5aaae6337f03aadedaebba47a3bb34ea578091cf7a44d0722c976b77c3768650\n",
      "21 v1_PLS_5cbeb89de1f9f346bfe8864c9e4404604252122cdacbb532b153ec189e265d57\n",
      "22 v1_PLS_60f602f29f8e21764ef45a78d210a0882a6b06962bb2c290e7addf9021571ae6\n",
      "23 v1_PLS_718e57ae56d43ffc2101f6669bfb90fa1293201a6207cb6aeb0a27e5c2fca0a5\n",
      "24 v1_PLS_777f568df1ea06d722c4f13338287e80ca4fff4b7526349807ebee815f802468\n",
      "25 v1_PLS_796a75914de7bf03f46239f1d355a033c9e7e1d6a9631ad958da738d648df02b\n",
      "26 v1_PLS_7e75ddc189fba894c81a43b1c162589f6e6e7096c8da5865a12cee4497ebbed3\n",
      "27 v1_PLS_7ef32590cefac3cff62e162d272bf656a44664409ad1f43f0aa068d11c976ce3\n",
      "28 v1_PLS_88426749978fd21b16ada39d2950092412976d0179d8b3867f0d4d8d3f68b67a\n",
      "29 v1_PLS_987b1ca9af3c15dc3808bbe391c1997d4460e831d6bd3821b87ac37693297eea\n",
      "30 v1_PLS_a05ad73ddcc2e9493e9663956c30842028c529a3619cc6375cef7a5d275d8d8e\n",
      "31 v1_PLS_a2876fb252e00bfb7d641743b041c23fa1553c4d475707b5b4985c769c2de4de\n",
      "32 v1_PLS_a474e5c7dfad979ea961afe1d7277748a106dd87afabc8fdaf3c66749242d225\n",
      "33 v1_PLS_a76a047367186045753edf4cd437fd7417879f11ac44231444e709b6a16aa3db\n",
      "34 v1_PLS_a819cbe1ff25d399384ab2d6926551cbddf38c0081deff0099aa752cdc83bd55\n",
      "35 v1_PLS_a8f27a4bedb52ab67efa4fc92a792c7d502b23e00d32843b00c303c32c3e1564\n",
      "36 v1_PLS_aafd9ed8f47cbf5573bf0c3bbb615bdaa08876404ee6ce77ca20d583e1bfa91a\n",
      "37 v1_PLS_b38c4e06da0215df69536a145089429bf81bba66abe4806002c9aa00c79f6749\n",
      "38 v1_PLS_b5c3909fba40ed25b527f519c7477ec098f399efdd3b506ed442540f98c5ad7f\n",
      "39 v1_PLS_bfcd904023707725e50c019692abdccf1f02e05e4db0b3fd01d972508df6d59b\n",
      "40 v1_PLS_c5551301da43f53436e020dd63b5ab92a856fba68cd5368a8bdd9c39fbe9d050\n",
      "41 v1_PLS_c637021d4dc97787ecae162c709af4959c143dd0a8203efa0a5b402994b5102d\n",
      "42 v1_PLS_ca17b581f76ce5092852776a91a6b84302367804223bf9e003e68f17799f45bc\n",
      "43 v1_PLS_cb2aae755c7395b120eeb5cd3df9d37265dcbc792f807be7dfa27b174a31ab2e\n",
      "44 v1_PLS_cc133075957a5c52b47b53d0593b6d423428793b1715ffd20a87aa756684d354\n",
      "45 v1_PLS_daea82f5f7fd6068c66ad0594988e41b230b1e8a89c7a16228c69f8d790ea8ef\n",
      "46 v1_PLS_db490abaa1226bcadb3363823b8bfc07164af25447d4917c0c97bb143a670e20\n",
      "47 v1_PLS_de27c589a4c879986b0330dd9dd3f5b765d364ea729eeee0337d8fa637568b51\n",
      "48 v1_PLS_de96e29cece26b47e06a234690c458d6adb95e14e076461656ddbbc01996c4fc\n",
      "49 v1_PLS_ded628ae514713e898f5af8e2db700960f4b87f49743450619038ae1b9a15092\n",
      "50 v1_PLS_e4c44dd64cabab423c7762d11b6fafd839a0ebab495eceaa9ba8de3a1514c759\n",
      "51 v1_PLS_eb0298ed86a5f477a05b320152a4efdb3a74c55416ccf28663607dc3511ffc8c\n",
      "52 v1_PLS_eda30af827adb285280078dc49b30272cda8c651fda1e70a1755690bbd3a8813\n",
      "53 v1_PLS_ee68b89d299aabd3e9fad134ea2c390a8abaff596fd979753727ca846c87c797\n",
      "54 v1_PLS_f0ad2eea4fa12fd340a88d534a50c8a8b38710bebdcf5498f506814375b7664e\n",
      "55 v1_PLS_f18c2a168ec8cf58fed82bd5509d9155c8d25ba01d6e402f29f9fd932f29404a\n",
      "56 v1_PLS_f254fc2b07111c0aec8bf9314bf2d86f64c545ce5d23c122045348742ccd00f7\n",
      "57 v1_PLS_f392bb3b8a52ae1c01e3800e48dc8548c28c11f0d3afde67f4fdecf4840c17c8\n",
      "58 v1_PLS_f5f4b229944b80fdc79a5870d6bb61db5c15b922dd44038edf99fe8eb3383e5e\n",
      "59 v1_PLS_f6c4465bf656b1a793e24112838c2c177c5b2767d0e27cce0fc3d84e07038577\n",
      "60                                                                    <NA>\n",
      "61                                                                    <NA>\n",
      "62                                                                    <NA>\n",
      "63 v1_PLS_8255457454971611862435efee037184a7324d556c33315d633ba5b49f0b5394\n",
      "64 v1_PLS_8e751f217be82f38b463fed36edac3961f564d06d6a0290ed11ac9c46d6a5d69\n",
      "65 v1_PLS_9d4d5884be3f55eea558ad570cf5724a7bed8ab3a6bfeffa3601882987f2a72c\n",
      "66 v1_PLS_f023a3e09cddc0f31fea8bcbba5cca016d488f4c338a149c9d3ae683bee53330\n",
      "67 v1_PLS_f46b02a1bfa1c3d276b482deec9926ec13d8dc5b8b8eceeea84e4fda83be41e6\n",
      "68 v1_PLS_ff10c10f7e957c977390dcd2776f9a12a1d1f324700543820a861d0a6aced3fe\n",
      "   vSize vColor stdErr vColorValue level        x0         y0          w\n",
      "1    145    145    145          NA     1 0.7194466 0.00000000 0.28055342\n",
      "2      2      2      2          NA     2 0.8509560 0.22175665 0.03726100\n",
      "3      1      1      1          NA     2 0.9171978 0.19854956 0.03312089\n",
      "4      1      1      1          NA     2 0.9171978 0.17534247 0.03312089\n",
      "5      1      1      1          NA     2 0.9503187 0.19854956 0.03312089\n",
      "6      2      2      2          NA     2 0.8882170 0.22175665 0.03726100\n",
      "7      1      1      1          NA     2 0.9503187 0.17534247 0.03312089\n",
      "8      4      4      4          NA     2 0.7954298 0.13842826 0.05552620\n",
      "9      1      1      1          NA     2 0.9834396 0.17534247 0.01656044\n",
      "10     1      1      1          NA     2 0.8509560 0.14611872 0.02630188\n",
      "11     1      1      1          NA     2 0.8509560 0.11689498 0.02630188\n",
      "12     1      1      1          NA     2 0.8509560 0.08767123 0.02630188\n",
      "13     3      3      3          NA     2 0.7954298 0.04152848 0.05552620\n",
      "14     1      1      1          NA     2 0.8509560 0.05844749 0.02630188\n",
      "15     1      1      1          NA     2 0.8509560 0.02922374 0.02630188\n",
      "16     3      3      3          NA     2 0.7954298 0.00000000 0.05552620\n",
      "17     1      1      1          NA     2 0.8509560 0.00000000 0.02630188\n",
      "18     5      5      5          NA     2 0.7194466 0.00000000 0.07598322\n",
      "19     1      1      1          NA     2 0.8772579 0.14403131 0.02454842\n",
      "20     1      1      1          NA     2 0.9018063 0.14403131 0.02454842\n",
      "21     1      1      1          NA     2 0.9263547 0.14403131 0.02454842\n",
      "22     6      6      6          NA     2 0.7194466 0.05057956 0.07598322\n",
      "23     1      1      1          NA     2 0.9509032 0.14403131 0.02454842\n",
      "24     1      1      1          NA     2 0.9754516 0.14403131 0.02454842\n",
      "25     1      1      1          NA     2 0.8772579 0.11522505 0.02668307\n",
      "26     2      2      2          NA     2 0.9254780 0.22175665 0.03726100\n",
      "27     1      1      1          NA     2 0.8772579 0.08641879 0.02668307\n",
      "28     1      1      1          NA     2 0.8772579 0.05761252 0.02668307\n",
      "29     1      1      1          NA     2 0.8772579 0.02880626 0.02668307\n",
      "30    12     12     12          NA     2 0.8167814 0.26301370 0.06870696\n",
      "31     2      2      2          NA     2 0.9627390 0.22175665 0.03726100\n",
      "32     2      2      2          NA     2 0.8509560 0.17534247 0.03312089\n",
      "33     1      1      1          NA     2 0.8772579 0.00000000 0.02668307\n",
      "34     4      4      4          NA     2 0.7954298 0.08305696 0.05552620\n",
      "35     1      1      1          NA     2 0.9039409 0.11202435 0.02401476\n",
      "36     1      1      1          NA     2 0.9279557 0.11202435 0.02401476\n",
      "37     1      1      1          NA     2 0.9519705 0.11202435 0.02401476\n",
      "38     1      1      1          NA     2 0.9759852 0.11202435 0.02401476\n",
      "39     1      1      1          NA     2 0.9039409 0.08401826 0.02744544\n",
      "40     1      1      1          NA     2 0.9039409 0.05601218 0.02744544\n",
      "41     1      1      1          NA     2 0.9039409 0.02800609 0.02744544\n",
      "42     7      7      7          NA     2 0.7194466 0.11127503 0.07598322\n",
      "43     1      1      1          NA     2 0.9039409 0.00000000 0.02744544\n",
      "44    10     10     10          NA     2 0.8854884 0.26301370 0.05725580\n",
      "45     1      1      1          NA     2 0.9313864 0.07841705 0.02287120\n",
      "46     8      8      8          NA     2 0.7194466 0.18208641 0.07598322\n",
      "47     1      1      1          NA     2 0.9542576 0.07841705 0.02287120\n",
      "48     1      1      1          NA     2 0.9771288 0.07841705 0.02287120\n",
      "49    10     10     10          NA     2 0.9427442 0.26301370 0.05725580\n",
      "50    17     17     17          NA     2 0.7194466 0.26301370 0.09733486\n",
      "51     1      1      1          NA     2 0.9313864 0.05227803 0.02940583\n",
      "52     1      1      1          NA     2 0.9313864 0.02613902 0.02940583\n",
      "53     2      2      2          NA     2 0.8840769 0.17534247 0.03312089\n",
      "54     5      5      5          NA     2 0.7954298 0.19379957 0.05552620\n",
      "55     1      1      1          NA     2 0.9313864 0.00000000 0.02940583\n",
      "56     1      1      1          NA     2 0.9607922 0.03920852 0.01960389\n",
      "57     1      1      1          NA     2 0.9803961 0.03920852 0.01960389\n",
      "58     1      1      1          NA     2 0.9607922 0.00000000 0.01960389\n",
      "59     1      1      1          NA     2 0.9803961 0.00000000 0.01960389\n",
      "60   936      1    936          NA     1 0.0000000 0.00000000 0.71944658\n",
      "61   936      1    936          NA     2 0.0000000 0.00000000 0.71944658\n",
      "62   220    220    220          NA     1 0.7194466 0.39726027 0.28055342\n",
      "63     4      4      4          NA     2 0.9495004 0.39726027 0.05049962\n",
      "64     8      8      8          NA     2 0.8709454 0.45596869 0.07855496\n",
      "65     6      6      6          NA     2 0.8709454 0.39726027 0.07855496\n",
      "66    27     27     27          NA     2 0.7194466 0.39726027 0.15149885\n",
      "67   170    170    170          NA     2 0.7194466 0.53424658 0.28055342\n",
      "68     5      5      5          NA     2 0.9495004 0.45814307 0.05049962\n",
      "            h   color\n",
      "1  0.39726027 #659EB0\n",
      "2  0.04125705 #4D989E\n",
      "3  0.02320709 #4D989E\n",
      "4  0.02320709 #4D989E\n",
      "5  0.02320709 #4D979E\n",
      "6  0.04125705 #4D979E\n",
      "7  0.02320709 #4D969E\n",
      "8  0.05537130 #4D969E\n",
      "9  0.04641418 #4D959E\n",
      "10 0.02922374 #4D959E\n",
      "11 0.02922374 #4D949E\n",
      "12 0.02922374 #4D949E\n",
      "13 0.04152848 #4D939E\n",
      "14 0.02922374 #4D939E\n",
      "15 0.02922374 #4D929E\n",
      "16 0.04152848 #4D929E\n",
      "17 0.02922374 #4D919E\n",
      "18 0.05057956 #4D919E\n",
      "19 0.03131115 #4D909E\n",
      "20 0.03131115 #4D909E\n",
      "21 0.03131115 #4D8F9E\n",
      "22 0.06069547 #4D8F9E\n",
      "23 0.03131115 #4D8F9E\n",
      "24 0.03131115 #4D8E9E\n",
      "25 0.02880626 #4D8E9E\n",
      "26 0.04125705 #4D8D9E\n",
      "27 0.02880626 #4D8D9E\n",
      "28 0.02880626 #4D8C9E\n",
      "29 0.02880626 #4D8C9E\n",
      "30 0.13424658 #4D8B9E\n",
      "31 0.04125705 #4D8B9E\n",
      "32 0.04641418 #4D8A9E\n",
      "33 0.02880626 #4D8A9E\n",
      "34 0.05537130 #4D899E\n",
      "35 0.03200696 #4D899E\n",
      "36 0.03200696 #4D889E\n",
      "37 0.03200696 #4D889E\n",
      "38 0.03200696 #4D879E\n",
      "39 0.02800609 #4D879E\n",
      "40 0.02800609 #4D869E\n",
      "41 0.02800609 #4D869E\n",
      "42 0.07081138 #4D869E\n",
      "43 0.02800609 #4D859E\n",
      "44 0.13424658 #4D859E\n",
      "45 0.03360731 #4D849E\n",
      "46 0.08092729 #4D849E\n",
      "47 0.03360731 #4D839E\n",
      "48 0.03360731 #4D839E\n",
      "49 0.13424658 #4D829E\n",
      "50 0.13424658 #4D829E\n",
      "51 0.02613902 #4D819E\n",
      "52 0.02613902 #4D819E\n",
      "53 0.04641418 #4D809E\n",
      "54 0.06921413 #4D809E\n",
      "55 0.02613902 #4D7F9E\n",
      "56 0.03920852 #4D7F9E\n",
      "57 0.03920852 #4D7E9E\n",
      "58 0.03920852 #4D7E9E\n",
      "59 0.03920852 #4D7D9E\n",
      "60 1.00000000 #054457\n",
      "61 1.00000000 #054457\n",
      "62 0.60273973 #BBBBBB\n",
      "63 0.06088280 #A8A8A8\n",
      "64 0.07827789 #A8A8A8\n",
      "65 0.05870841 #A8A8A8\n",
      "66 0.13698630 #A8A8A8\n",
      "67 0.46575342 #A8A8A8\n",
      "68 0.07610350 #A8A8A8\n",
      "\n",
      "$type\n",
      "[1] \"index\"\n",
      "\n",
      "$vSize\n",
      "[1] \"n\"\n",
      "\n",
      "$vColor\n",
      "[1] NA\n",
      "\n",
      "$stdErr\n",
      "[1] \"n\"\n",
      "\n",
      "$algorithm\n",
      "[1] \"pivotSize\"\n",
      "\n",
      "$vpCoorX\n",
      "[1] 0.02362205 0.97637795\n",
      "\n",
      "$vpCoorY\n",
      "[1] 0.01476378 0.93273622\n",
      "\n",
      "$aspRatio\n",
      "[1] 1.297365\n",
      "\n",
      "$range\n",
      "[1] NA\n",
      "\n",
      "$mapping\n",
      "[1] NA NA NA\n",
      "\n",
      "$draw\n",
      "[1] TRUE\n",
      "\n"
     ]
    },
    {
     "data": {
      "image/png": "[encoded data removed]"
     },
     "metadata": {},
     "output_type": "display_data"
    },
    {
     "data": {
      "image/png": "[encoded data removed]"
     },
     "metadata": {},
     "output_type": "display_data"
    }
   ],
   "source": [
    "%%R -w 600\n",
    "best_hits_TM <- best_hits %>%\n",
    "\tfilter(component == \"microcins.verified\") %>%\n",
    "\tfilter(hmmerHit == TRUE) %>%\n",
    "\tgroup_by(pephash,verified,sample) %>% summarise(n = n()) %>%\n",
    "\tungroup() %>%\n",
    "\tmutate(verified = as.factor(verified)) %>%\n",
    "\tadd_row(pephash=NA, verified=\"no_microcin\",n=samples_wo_microcins) %>% \n",
    "\ttreemap(\n",
    "\t\tindex = c(\"verified\",\"pephash\"),\n",
    "        vSize = \"n\",\n",
    "\t\tborder.col=c(\"black\",\"white\"),\n",
    "    \tborder.lwds=c(3,2),\n",
    "\t\tfontsize.labels=c(0,0),\n",
    "\t\tpalette = c(\"#659eb0\",\"#054457\",\"#BBBBBB\")\n",
    "\t)\n",
    "\n",
    "best_hits_TM_verified <- best_hits %>%\n",
    "\tfilter(component == \"microcins.verified\") %>%\n",
    "\tfilter(hmmerHit == TRUE) %>%\n",
    "\tgroup_by(pephash,verified,sample) %>% summarise(n = n()) %>%\n",
    "\tungroup() %>%\n",
    "\tmutate(verified = as.factor(verified)) %>%\n",
    "\tadd_row(pephash=NA, verified=\"no_microcin\",n=samples_wo_microcins) %>% \n",
    "\ttreemap(\n",
    "\t\tindex = c(\"verified\"),\n",
    "        vSize = \"n\",\n",
    "\t\tborder.col=c(\"black\",\"white\"),\n",
    "    \tborder.lwds=c(3,2),\n",
    "\t\tfontsize.labels=c(0,0),\n",
    "\t\tpalette = c(\"#659eb0\",\"#054457\",\"#BBBBBB\")\n",
    "\t)\n",
    "\n",
    "best_hits_TM"
   ]
  },
  {
   "cell_type": "markdown",
   "metadata": {
    "pycharm": {
     "name": "#%% md\n"
    }
   },
   "source": [
    "The next is less than fun, but just a way of wrangling data so that the final figure looks nice."
   ]
  },
  {
   "cell_type": "code",
   "execution_count": 59,
   "metadata": {
    "pycharm": {
     "name": "#%%\n"
    }
   },
   "outputs": [
    {
     "name": "stdout",
     "output_type": "stream",
     "text": [
      "# A tibble: 68 × 17\n",
      "   verified pephash     vSize vColor stdErr vColorValue level    x0    y0      w\n",
      "   <fct>    <fct>       <dbl>  <dbl>  <dbl> <lgl>       <int> <dbl> <dbl>  <dbl>\n",
      " 1 FALSE    <NA>          145    145    145 NA              1 0.719 0     0.281 \n",
      " 2 FALSE    v1_PLS_030…     2      2      2 NA              2 0.851 0.222 0.0373\n",
      " 3 FALSE    v1_PLS_071…     1      1      1 NA              2 0.917 0.199 0.0331\n",
      " 4 FALSE    v1_PLS_162…     1      1      1 NA              2 0.917 0.175 0.0331\n",
      " 5 FALSE    v1_PLS_17d…     1      1      1 NA              2 0.950 0.199 0.0331\n",
      " 6 FALSE    v1_PLS_1a8…     2      2      2 NA              2 0.888 0.222 0.0373\n",
      " 7 FALSE    v1_PLS_1cd…     1      1      1 NA              2 0.950 0.175 0.0331\n",
      " 8 FALSE    v1_PLS_220…     4      4      4 NA              2 0.795 0.138 0.0555\n",
      " 9 FALSE    v1_PLS_297…     1      1      1 NA              2 0.983 0.175 0.0166\n",
      "10 FALSE    v1_PLS_35f…     1      1      1 NA              2 0.851 0.146 0.0263\n",
      "# … with 58 more rows, and 7 more variables: h <dbl>, color <chr>, x1 <dbl>,\n",
      "#   y1 <dbl>, x <dbl>, y <dbl>, primary_group <dbl>\n"
     ]
    }
   ],
   "source": [
    "%%R\n",
    "best_hits_TM_data <- best_hits_TM$tm %>%\n",
    "\tmutate(x1 = x0 + w,\n",
    "         y1 = y0 + h) %>% \n",
    "  # get center coordinates for labels\n",
    "  mutate(x = (x0+x1)/2,\n",
    "         y = (y0+y1)/2) %>% \n",
    "  # mark primary groupings and set boundary thickness\n",
    "  mutate(primary_group = ifelse(is.na(verified), 2, .5)) %>% \n",
    "  # remove colors from primary groupings (since secondary is already colored)\n",
    "  mutate(color = ifelse(is.na(verified), NA, color))\n",
    "\n",
    "\n",
    "best_hits_TM_data_verified <- best_hits_TM_verified$tm %>%\n",
    "\tmutate(x1 = x0 + w,\n",
    "         y1 = y0 + h) %>% \n",
    "  # get center coordinates for labels\n",
    "  mutate(x = (x0+x1)/2,\n",
    "         y = (y0+y1)/2) %>% \n",
    "  # mark primary groupings and set boundary thickness\n",
    "  mutate(primary_group = ifelse(is.na(verified), 1,1 )) %>% \n",
    "  # remove colors from primary groupings (since secondary is already colored)\n",
    "  mutate(color = ifelse(is.na(verified), NA, color))\n",
    "\n",
    "best_hits_TM_data <- as_tibble(best_hits_TM_data) %>%\n",
    "\tmutate(color =\n",
    "\t\tcase_when(\n",
    "\t\t\tverified == \"FALSE\" ~ \"#659eb0\",# \"#659eb0\",\n",
    "\t\t\tverified == \"TRUE\" ~ \"#F4B3A5\",#\"#C8E3B9\",#\"#054457\",\n",
    "\t\t\tverified == \"no_microcin\" ~ \"#BBBBBB\"\n",
    "\t\t)\n",
    "\t)\n",
    "\n",
    "best_hits_TM_data"
   ]
  },
  {
   "cell_type": "markdown",
   "metadata": {
    "pycharm": {
     "name": "#%% md\n"
    }
   },
   "source": [
    "Now we can plug this into ggplot with our first intermediate plot"
   ]
  },
  {
   "cell_type": "code",
   "execution_count": 60,
   "metadata": {
    "pycharm": {
     "name": "#%%\n"
    }
   },
   "outputs": [
    {
     "data": {
      "image/png": "[encoded data removed]"
     },
     "metadata": {},
     "output_type": "display_data"
    }
   ],
   "source": [
    "%%R \n",
    "\n",
    "p1 <- ggplot(best_hits_TM_data, aes(xmin = x0, ymin = y0, xmax = x1, ymax = y1)) + \n",
    "  # add fill and borders for groups and subgroups\n",
    "\n",
    "  geom_rect(aes(fill = color, size = primary_group),\n",
    "            show.legend = FALSE, color = \"white\", alpha = 0.4) +\n",
    "  scale_fill_identity() +\n",
    "  # set thicker lines for group borders\n",
    "  scale_size(range = range(best_hits_TM_data$primary_group)) +\n",
    "  geom_rect(aes(\n",
    "                xmin = best_hits_TM_data_verified$x0[1], \n",
    "                ymin = best_hits_TM_data_verified$y0[1], \n",
    "                xmax = best_hits_TM_data_verified$x1[1], \n",
    "                ymax = best_hits_TM_data_verified$y1[1], \n",
    "            ),\n",
    "                fill = NA, color = \"black\") +\n",
    "  geom_rect(aes(xmin = best_hits_TM_data_verified$x0[2], \n",
    "                ymin = best_hits_TM_data_verified$y0[2], \n",
    "                xmax = best_hits_TM_data_verified$x1[2], \n",
    "                ymax = best_hits_TM_data_verified$y1[2]\n",
    "                ),\n",
    "                 fill = NA, color = \"black\") +\n",
    "  geom_rect(aes(xmin = best_hits_TM_data_verified$x0[3], \n",
    "                ymin = best_hits_TM_data_verified$y0[3], \n",
    "                xmax = best_hits_TM_data_verified$x1[3], \n",
    "                ymax = best_hits_TM_data_verified$y1[3]),\n",
    "                fill = NA, color = \"black\") +\n",
    "  \n",
    "  theme_nothing() \n",
    "\n",
    "\n",
    "\n",
    "p1 \n",
    "# ggsave(\"best_hits_treemap.png\")\n"
   ]
  },
  {
   "cell_type": "markdown",
   "metadata": {
    "pycharm": {
     "name": "#%% md\n"
    }
   },
   "source": [
    "Now we just annotate it with numbers that represent the size of the large rectangles and the smaller sub-rectangles. I did this manually, though probably it is better to figure out a way to get these values from the dataset.\n",
    "\n",
    "Alright, I'm back and definitely need to at least figure out a way to get the other values non-manually. There isn't really a way around manually typing 818, though honestly the only hardcoded value should be total number of assemblies. "
   ]
  },
  {
   "cell_type": "code",
   "execution_count": 21,
   "metadata": {
    "pycharm": {
     "name": "#%%\n"
    }
   },
   "outputs": [
    {
     "name": "stdout",
     "output_type": "stream",
     "text": [
      "[1] \"assemblies: 936\"\n"
     ]
    }
   ],
   "source": [
    "%%R\n",
    "paste(\"assemblies:\",as.character(samples_wo_microcins))"
   ]
  },
  {
   "cell_type": "code",
   "execution_count": 110,
   "metadata": {
    "pycharm": {
     "name": "#%%\n"
    }
   },
   "outputs": [
    {
     "data": {
      "image/png": "[encoded data removed]"
     },
     "metadata": {},
     "output_type": "display_data"
    }
   ],
   "source": [
    "%%R -w 800\n",
    "microcin_treemap <- p1  + \n",
    "\tannotate(\"text\",x = 0.02, y = 0.95, \n",
    "\t\tlabel = paste(\"Assemblies with no microcins identified:\", as.character(samples_wo_microcins)), \n",
    "\t\tsize = 5, hjust = 0) +\n",
    "\tannotate(\"text\", x = 0.02,y = 0.91, label = paste(\"\", as.character()), \n",
    "        size = 5,hjust = 0) +\n",
    "\tannotate(\"text\",x = 0.735, y = 0.93, \n",
    "\t\tlabel =  paste(\"Assemblies containing\\nverified microcins:\", as.character(verified_microcins)),\n",
    "\t\tsize = 5, hjust = 0) +\n",
    "\tannotate(\"text\",x = 0.735, y = 0.84, \n",
    "\t\tlabel = paste(\"Verfied sequence count:\", as.character(verified_microcin_peptides)),\n",
    "\t\tsize = 5, hjust = 0) +\n",
    "\tannotate(\"text\",x = 0.735, y = 0.3 +0.04, \n",
    "\t\tlabel =  paste(\"Assemblies containing\\nnovel microcins:\", as.character(novel_microcins)),\n",
    "\t\tsize = 5, hjust = 0) +\n",
    "\tannotate(\"text\",x = 0.735, y = 0.21 +0.04, \n",
    "\t\tlabel = paste(\"Novel sequence count:\", as.character(novel_microcin_peptides)),\n",
    "\t\tsize = 5, hjust = 0) #+\n",
    "\n",
    "\n",
    "microcin_treemap\n",
    "#ggsave(\"best_hits_treemap_annotated.svg\")"
   ]
  },
  {
   "cell_type": "code",
   "execution_count": 68,
   "metadata": {
    "pycharm": {
     "name": "#%%\n"
    }
   },
   "outputs": [
    {
     "name": "stderr",
     "output_type": "stream",
     "text": [
      "R[write to console]: Saving 6.67 x 6.67 in image\n",
      "\n"
     ]
    }
   ],
   "source": [
    "%%R\n",
    "microcin_treemap\n",
    "ggsave(\"testing_01_best_hits_treemap_annotated.svg\")\n",
    "\n",
    "#Final save here:\n",
    "#ggsave(\"plots/01_best_hits_treemap_annotated.svg\")"
   ]
  },
  {
   "cell_type": "markdown",
   "metadata": {
    "pycharm": {
     "name": "#%% md\n"
    }
   },
   "source": [
    "# Data for table\n",
    "\n",
    "So I saved the data needed to make the figure, but that isn't necessarily the best for what I would like to have in the manuscript or for a supplemental. I want the novel peptides, as well as various metrics from BLAST and whatnot"
   ]
  },
  {
   "cell_type": "code",
   "execution_count": 69,
   "metadata": {
    "pycharm": {
     "name": "#%%\n"
    }
   },
   "outputs": [
    {
     "name": "stdout",
     "output_type": "stream",
     "text": [
      "# A tibble: 145 × 25\n",
      "   qseqid        sseqid pident length mismatch gapopen qstart  qend sstart  send\n",
      "   <chr>         <chr>   <dbl>  <dbl>    <dbl>   <dbl>  <dbl> <dbl>  <dbl> <dbl>\n",
      " 1 v1_PLS_987b1… E492_…   80.4     92       18       0      1    92      1    92\n",
      " 2 v1_PLS_07196… L_tr_…   99.0    102        1       0      1   102      4   105\n",
      " 3 v1_PLS_718e5… V_sp_…   81.2     16        3       0      1    16      1    16\n",
      " 4 v1_PLS_e4c44… H47_s…  100       75        0       0     23    97      1    75\n",
      " 5 v1_PLS_e4c44… H47_s…  100       75        0       0     23    97      1    75\n",
      " 6 v1_PLS_e4c44… H47_s…  100       75        0       0     23    97      1    75\n",
      " 7 v1_PLS_e4c44… H47_s…  100       75        0       0     23    97      1    75\n",
      " 8 v1_PLS_e4c44… H47_s…  100       75        0       0     23    97      1    75\n",
      " 9 v1_PLS_e4c44… H47_s…  100       75        0       0     23    97      1    75\n",
      "10 v1_PLS_e4c44… H47_s…  100       75        0       0     23    97      1    75\n",
      "# … with 135 more rows, and 15 more variables: evalue <dbl>, bitscore <dbl>,\n",
      "#   component <chr>, hmmerHit <lgl>, verified <lgl>, cinful_id <chr>,\n",
      "#   pephash <chr>, sample <chr>, contig <chr>, start <dbl>, stop <dbl>,\n",
      "#   strand <dbl>, allStandardAA <lgl>, seq <chr>, signalMatch <lgl>\n"
     ]
    }
   ],
   "source": [
    "%%R\n",
    "best_hits %>%\n",
    "\tfilter(component == \"microcins.verified\") %>%\n",
    "\tfilter(verified == FALSE) %>%\n",
    "\tfilter(hmmerHit == TRUE)"
   ]
  },
  {
   "cell_type": "code",
   "execution_count": 70,
   "metadata": {
    "pycharm": {
     "name": "#%%\n"
    }
   },
   "outputs": [],
   "source": [
    "%%R\n",
    "best_hits %>%\n",
    "\tfilter(component == \"microcins.verified\") %>%\n",
    "\tfilter(verified == FALSE) %>%\n",
    "\tfilter(hmmerHit == TRUE) %>%\n",
    "\tcount(seq, sseqid, pident) %>%\n",
    "\twrite_csv(\"data/supplemental/Ecoli_microcin_novel.csv\")"
   ]
  }
 ],
 "metadata": {
  "interpreter": {
   "hash": "184da163bdcbc68ba00985bd6e7412525ff7507797be2878afd169be169c48f1"
  },
  "kernelspec": {
   "display_name": "Python 3 (ipykernel)",
   "language": "python",
   "name": "python3"
  },
  "language_info": {
   "codemirror_mode": {
    "name": "ipython",
    "version": 3
   },
   "file_extension": ".py",
   "mimetype": "text/x-python",
   "name": "python",
   "nbconvert_exporter": "python",
   "pygments_lexer": "ipython3",
   "version": "3.8.10"
  }
 },
 "nbformat": 4,
 "nbformat_minor": 2
}
