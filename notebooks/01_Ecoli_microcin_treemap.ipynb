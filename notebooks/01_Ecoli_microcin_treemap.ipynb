{
 "cells": [
  {
   "cell_type": "markdown",
   "metadata": {},
   "source": [
    "# Load libraries"
   ]
  },
  {
   "cell_type": "code",
   "execution_count": 1,
   "metadata": {},
   "outputs": [],
   "source": [
    "%load_ext rpy2.ipython"
   ]
  },
  {
   "cell_type": "code",
   "execution_count": 27,
   "metadata": {},
   "outputs": [],
   "source": [
    "%%R\n",
    "library(readxl)\n",
    "library(treemapify)\n",
    "library(treemap)\n",
    "library(tidyverse)\n",
    "library(cowplot)"
   ]
  },
  {
   "cell_type": "markdown",
   "metadata": {},
   "source": [
    "# Load data"
   ]
  },
  {
   "cell_type": "code",
   "execution_count": 3,
   "metadata": {},
   "outputs": [
    {
     "name": "stdout",
     "output_type": "stream",
     "text": [
      "Rows: 7262 Columns: 25\n",
      "── Column specification ────────────────────────────────────────────────────────\n",
      "Delimiter: \",\"\n",
      "chr  (8): qseqid, sseqid, component, cinful_id, pephash, sample, contig, seq\n",
      "dbl (13): pident, length, mismatch, gapopen, qstart, qend, sstart, send, eva...\n",
      "lgl  (4): hmmerHit, verified, allStandardAA, signalMatch\n",
      "\n",
      "ℹ Use `spec()` to retrieve the full column specification for this data.\n",
      "ℹ Specify the column types or set `show_col_types = FALSE` to quiet this message.\n"
     ]
    }
   ],
   "source": [
    "%%R -o best_hits\n",
    "best_hits <- read_csv(\"data/Ecoli_pangenome_best_hits.csv\")"
   ]
  },
  {
   "cell_type": "markdown",
   "metadata": {},
   "source": [
    "The primary goal here is to get an idea for how many _E. coli_ genome assemblies have microcins. In this regard, we split assemblies into three classes:\n",
    "\n",
    "1. No microcin\n",
    "   - nothing that remotely resembled a verified class II (to save the amount of times I type this, I will just refer to them as microcins)\n",
    "2. verified \n",
    "   -  these assemblies had a protein with the exact same sequence as the verified microcin sequences we already know about\n",
    "3. novel\n",
    "   - it should be noted that this is pretty loose usage of novel, it really means that the assembly contains something remotely similar to a verified microcin, though it is agnostic of how well the match is or any other components that were identified in the assembly.\n",
    "\n",
    "What we will do is make a treemap to make three rectangles whose areas correspond to the number of assemblies that belong to each of these three groups. For verified and novel, they also consist of different protein sequences, so they will have sub rectangles whose areas correspond the amount of assemblies that had a given protein sequence.\n",
    "\n",
    "## Data to be visualized\n",
    "This contains, the sequence, unique identifier, whether or not it was verified. A somewhat hacky thing I have to do is manually input the amount of assemblies that had no assemblies, because those assemblies don't make it to the final output file.\n",
    "\n",
    "First, it would be very helpful to know how many assemblies there were total in the analysis."
   ]
  },
  {
   "cell_type": "code",
   "execution_count": 28,
   "metadata": {},
   "outputs": [
    {
     "name": "stdout",
     "output_type": "stream",
     "text": [
      "    1224 data/Ecoli_samples.txt\n"
     ]
    }
   ],
   "source": [
    "!wc -l data/Ecoli_samples.txt"
   ]
  },
  {
   "cell_type": "code",
   "execution_count": 45,
   "metadata": {},
   "outputs": [],
   "source": [
    "%%R\n",
    "num_samples <- 1224"
   ]
  },
  {
   "cell_type": "code",
   "execution_count": 33,
   "metadata": {},
   "outputs": [
    {
     "name": "stdout",
     "output_type": "stream",
     "text": [
      "# A tibble: 2 × 2\n",
      "  verified     n\n",
      "  <lgl>    <int>\n",
      "1 FALSE      145\n",
      "2 TRUE       220\n"
     ]
    }
   ],
   "source": [
    "%%R\n",
    "best_hits %>%\n",
    "\tfilter(component == \"microcins.verified\") %>%\n",
    "\tfilter(hmmerHit == TRUE) %>%\n",
    "\tcount(verified) "
   ]
  },
  {
   "cell_type": "code",
   "execution_count": 57,
   "metadata": {},
   "outputs": [],
   "source": [
    "%%R\n",
    "verified_microcins <- best_hits %>%\n",
    "\tfilter(component == \"microcins.verified\") %>%\n",
    "\tfilter(hmmerHit == TRUE) %>%\n",
    "\tcount(verified) %>%\n",
    "\tfilter(verified == TRUE) %>%\n",
    "\tselect(n) %>%\n",
    "\tas.integer()"
   ]
  },
  {
   "cell_type": "code",
   "execution_count": 86,
   "metadata": {},
   "outputs": [],
   "source": [
    "%%R\n",
    "\n",
    "verified_microcin_peptides <- best_hits %>%\n",
    "\tfilter(component == \"microcins.verified\") %>%\n",
    "\tfilter(hmmerHit == TRUE) %>%\n",
    "\tfilter(verified == TRUE) %>%\n",
    "\tcount(pephash) %>%\n",
    "\tselect(n) %>%\n",
    "\tsummarise(n_unique_peptides = n()) %>%\n",
    "\tas.integer()\n"
   ]
  },
  {
   "cell_type": "code",
   "execution_count": 58,
   "metadata": {},
   "outputs": [],
   "source": [
    "%%R\n",
    "novel_microcins <- best_hits %>%\n",
    "\tfilter(component == \"microcins.verified\") %>%\n",
    "\tfilter(hmmerHit == TRUE) %>%\n",
    "\tcount(verified) %>%\n",
    "\tfilter(verified == FALSE) %>%\n",
    "\tselect(n) %>%\n",
    "\tas.integer()"
   ]
  },
  {
   "cell_type": "code",
   "execution_count": 52,
   "metadata": {},
   "outputs": [
    {
     "name": "stdout",
     "output_type": "stream",
     "text": [
      "[1] 365\n"
     ]
    }
   ],
   "source": [
    "%%R\n",
    "samples_w_microcins <- best_hits %>%\n",
    "\tfilter(component == \"microcins.verified\") %>%\n",
    "\tfilter(hmmerHit == TRUE) %>%\n",
    "\tcount(verified) %>%\n",
    "\tsummarise(sum = sum(n)) %>%\n",
    "\tas.integer()\n",
    "samples_w_microcins"
   ]
  },
  {
   "cell_type": "code",
   "execution_count": 47,
   "metadata": {},
   "outputs": [
    {
     "name": "stdout",
     "output_type": "stream",
     "text": [
      "[1] 859\n"
     ]
    }
   ],
   "source": [
    "%%R\n",
    "samples_wo_microcins <- num_samples - as.integer(samples_w_microcins)\n",
    "samples_wo_microcins"
   ]
  },
  {
   "cell_type": "code",
   "execution_count": 59,
   "metadata": {},
   "outputs": [
    {
     "name": "stdout",
     "output_type": "stream",
     "text": [
      "`summarise()` has grouped output by 'pephash', 'verified', 'sample'. You can override using the `.groups` argument.\n"
     ]
    }
   ],
   "source": [
    "%%R\n",
    "best_hits %>%\n",
    "\tfilter(component == \"microcins.verified\") %>%\n",
    "\tgroup_by(pephash,verified,sample,seq) %>% summarise(n = n()) %>%\n",
    "\tungroup() %>%\n",
    "\tmutate(verified = as.factor(verified)) %>%\n",
    "\tadd_row(pephash=NA, verified=\"no_microcin\",n=samples_wo_microcins) %>%\n",
    "\twrite_csv(\"data/supplemental/Ecoli_microcin_treemap_data.csv\")\n"
   ]
  },
  {
   "cell_type": "markdown",
   "metadata": {},
   "source": [
    "## initial treemap\n",
    "\n",
    "I set up two treemap figures, one with just the main three classes, and the other with the second subdivision. This isn't something that should be necessary, but it ended up being the only way for me to get the final figure to my liking."
   ]
  },
  {
   "cell_type": "code",
   "execution_count": 60,
   "metadata": {},
   "outputs": [
    {
     "name": "stdout",
     "output_type": "stream",
     "text": [
      "`summarise()` has grouped output by 'pephash', 'verified'. You can override using the `.groups` argument.\n",
      "`summarise()` has grouped output by 'pephash', 'verified'. You can override using the `.groups` argument.\n"
     ]
    },
    {
     "data": {
      "image/png": "[encoded data removed]"
     },
     "metadata": {},
     "output_type": "display_data"
    },
    {
     "data": {
      "image/png": "[encoded data removed]"
     },
     "metadata": {},
     "output_type": "display_data"
    }
   ],
   "source": [
    "%%R -w 600\n",
    "best_hits_TM <- best_hits %>%\n",
    "\tfilter(component == \"microcins.verified\") %>%\n",
    "\tfilter(hmmerHit == TRUE) %>%\n",
    "\tgroup_by(pephash,verified,sample) %>% summarise(n = n()) %>%\n",
    "\tungroup() %>%\n",
    "\tmutate(verified = as.factor(verified)) %>%\n",
    "\tadd_row(pephash=NA, verified=\"no_microcin\",n=samples_wo_microcins) %>% \n",
    "\ttreemap(\n",
    "\t\tindex = c(\"verified\",\"pephash\"),\n",
    "        vSize = \"n\",\n",
    "\t\tborder.col=c(\"black\",\"white\"),\n",
    "    \tborder.lwds=c(3,2),\n",
    "\t\tfontsize.labels=c(0,0),\n",
    "\t\tpalette = c(\"#659eb0\",\"#054457\",\"#BBBBBB\")\n",
    "\t)\n",
    "\n",
    "best_hits_TM_verified <- best_hits %>%\n",
    "\tfilter(component == \"microcins.verified\") %>%\n",
    "\tfilter(hmmerHit == TRUE) %>%\n",
    "\tgroup_by(pephash,verified,sample) %>% summarise(n = n()) %>%\n",
    "\tungroup() %>%\n",
    "\tmutate(verified = as.factor(verified)) %>%\n",
    "\tadd_row(pephash=NA, verified=\"no_microcin\",n=samples_wo_microcins) %>% \n",
    "\ttreemap(\n",
    "\t\tindex = c(\"verified\"),\n",
    "        vSize = \"n\",\n",
    "\t\tborder.col=c(\"black\",\"white\"),\n",
    "    \tborder.lwds=c(3,2),\n",
    "\t\tfontsize.labels=c(0,0),\n",
    "\t\tpalette = c(\"#659eb0\",\"#054457\",\"#BBBBBB\")\n",
    "\t)\n"
   ]
  },
  {
   "cell_type": "markdown",
   "metadata": {},
   "source": [
    "The next is less than fun, but just a way of wrangling data so that the final figure looks nice."
   ]
  },
  {
   "cell_type": "code",
   "execution_count": 62,
   "metadata": {},
   "outputs": [],
   "source": [
    "%%R\n",
    "best_hits_TM_data <- best_hits_TM$tm %>%\n",
    "\tmutate(x1 = x0 + w,\n",
    "         y1 = y0 + h) %>% \n",
    "  # get center coordinates for labels\n",
    "  mutate(x = (x0+x1)/2,\n",
    "         y = (y0+y1)/2) %>% \n",
    "  # mark primary groupings and set boundary thickness\n",
    "  mutate(primary_group = ifelse(is.na(verified), 2, .5)) %>% \n",
    "  # remove colors from primary groupings (since secondary is already colored)\n",
    "  mutate(color = ifelse(is.na(verified), NA, color))\n",
    "\n",
    "\n",
    "best_hits_TM_data_verified <- best_hits_TM_verified$tm %>%\n",
    "\tmutate(x1 = x0 + w,\n",
    "         y1 = y0 + h) %>% \n",
    "  # get center coordinates for labels\n",
    "  mutate(x = (x0+x1)/2,\n",
    "         y = (y0+y1)/2) %>% \n",
    "  # mark primary groupings and set boundary thickness\n",
    "  mutate(primary_group = ifelse(is.na(verified), 1,1 )) %>% \n",
    "  # remove colors from primary groupings (since secondary is already colored)\n",
    "  mutate(color = ifelse(is.na(verified), NA, color))\n",
    "\n",
    "best_hits_TM_data <- as.tibble(best_hits_TM_data) %>%\n",
    "\tmutate(color =\n",
    "\t\tcase_when(\n",
    "\t\t\tverified == \"FALSE\" ~ \"#659eb0\",# \"#659eb0\",\n",
    "\t\t\tverified == \"TRUE\" ~ \"#F4B3A5\",#\"#C8E3B9\",#\"#054457\",\n",
    "\t\t\tverified == \"no_microcin\" ~ \"#BBBBBB\"\n",
    "\t\t)\n",
    "\t)\n"
   ]
  },
  {
   "cell_type": "markdown",
   "metadata": {},
   "source": [
    "Now we can plug this into ggplot with our first intermediate plot"
   ]
  },
  {
   "cell_type": "code",
   "execution_count": 63,
   "metadata": {},
   "outputs": [
    {
     "data": {
      "image/png": "[encoded data removed]"
     },
     "metadata": {},
     "output_type": "display_data"
    }
   ],
   "source": [
    "%%R \n",
    "\n",
    "p1 <- ggplot(best_hits_TM_data, aes(xmin = x0, ymin = y0, xmax = x1, ymax = y1)) + \n",
    "  # add fill and borders for groups and subgroups\n",
    "\n",
    "  geom_rect(aes(fill = color, size = primary_group),\n",
    "            show.legend = FALSE, color = \"white\", alpha = 0.4) +\n",
    "  scale_fill_identity() +\n",
    "  # set thicker lines for group borders\n",
    "  scale_size(range = range(best_hits_TM_data$primary_group)) +\n",
    "  geom_rect(aes(\n",
    "                xmin = best_hits_TM_data_verified$x0[1], \n",
    "                ymin = best_hits_TM_data_verified$y0[1], \n",
    "                xmax = best_hits_TM_data_verified$x1[1], \n",
    "                ymax = best_hits_TM_data_verified$y1[1], \n",
    "            ),\n",
    "                fill = NA, color = \"black\") +\n",
    "  geom_rect(aes(xmin = best_hits_TM_data_verified$x0[2], \n",
    "                ymin = best_hits_TM_data_verified$y0[2], \n",
    "                xmax = best_hits_TM_data_verified$x1[2], \n",
    "                ymax = best_hits_TM_data_verified$y1[2]\n",
    "                ),\n",
    "                 fill = NA, color = \"black\") +\n",
    "  geom_rect(aes(xmin = best_hits_TM_data_verified$x0[3], \n",
    "                ymin = best_hits_TM_data_verified$y0[3], \n",
    "                xmax = best_hits_TM_data_verified$x1[3], \n",
    "                ymax = best_hits_TM_data_verified$y1[3]),\n",
    "                fill = NA, color = \"black\") +\n",
    "  \n",
    "  theme_nothing() \n",
    "\n",
    "\n",
    "\n",
    "p1 \n",
    "# ggsave(\"best_hits_treemap.png\")\n"
   ]
  },
  {
   "cell_type": "markdown",
   "metadata": {},
   "source": [
    "Now we just annotate it with numbers that represent the size of the large rectangles and the smaller sub-rectangles. I did this manually, though probably it is better to figure out a way to get these values from the dataset.\n",
    "\n",
    "Alright, I'm back and definitely need to at least figure out a way to get the other values non-manually. There isn't really a way around manually typing 818, though honestly the only hardcoded value should be total number of assemblies. "
   ]
  },
  {
   "cell_type": "code",
   "execution_count": 68,
   "metadata": {},
   "outputs": [
    {
     "name": "stdout",
     "output_type": "stream",
     "text": [
      "[1] \"assemblies: 859\"\n"
     ]
    }
   ],
   "source": [
    "%%R\n",
    "paste(\"assemblies:\",as.character(samples_wo_microcins))"
   ]
  },
  {
   "cell_type": "code",
   "execution_count": 98,
   "metadata": {},
   "outputs": [
    {
     "data": {
      "image/png": "[encoded data removed]"
     },
     "metadata": {},
     "output_type": "display_data"
    }
   ],
   "source": [
    "%%R -w 600\n",
    "microcin_treemap <- p1  + \n",
    "\tannotate(\"text\",x = 0.05, y = 0.95, \n",
    "\t\tlabel = paste(\"assemblies no microcins:\", as.character(samples_wo_microcins)), \n",
    "\t\tsize = 5, hjust = 0) +\n",
    "\tannotate(\"text\", x = 0.05,y = 0.91, label = \"sequences: 0\", size = 5,hjust = 0) +\n",
    "\tannotate(\"text\",x = 0.71, y = 0.95, \n",
    "\t\tlabel =  paste(\"verified assemblies:\", as.character(verified_microcins)), #\"verified assemblies: 220\", \n",
    "\t\tsize = 5, hjust = 0) +\n",
    "\tannotate(\"text\",x = 0.71, y = 0.91, \n",
    "\t\tlabel = paste(\"sequences:\", as.character(verified_microcin_peptides)),#\"sequences: 6\" , \n",
    "\t\tsize = 5, hjust = 0) +\n",
    "\tannotate(\"text\",x = 0.71, y = 0.32 +0.04, \n",
    "\t\tlabel =  paste(\"novel assemblies:\", as.character(novel_microcins)), #label = \"novel assemblies: 186\", \n",
    "\t\tsize = 5, hjust = 0) +\n",
    "\tannotate(\"text\",x = 0.71, y = 0.28 +0.04, \n",
    "\t\tlabel = paste(\"sequences:\", as.character(novel_microcin_peptides)), #\"sequences: 95\" , \n",
    "\t\tsize = 5, hjust = 0) #+\n",
    "\n",
    "\n",
    "microcin_treemap\n",
    "# ggsave(\"best_hits_treemap_annotated.svg\")"
   ]
  },
  {
   "cell_type": "code",
   "execution_count": 99,
   "metadata": {},
   "outputs": [
    {
     "name": "stderr",
     "output_type": "stream",
     "text": [
      "R[write to console]: Saving 8.33 x 6.67 in image\n",
      "\n"
     ]
    }
   ],
   "source": [
    "%%R -w 600\n",
    "microcin_treemap\n",
    "ggsave(\"best_hits_treemap_annotated.svg\")"
   ]
  },
  {
   "cell_type": "code",
   "execution_count": 22,
   "metadata": {},
   "outputs": [
    {
     "data": {
      "image/png": "[encoded data removed]"
     },
     "metadata": {},
     "output_type": "display_data"
    }
   ],
   "source": [
    "%%R -w 600\n",
    "microcin_treemap <- p1  + \n",
    "\tannotate(\"text\",x = 0.05, y = 0.95, label = \"assemblies no microcins: 818\", size = 5, hjust = 0) +\n",
    "\tannotate(\"text\", x = 0.05,y = 0.91, label = \"sequences: 0\", size = 5,hjust = 0) +\n",
    "\tannotate(\"text\",x = 0.68, y = 0.95, label = \"verified assemblies: 220\" , size = 5, hjust = 0) +\n",
    "\tannotate(\"text\",x = 0.68, y = 0.91, label = \"sequences: 6\" , size = 5, hjust = 0) +\n",
    "\tannotate(\"text\",x = 0.68, y = 0.42, label = \"novel assemblies: 186\" , size = 5, hjust = 0) +\n",
    "\tannotate(\"text\",x = 0.68, y = 0.38, label = \"sequences: 95\" , size = 5, hjust = 0) #+\n",
    "\n",
    "\n",
    "microcin_treemap\n",
    "# ggsave(\"best_hits_treemap_annotated.svg\")"
   ]
  },
  {
   "cell_type": "code",
   "execution_count": 23,
   "metadata": {},
   "outputs": [
    {
     "name": "stderr",
     "output_type": "stream",
     "text": [
      "R[write to console]: Saving 6.67 x 6.67 in image\n",
      "\n"
     ]
    }
   ],
   "source": [
    "%%R \n",
    "microcin_treemap\n",
    "ggsave(\"plots/01_best_hits_treemap_annotated.svg\")"
   ]
  },
  {
   "cell_type": "markdown",
   "metadata": {},
   "source": [
    "# Data for table\n",
    "\n",
    "So I saved the data needed to make the figure, but that isn't necessarily the best for what I would like to have in the manuscript or for a supplemental. I want the novel peptides, as well as various metrics from BLAST and whatnot"
   ]
  },
  {
   "cell_type": "code",
   "execution_count": 22,
   "metadata": {},
   "outputs": [
    {
     "name": "stdout",
     "output_type": "stream",
     "text": [
      "# A tibble: 145 × 25\n",
      "   qseqid        sseqid pident length mismatch gapopen qstart  qend sstart  send\n",
      "   <chr>         <chr>   <dbl>  <dbl>    <dbl>   <dbl>  <dbl> <dbl>  <dbl> <dbl>\n",
      " 1 v1_PLS_987b1… E492_…   80.4     92       18       0      1    92      1    92\n",
      " 2 v1_PLS_07196… L_tr_…   99.0    102        1       0      1   102      4   105\n",
      " 3 v1_PLS_718e5… V_sp_…   81.2     16        3       0      1    16      1    16\n",
      " 4 v1_PLS_e4c44… H47_s…  100       75        0       0     23    97      1    75\n",
      " 5 v1_PLS_e4c44… H47_s…  100       75        0       0     23    97      1    75\n",
      " 6 v1_PLS_e4c44… H47_s…  100       75        0       0     23    97      1    75\n",
      " 7 v1_PLS_e4c44… H47_s…  100       75        0       0     23    97      1    75\n",
      " 8 v1_PLS_e4c44… H47_s…  100       75        0       0     23    97      1    75\n",
      " 9 v1_PLS_e4c44… H47_s…  100       75        0       0     23    97      1    75\n",
      "10 v1_PLS_e4c44… H47_s…  100       75        0       0     23    97      1    75\n",
      "# … with 135 more rows, and 15 more variables: evalue <dbl>, bitscore <dbl>,\n",
      "#   component <chr>, hmmerHit <lgl>, verified <lgl>, cinful_id <chr>,\n",
      "#   pephash <chr>, sample <chr>, contig <chr>, start <dbl>, stop <dbl>,\n",
      "#   strand <dbl>, allStandardAA <lgl>, seq <chr>, signalMatch <lgl>\n"
     ]
    }
   ],
   "source": [
    "%%R\n",
    "best_hits %>%\n",
    "\tfilter(component == \"microcins.verified\") %>%\n",
    "\tfilter(verified == FALSE) %>%\n",
    "\tfilter(hmmerHit == TRUE)"
   ]
  },
  {
   "cell_type": "code",
   "execution_count": 20,
   "metadata": {},
   "outputs": [],
   "source": [
    "%%R\n",
    "best_hits %>%\n",
    "\tfilter(component == \"microcins.verified\") %>%\n",
    "\tfilter(verified == FALSE) %>%\n",
    "\tfilter(hmmerHit == TRUE) %>%\n",
    "\tcount(seq, sseqid, pident) %>%\n",
    "\twrite_csv(\"data/supplemental/Ecoli_microcin_novel.csv\")"
   ]
  },
  {
   "cell_type": "code",
   "execution_count": null,
   "metadata": {},
   "outputs": [],
   "source": []
  }
 ],
 "metadata": {
  "interpreter": {
   "hash": "184da163bdcbc68ba00985bd6e7412525ff7507797be2878afd169be169c48f1"
  },
  "kernelspec": {
   "display_name": "Python 3.10.0 64-bit ('r_4.0.3': conda)",
   "language": "python",
   "name": "python3"
  },
  "language_info": {
   "codemirror_mode": {
    "name": "ipython",
    "version": 3
   },
   "file_extension": ".py",
   "mimetype": "text/x-python",
   "name": "python",
   "nbconvert_exporter": "python",
   "pygments_lexer": "ipython3",
   "version": "3.10.2"
  },
  "orig_nbformat": 4
 },
 "nbformat": 4,
 "nbformat_minor": 2
}
